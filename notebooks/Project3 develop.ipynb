{
 "cells": [
  {
   "cell_type": "markdown",
   "metadata": {},
   "source": [
    "# Process Sitelle data <a class=\"tocSkip\">\n",
    "    \n",
    "this notebook is used to try out stuff and not to produce science ready data\n",
    "\n",
    "* [ORB](https://orb.readthedocs.io) documentation\n",
    "* [ORCS](https://orcs.readthedocs.io/en/latest/index.html) documentation\n",
    "* [ORBS](https://github.com/thomasorb/orbs) github"
   ]
  },
  {
   "cell_type": "code",
   "execution_count": 2,
   "metadata": {},
   "outputs": [],
   "source": [
    "# reload modules after they have been modified\n",
    "%load_ext autoreload\n",
    "%autoreload 2\n",
    "\n",
    "import sys\n",
    "import logging\n",
    "from pathlib import Path\n",
    "import warnings\n",
    "\n",
    "import numpy as np\n",
    "import matplotlib.pyplot as plt\n",
    "\n",
    "from astropy.table import Table,join,vstack\n",
    "from astropy.io import fits,ascii\n",
    "from astropy.wcs import WCS\n",
    "import astropy.units as u\n",
    "from astropy.coordinates import SkyCoord\n",
    "from astropy.visualization import simple_norm"
   ]
  },
  {
   "cell_type": "code",
   "execution_count": 3,
   "metadata": {},
   "outputs": [],
   "source": [
    "plt.style.use('Tex.mplstyle')\n",
    "\n",
    "logging.basicConfig(stream=sys.stdout,format='%(levelname)s: %(message)s',level=logging.INFO)\n",
    "logger = logging.getLogger(__name__)\n",
    "\n",
    "single_column = 3.321 # in inch\n",
    "two_column    = 6.974 # in inch\n",
    "\n",
    "basedir  = Path('.')\n",
    "data_raw = Path('/mnt/g/') "
   ]
  },
  {
   "cell_type": "markdown",
   "metadata": {},
   "source": [
    "## Read in the data\n",
    "it might be necassary to mount the external drive first\n",
    "`sudo mount -t drvfs a: /mnt/g`\n",
    "\n",
    "### first the SITELLE data"
   ]
  },
  {
   "cell_type": "code",
   "execution_count": 4,
   "metadata": {},
   "outputs": [
    {
     "name": "stdout",
     "output_type": "stream",
     "text": [
      "WARNING: old cube architecture (level 1). IO performances could be reduced.\n",
      "INFO: Cube is level 1\n",
      "INFO: shape: (2048, 2064, 105)\n",
      "INFO: wavenumber calibration: True\n",
      "INFO: flux calibration: True\n",
      "INFO: wcs calibration: False\n",
      "NGC628\n"
     ]
    }
   ],
   "source": [
    "from orcs.process import SpectralCube\n",
    "from astropy.nddata import NDData\n",
    "\n",
    "name = 'NGC0628'\n",
    "\n",
    "filename = data_raw / 'SITELLE' /f'{name}_cube.hdf5'\n",
    "cube = SpectralCube(filename)\n",
    "print(cube.params['object_name'])\n",
    "\n",
    "# read in the deepframe file to get the correct 2d header\n",
    "filename = data_raw/'SITELLE'/f'{name}_deepframe.fits'\n",
    "#filename = Path(f'/mnt/g/SITELLE/{name}_deepframe.fits')\n",
    "with fits.open(filename) as hdul:\n",
    "    deepframe = NDData(data=hdul[0].data,\n",
    "                    meta=hdul[0].header,\n",
    "                    # for some reason the deepframe does not contain a valid WCS information\n",
    "                    wcs=cube.get_wcs())    "
   ]
  },
  {
   "cell_type": "code",
   "execution_count": 5,
   "metadata": {},
   "outputs": [],
   "source": [
    "# the WCS information in the fits cubes is correct\n",
    "filename = data_raw/'SITELLE'/f'{name}_cube.fits'\n",
    "with fits.open(filename) as hdul:\n",
    "    header = hdul[0].header\n",
    "wcs = WCS(header,naxis=2)\n",
    "#cube.set_wcs(wcs)"
   ]
  },
  {
   "cell_type": "code",
   "execution_count": null,
   "metadata": {},
   "outputs": [],
   "source": [
    "# save deepframe to file\n",
    "deep = cube.get_deep_frame()\n",
    "deep.to_fits(basedir/'SITELLE'/f'{name}_deepframe.fits')"
   ]
  },
  {
   "cell_type": "markdown",
   "metadata": {},
   "source": [
    "### and the MUSE data"
   ]
  },
  {
   "cell_type": "code",
   "execution_count": 6,
   "metadata": {},
   "outputs": [
    {
     "name": "stdout",
     "output_type": "stream",
     "text": [
      "using DR2\n",
      "1818 nebulae in NGC0628\n",
      "1818 regions in masks\n",
      "INFO: initialized with 1818 regions\n"
     ]
    }
   ],
   "source": [
    "from astropy.table import Table \n",
    "from reproject import reproject_interp\n",
    "from astropy.stats import sigma_clipped_stats\n",
    "from astropy.nddata import NDData\n",
    "\n",
    "DR = 'DR2'\n",
    "if DR=='DR1':\n",
    "    catalogue_file = data_raw/'MUSE_DR1'/'Nebulae catalogue'/'Nebulae_Catalogue.fits' \n",
    "    filter_file = data_raw/'MUSE_DR1'/'filterImages'/f'{name}_IMAGE_FOV_Johnson_B.fits'\n",
    "    mask_file = data_raw/'MUSE_DR1'/'Nebulae catalogue'/'spatial_masks'/f'{name}_HIIreg_mask.fits'.format(name) \n",
    "else:\n",
    "    catalogue_file = data_raw/'MUSE_DR2'/'Nebulae catalogue'/'Nebulae_Catalogue_DR2_native.fits' \n",
    "    filter_file = data_raw/'MUSE_DR2'/'filterImages'/f'{name}_IMAGE_FOV_Johnson_B_WCS_Pall_mad.fits'\n",
    "    mask_file = data_raw/'MUSE_DR2'/'Nebulae catalogue'/'spatial_masks'/f'{name}_HIIreg_mask.fits'.format(name) \n",
    "print(f'using {DR}')\n",
    "    \n",
    "with fits.open(catalogue_file) as hdul:\n",
    "    nebulae_catalogue = Table(hdul[1].data)\n",
    "    \n",
    "# muse image for reprojection\n",
    "with fits.open(filter_file) as hdul:    \n",
    "    muse_data = NDData(data=hdul['DATA'].data,\n",
    "                    mask=np.isnan(hdul['DATA'].data),\n",
    "                    meta=hdul['DATA'].header,\n",
    "                    wcs=WCS(hdul['DATA'].header))    \n",
    "    muse_data.data[muse_data.data==0] = np.nan\n",
    "\n",
    "with fits.open(mask_file) as hdul:\n",
    "    # -1 because the masks start with 1 instead of 0\n",
    "    nebulae_mask = NDData(hdul[0].data-1,mask=muse_data.mask,meta=hdul[0].header,wcs=WCS(hdul[0].header))\n",
    "    nebulae_mask.data[nebulae_mask.data==-1] = np.nan\n",
    "    \n",
    "    #mask_muse = hdul[0].data-1\n",
    "    #mask_muse_header = hdul[0].header\n",
    "    #interpolated_mask, _ = reproject_interp(hdul, deepframe_header)\n",
    "    #interpolated_mask=np.round(interpolated_mask,0)\n",
    "\n",
    "nebulae_catalogue = nebulae_catalogue[nebulae_catalogue['gal_name']==name]\n",
    "nebulae_catalogue.add_index('region_ID')\n",
    "nebulae_catalogue['SkyCoord'] = SkyCoord(nebulae_catalogue['cen_ra']*u.degree,nebulae_catalogue['cen_dec']*u.degree)\n",
    "print('{} nebulae in {}'.format(len(nebulae_catalogue),name))\n",
    "print('{} regions in masks'.format(len(np.unique(nebulae_mask.data[~np.isnan(nebulae_mask.data)]))))\n",
    "\n",
    "from region import Regions\n",
    "        \n",
    "muse_regions = Regions(mask=nebulae_mask.data,projection=nebulae_mask.meta,bkg=-1)"
   ]
  },
  {
   "cell_type": "markdown",
   "metadata": {},
   "source": [
    "## Plot region contours over image"
   ]
  },
  {
   "cell_type": "code",
   "execution_count": null,
   "metadata": {},
   "outputs": [],
   "source": [
    "muse_regions.plot(image=muse_data.data,regions=False,\n",
    "                     filename=basedir/'reports'/name/f'{name}_muse_regions_DR1.pdf',\n",
    "                     percent=98.5)"
   ]
  },
  {
   "cell_type": "code",
   "execution_count": null,
   "metadata": {},
   "outputs": [],
   "source": [
    "from astropy.nddata import Cutout2D\n",
    "\n",
    "# check if the position in the catalogue match the position in the mask\n",
    "def plot_region(row,mask):\n",
    "    \n",
    "    print(row['region_ID'])\n",
    "    \n",
    "    cutout = Cutout2D(mask.data,row['SkyCoord'],3*u.arcsec,wcs=mask.wcs)\n",
    "    \n",
    "    print(np.unique(cutout.data[~np.isnan(cutout.data)]))\n",
    "    \n",
    "    fig,ax=plt.subplots()\n",
    "    \n",
    "    im = ax.imshow(cutout.data)\n",
    "    \n",
    "    plt.show()\n",
    "    \n",
    "plot_region(nebulae_catalogue[20],nebulae_mask)"
   ]
  },
  {
   "cell_type": "code",
   "execution_count": null,
   "metadata": {},
   "outputs": [],
   "source": [
    "# determine the limits of the muse data in the sitelle image\n",
    "a, footprint = reproject_interp(muse_data,output_projection=wcs,shape_out=cube.shape[:2])\n",
    "\n",
    "xvalues = np.where(np.any(footprint,axis=0))\n",
    "xmin,xmax = np.min(xvalues),np.max(xvalues)\n",
    "yvalues = np.where(np.any(footprint,axis=1))\n",
    "ymin,ymax = np.min(yvalues),np.max(yvalues)"
   ]
  },
  {
   "cell_type": "code",
   "execution_count": null,
   "metadata": {},
   "outputs": [],
   "source": [
    "sitelle_regions = muse_regions.reproject(wcs,shape=cube.shape[:2])\n",
    "sitelle_regions.plot(image=deepframe.data,regions=False,\n",
    "                     filename=basedir/'reports'/name/f'{name}_sitelle_regions_{DR}.pdf',\n",
    "                     xlim=[xmin,xmax],ylim=[ymin,ymax], \n",
    "                     percent=99.3)"
   ]
  },
  {
   "cell_type": "markdown",
   "metadata": {},
   "source": [
    "### Plot deepframe and PHANGS data"
   ]
  },
  {
   "cell_type": "code",
   "execution_count": null,
   "metadata": {},
   "outputs": [],
   "source": [
    "fig = plt.figure(figsize=(two_column,two_column/2.))\n",
    "ax1 = fig.add_subplot(121, projection=wcs)\n",
    "#ax1.coords[0].set_major_formatter('hh:mm:ss.s')\n",
    "#ax1.coords[1].set_major_formatter('dd:mm:ss')\n",
    "\n",
    "norm = simple_norm(deepframe.data,clip=False,max_percent=99)\n",
    "ax1.imshow(deepframe.data,norm=norm,cmap='gray_r')\n",
    "ax1.set_title('deep frame cube')\n",
    "\n",
    "ax2 = fig.add_subplot(122, projection=muse_data.wcs)\n",
    "ax2.coords[0].set_major_formatter('hh:mm:ss.s')\n",
    "ax2.coords[1].set_major_formatter('dd:mm:ss')\n",
    "\n",
    "norm = simple_norm(muse_data.data,clip=False,max_percent=99)\n",
    "ax2.imshow(muse_data.data,norm=norm,cmap='gray_r')\n",
    "ax2.set_title('MUSE r-band')\n",
    "\n",
    "for ax in [ax1,ax2]:\n",
    "    ax.coords[0].set_ticklabel_visible(False)\n",
    "    ax.coords[1].set_ticklabel_visible(False)\n",
    "    ax.coords[0].set_ticks_visible(False)\n",
    "    ax.coords[1].set_ticks_visible(False)\n",
    "\n",
    "plt.tight_layout()\n",
    "plt.show()"
   ]
  },
  {
   "cell_type": "code",
   "execution_count": null,
   "metadata": {},
   "outputs": [],
   "source": [
    "from reproject import reproject_interp\n",
    "array, footprint = reproject_interp((deepframe.data,wcs), muse_data.meta)\n",
    "\n",
    "fig = plt.figure(figsize=(two_column,two_column/2))\n",
    "\n",
    "ax1 = fig.add_subplot(121, projection=muse_data.wcs)\n",
    "norm = simple_norm(array,clip=False,max_percent=99)\n",
    "ax1.imshow(array,norm=norm,cmap='gray_r')\n",
    "#ax1.set_title('Sitelle deep frame')\n",
    "\n",
    "ax2 = fig.add_subplot(122, projection=muse_data.wcs)\n",
    "norm = simple_norm(muse_data.data,clip=False,max_percent=99)\n",
    "ax2.imshow(muse_data.data,norm=norm,cmap='gray_r')\n",
    "#ax2.set_title('MUSE r-band image')\n",
    "\n",
    "for ax in [ax1,ax2]:\n",
    "    ax.coords[0].set_ticklabel_visible(False)\n",
    "    ax.coords[1].set_ticklabel_visible(False)\n",
    "    ax.coords[0].set_ticks_visible(False)\n",
    "    ax.coords[1].set_ticks_visible(False)\n",
    "\n",
    "plt.subplots_adjust(top=0.5)\n",
    "plt.tight_layout()\n",
    "plt.savefig(basedir/'img'/name/'sitelle_reprojected.pdf',bbox_inches='tight',dpi=600)\n",
    "\n",
    "plt.show()"
   ]
  },
  {
   "cell_type": "code",
   "execution_count": null,
   "metadata": {},
   "outputs": [],
   "source": [
    "fig = plt.figure(figsize=(6,6))\n",
    "\n",
    "ax1 = fig.add_subplot(111, projection=muse_data.wcs)\n",
    "ax1.coords[0].set_major_formatter('hh:mm:ss.s')\n",
    "ax1.coords[1].set_major_formatter('dd:mm:ss')\n",
    "\n",
    "norm = simple_norm(array,clip=False,max_percent=99)\n",
    "ax1.imshow(array,norm=norm,cmap='gray_r')\n",
    "\n",
    "norm = simple_norm(muse_data.data,clip=False,max_percent=95)\n",
    "ax1.imshow(muse_data.data,norm=norm,alpha=0.5,cmap='Reds_r')\n",
    "\n",
    "plt.show()"
   ]
  },
  {
   "cell_type": "markdown",
   "metadata": {},
   "source": [
    "see the MUSE data compared to the Sitelle data"
   ]
  },
  {
   "cell_type": "markdown",
   "metadata": {},
   "source": [
    "## Fit line to data\n",
    "\n",
    "### Define the relevant lines\n",
    "\n",
    "the data has a peak at<br>\n",
    "26738 1/cm = index 108 = 374.1 nm\n",
    "\n",
    "but [OII] should be at<br>\n",
    "26822 1/cm = index 114 = 372.8 nm\n",
    "\n"
   ]
  },
  {
   "cell_type": "code",
   "execution_count": 7,
   "metadata": {},
   "outputs": [
    {
     "data": {
      "text/latex": [
       "$[26828.935,~26815.252] \\; \\mathrm{\\frac{1}{cm}}$"
      ],
      "text/plain": [
       "<Quantity [26828.93522127, 26815.25176438] 1 / cm>"
      ]
     },
     "execution_count": 7,
     "metadata": {},
     "output_type": "execute_result"
    }
   ],
   "source": [
    "lines = ['[OII]3726','[OII]3729']\n",
    "lam   = np.array([372.7319,372.9221])\n",
    "wave  = (1/(lam*u.nm).to(u.cm))\n",
    "wave"
   ]
  },
  {
   "cell_type": "code",
   "execution_count": 8,
   "metadata": {},
   "outputs": [
    {
     "data": {
      "text/latex": [
       "$[3.8848088 \\times 10^{-5},~3.8801452 \\times 10^{-5},~3.8754927 \\times 10^{-5},~\\dots,~3.4605578 \\times 10^{-5},~3.4568566 \\times 10^{-5},~3.4531634 \\times 10^{-5}] \\; \\mathrm{cm}$"
      ],
      "text/plain": [
       "<Quantity [3.88480883e-05, 3.88014519e-05, 3.87549274e-05, 3.87085143e-05,\n",
       "           3.86622123e-05, 3.86160209e-05, 3.85699397e-05, 3.85239684e-05,\n",
       "           3.84781065e-05, 3.84323537e-05, 3.83867096e-05, 3.83411738e-05,\n",
       "           3.82957458e-05, 3.82504254e-05, 3.82052121e-05, 3.81601056e-05,\n",
       "           3.81151055e-05, 3.80702114e-05, 3.80254229e-05, 3.79807397e-05,\n",
       "           3.79361614e-05, 3.78916875e-05, 3.78473179e-05, 3.78030520e-05,\n",
       "           3.77588896e-05, 3.77148302e-05, 3.76708735e-05, 3.76270192e-05,\n",
       "           3.75832668e-05, 3.75396161e-05, 3.74960667e-05, 3.74526182e-05,\n",
       "           3.74092702e-05, 3.73660225e-05, 3.73228747e-05, 3.72798264e-05,\n",
       "           3.72368773e-05, 3.71940270e-05, 3.71512753e-05, 3.71086217e-05,\n",
       "           3.70660659e-05, 3.70236076e-05, 3.69812465e-05, 3.69389823e-05,\n",
       "           3.68968145e-05, 3.68547428e-05, 3.68127671e-05, 3.67708868e-05,\n",
       "           3.67291017e-05, 3.66874114e-05, 3.66458157e-05, 3.66043142e-05,\n",
       "           3.65629066e-05, 3.65215926e-05, 3.64803719e-05, 3.64392441e-05,\n",
       "           3.63982089e-05, 3.63572660e-05, 3.63164151e-05, 3.62756560e-05,\n",
       "           3.62349882e-05, 3.61944115e-05, 3.61539256e-05, 3.61135301e-05,\n",
       "           3.60732249e-05, 3.60330094e-05, 3.59928836e-05, 3.59528470e-05,\n",
       "           3.59128994e-05, 3.58730405e-05, 3.58332699e-05, 3.57935875e-05,\n",
       "           3.57539928e-05, 3.57144856e-05, 3.56750656e-05, 3.56357326e-05,\n",
       "           3.55964862e-05, 3.55573262e-05, 3.55182522e-05, 3.54792640e-05,\n",
       "           3.54403613e-05, 3.54015438e-05, 3.53628112e-05, 3.53241634e-05,\n",
       "           3.52855999e-05, 3.52471205e-05, 3.52087249e-05, 3.51704129e-05,\n",
       "           3.51321842e-05, 3.50940385e-05, 3.50559756e-05, 3.50179951e-05,\n",
       "           3.49800968e-05, 3.49422805e-05, 3.49045459e-05, 3.48668926e-05,\n",
       "           3.48293206e-05, 3.47918294e-05, 3.47544188e-05, 3.47170886e-05,\n",
       "           3.46798385e-05, 3.46426682e-05, 3.46055776e-05, 3.45685663e-05,\n",
       "           3.45316341e-05] cm>"
      ]
     },
     "execution_count": 8,
     "metadata": {},
     "output_type": "execute_result"
    }
   ],
   "source": [
    "k_min = cube.params['CRVAL3'] * 1/u.cm\n",
    "d_k   = cube.params['CDELT3'] * 1/u.cm\n",
    "steps = cube.params['step_nb']\n",
    "\n",
    "wavenumbers = np.linspace(k_min,k_min+d_k*steps,steps)\n",
    "wavelenghts = 1/wavenumbers\n",
    "\n",
    "wavelenghts"
   ]
  },
  {
   "cell_type": "markdown",
   "metadata": {},
   "source": [
    "the spectra in the data cube will be redshifted\n",
    "\n",
    "$$\n",
    "z = \\frac{\\lambda_\\text{obs}}{\\lambda_0}-1 \\quad \\rightarrow \\quad \\lambda_0 = \\frac{\\lambda_\\text{obs}}{1+z}\n",
    "$$\n",
    "note that the cube is in wavenumbers (1/cm). This means we need to multiply with $1+z$ instead"
   ]
  },
  {
   "cell_type": "code",
   "execution_count": 9,
   "metadata": {},
   "outputs": [
    {
     "name": "stdout",
     "output_type": "stream",
     "text": [
      "z=0.0022 for NGC0628\n"
     ]
    }
   ],
   "source": [
    "from astropy.coordinates import Distance\n",
    "\n",
    "@u.quantity_input(distance='length', velocity='speed')\n",
    "def calculate_redshift(distance=None,velocity=None):\n",
    "    '''Calculate the redshift from a given distance or velocity\n",
    "        \n",
    "    v = D * H0\n",
    "    \n",
    "    z = v / c\n",
    "    \n",
    "    z = l_obs / l_0 - 1\n",
    "\n",
    "    \n",
    "    distance:\n",
    "        distance to the object\n",
    "    \n",
    "    velocity:\n",
    "        recessional velocity \n",
    "    '''\n",
    "    \n",
    "    H0 = 70 * u.km / u.s / u.Mpc\n",
    "    c  = 299792458 * u.m/u.s\n",
    "\n",
    "    if not isinstance(distance,astropy.coordinates.distances.Distance) and not isinstance(velocity,astropy.units.quantity.Quantity):\n",
    "        raise ValueError('need either distance or velocity')\n",
    "    \n",
    "    if isinstance(distance,astropy.coordinates.distances.Distance):\n",
    "        velocity = H0 * distance \n",
    "        \n",
    "    z = velocity / c\n",
    "    \n",
    "    return z.decompose()\n",
    "\n",
    "if name == 'NGC2835':\n",
    "    z=calculate_redshift(Distance(12.38*u.Mpc))\n",
    "elif name == 'NGC4535':\n",
    "    z=calculate_redshift(distance=Distance(distmod=30.99))\n",
    "elif name == 'NGC3351':\n",
    "    z=calculate_redshift(distance=Distance(distmod=30.116))\n",
    "elif name == 'NGC0628':\n",
    "    z=calculate_redshift(distance=Distance(distmod=29.9))\n",
    "else:\n",
    "    raise ValueError('unkown galaxy: '+name)\n",
    "\n",
    "print('z={:.4f} for {}'.format(z,name))"
   ]
  },
  {
   "cell_type": "markdown",
   "metadata": {},
   "source": [
    "### Fit single spectrum"
   ]
  },
  {
   "cell_type": "markdown",
   "metadata": {},
   "source": [
    "line velocity"
   ]
  },
  {
   "cell_type": "code",
   "execution_count": 10,
   "metadata": {},
   "outputs": [
    {
     "name": "stdout",
     "output_type": "stream",
     "text": [
      "channel width in km/s at the mean wavenumber of the axis: 342.84\n"
     ]
    }
   ],
   "source": [
    "# it could be directly computed with the following formula\n",
    "c = 3e5 # lightspeed in km/s\n",
    "channel_width = cube.params.base_axis[1] - cube.params.base_axis[0]\n",
    "print(f'channel width in km/s at the mean wavenumber of the axis: {c * channel_width / wave[1].value:.2f}')"
   ]
  },
  {
   "cell_type": "code",
   "execution_count": 53,
   "metadata": {},
   "outputs": [
    {
     "name": "stdout",
     "output_type": "stream",
     "text": [
      "x,y=1076.0,258.4\n",
      " [==========] [100%] [completed in 0.040 s]                                   \n",
      "Velocity (km/s):  [165(125) 165(125)]\n",
      "Broadening (km/s) [nan +- nan nan +- nan]\n",
      "flux: 2.26e-17,3.17e-17\n"
     ]
    },
    {
     "name": "stderr",
     "output_type": "stream",
     "text": [
      "/home/fabian/miniconda3/envs/orb3/lib/python3.7/site-packages/numpy/core/_asarray.py:83: ComplexWarning: Casting complex values to real discards the imaginary part\n",
      "  return array(a, dtype, copy=False, order=order)\n"
     ]
    },
    {
     "data": {
      "image/png": "[encoded data removed]",
      "text/plain": [
       "<Figure size 576x216 with 1 Axes>"
      ]
     },
     "metadata": {},
     "output_type": "display_data"
    }
   ],
   "source": [
    "# set up the fit to check if before running the long extraction process over the whole ROI\n",
    "vel = 80\n",
    "if name=='NGC2835':\n",
    "    x,y = 895, 1014   # for NGC2835\n",
    "elif name=='NGC4535':\n",
    "    x,y = 500,503      # for NGC4535\n",
    "elif name=='NGC0628':\n",
    "    RA, DEC = 24.193673,15.74246\n",
    "    pos = SkyCoord(RA*u.degree,DEC*u.degree)\n",
    "    x,y=pos.to_pixel(wcs)\n",
    "\n",
    "    print(f'x,y={x:.1f},{y:.1f}')\n",
    "else:\n",
    "    print('specify x,y')\n",
    "    \n",
    "k1,k2 = wave.value/(1+z)\n",
    "amp_ratio = cube.get_amp_ratio_from_flux_ratio(k1,k2,1.4)\n",
    "\n",
    "axis, spectrum, fit = cube.fit_lines_in_spectrum(x,y, 2,\n",
    "                                                 [k1,k2],\n",
    "                                                 fmodel='sinc',\n",
    "                                                 pos_def=['1','1'],\n",
    "                                                 pos_cov=[vel],\n",
    "                                                 amp_def=['1','1'],\n",
    "                                                 amp_guess=[1, amp_ratio],\n",
    "                                                 snr_guess=None,\n",
    "                                                 nofilter=True)\n",
    "\n",
    "print('Velocity (km/s): ', fit['velocity_gvar'])\n",
    "print('Broadening (km/s)', fit['broadening_gvar'])\n",
    "new_vel = fit['velocity'][0], fit['velocity'][1]\n",
    "print('flux: {:.3g},{:.3g}'.format(*fit['flux']))\n",
    "\n",
    "plt.figure(figsize=(8,3))\n",
    "plt.plot(axis, spectrum, label='spectrum')\n",
    "plt.plot(axis, fit['fitted_vector'], label='Fitted spectrum')\n",
    "\n",
    "for x in wave.value:\n",
    "    plt.axvline(x/(1+z),linewidth=0.4,color='tab:red')\n",
    "plt.xlabel('wavenumber / cm^-1')\n",
    "    \n",
    "#pl.plot(axis, fit['fitted_vector'], label='fitted model')\n",
    "plt.xlim((26000,27500))\n",
    "plt.legend()\n",
    "plt.grid()"
   ]
  },
  {
   "cell_type": "code",
   "execution_count": 50,
   "metadata": {},
   "outputs": [
    {
     "data": {
      "text/plain": [
       "array([6.81998868e-17])"
      ]
     },
     "execution_count": 50,
     "metadata": {},
     "output_type": "execute_result"
    }
   ],
   "source": [
    "fit['flux']"
   ]
  },
  {
   "cell_type": "markdown",
   "metadata": {},
   "source": [
    "### Fit lines in  integrated region (from Nebulae catalogue)"
   ]
  },
  {
   "cell_type": "code",
   "execution_count": 6,
   "metadata": {},
   "outputs": [
    {
     "ename": "NameError",
     "evalue": "name 'z' is not defined",
     "output_type": "error",
     "traceback": [
      "\u001b[0;31m---------------------------------------------------------------------------\u001b[0m",
      "\u001b[0;31mNameError\u001b[0m                                 Traceback (most recent call last)",
      "\u001b[0;32m<ipython-input-6-68fdf3340c50>\u001b[0m in \u001b[0;36m<module>\u001b[0;34m()\u001b[0m\n\u001b[1;32m      5\u001b[0m \u001b[0;31m# set up the fit to check if before running the long extraction process over the whole ROI\u001b[0m\u001b[0;34m\u001b[0m\u001b[0;34m\u001b[0m\u001b[0;34m\u001b[0m\u001b[0m\n\u001b[1;32m      6\u001b[0m \u001b[0mvel\u001b[0m \u001b[0;34m=\u001b[0m \u001b[0;36m80\u001b[0m\u001b[0;34m\u001b[0m\u001b[0;34m\u001b[0m\u001b[0m\n\u001b[0;32m----> 7\u001b[0;31m \u001b[0mk1\u001b[0m\u001b[0;34m,\u001b[0m\u001b[0mk2\u001b[0m \u001b[0;34m=\u001b[0m \u001b[0mwave\u001b[0m\u001b[0;34m.\u001b[0m\u001b[0mvalue\u001b[0m\u001b[0;34m/\u001b[0m\u001b[0;34m(\u001b[0m\u001b[0;36m1\u001b[0m\u001b[0;34m+\u001b[0m\u001b[0mz\u001b[0m\u001b[0;34m)\u001b[0m\u001b[0;34m\u001b[0m\u001b[0;34m\u001b[0m\u001b[0m\n\u001b[0m\u001b[1;32m      8\u001b[0m \u001b[0mamp_ratio\u001b[0m \u001b[0;34m=\u001b[0m \u001b[0mcube\u001b[0m\u001b[0;34m.\u001b[0m\u001b[0mget_amp_ratio_from_flux_ratio\u001b[0m\u001b[0;34m(\u001b[0m\u001b[0mk1\u001b[0m\u001b[0;34m,\u001b[0m\u001b[0mk2\u001b[0m\u001b[0;34m,\u001b[0m\u001b[0;36m1.4\u001b[0m\u001b[0;34m)\u001b[0m\u001b[0;34m\u001b[0m\u001b[0;34m\u001b[0m\u001b[0m\n",
      "\u001b[0;31mNameError\u001b[0m: name 'z' is not defined"
     ]
    }
   ],
   "source": [
    "lines = ['[OII]3726', '[OII]3729']\n",
    "lam   = np.array([372.7319,372.9221])\n",
    "wave  = (1/(lam*u.nm).to(u.cm))\n",
    "\n",
    "# set up the fit to check if before running the long extraction process over the whole ROI\n",
    "vel = 80\n",
    "k1,k2 = wave.value/(1+z)\n",
    "amp_ratio = cube.get_amp_ratio_from_flux_ratio(k1,k2,1.4)"
   ]
  },
  {
   "cell_type": "code",
   "execution_count": null,
   "metadata": {},
   "outputs": [],
   "source": [
    "sitelle_regions = muse_regions.reproject(wcs,shape=cube.shape[:2])"
   ]
  },
  {
   "cell_type": "markdown",
   "metadata": {},
   "source": [
    " we first test with one single region"
   ]
  },
  {
   "cell_type": "code",
   "execution_count": null,
   "metadata": {},
   "outputs": [],
   "source": [
    "reg = sitelle_regions.coords[1]\n",
    "axis, spectrum, fit_dict = cube.fit_lines_in_integrated_region(reg,\n",
    "                                                               [k1,k2],\n",
    "                                                               fmodel='sinc',\n",
    "                                                               pos_def=['1','1'],\n",
    "                                                               pos_cov=[vel],\n",
    "                                                               amp_def=['1','1'],\n",
    "                                                               amp_guess=[1, amp_ratio],\n",
    "                                                               snr_guess=None,\n",
    "                                                               nofilter=False                                        \n",
    "                                                              )\n",
    "\n",
    "# or to extract spectra\n",
    "#a,s = cube.extract_integrated_spectrum(sitelle_regions.coords[4])\n",
    "# mean,median,std=sigma_clipped_stats(s[(a>26000) & (a<27500)])\n",
    "\n",
    "plt.figure(figsize=(12,3))\n",
    "plt.plot(axis, spectrum, label='spectrum')\n",
    "plt.plot(axis, fit_dict['fitted_vector'], label='Fitted spectrum')"
   ]
  },
  {
   "cell_type": "markdown",
   "metadata": {},
   "source": [
    "and now for the entire catalogue"
   ]
  },
  {
   "cell_type": "code",
   "execution_count": null,
   "metadata": {},
   "outputs": [],
   "source": [
    "import time\n",
    "from astropy.table import Table\n",
    "from astropy.io import fits\n",
    "\n",
    "def measure_flux_in_regions(cube,regions,labels):\n",
    "    '''measure the fluxes in `regions` and save the result (plus spectrum) to a file\n",
    "    '''\n",
    "    \n",
    "    start_time = time.time()\n",
    "    vel = 80\n",
    "    k1,k2 = wave.value/(1+z)\n",
    "    amp_ratio = cube.get_amp_ratio_from_flux_ratio(k1,k2,1.4)\n",
    "    \n",
    "    # create dict to save output\n",
    "    result = {\n",
    "      'gal_name' : [],\n",
    "      'region_ID' : [], \n",
    "      'cen_x' : [],\n",
    "      'cen_y' : [],\n",
    "      'region_area' : [],\n",
    "      'OII3727_FLUX' : [],\n",
    "      'OII3729_FLUX' : [],\n",
    "      'OII3727_FLUX_ERR' : [],\n",
    "      'OII3729_FLUX_ERR' : [],    \n",
    "    }\n",
    "    \n",
    "    # lists to save complete spectra\n",
    "    region_id = []\n",
    "    axis      = []\n",
    "    spectrum  = []\n",
    "    fit       = []\n",
    "    fit_err   = []\n",
    "    \n",
    "    logger.info('measuring fluxes in {} regions'.format(len(regions)))\n",
    "    \n",
    "    i = 1\n",
    "    for r,l in zip(regions,labels):\n",
    "        print('measuring region {} of {}'.format(i,len(regions)))\n",
    "        i+=1 \n",
    "        a, s, f = cube.fit_lines_in_integrated_region(\n",
    "                                           r,\n",
    "                                           [k1,k2],\n",
    "                                           fmodel='sinc',\n",
    "                                           pos_def=['1','1'],\n",
    "                                           pos_cov=[vel],\n",
    "                                           amp_def=['1','1'],\n",
    "                                           amp_guess=[1, amp_ratio],\n",
    "                                           snr_guess=None,\n",
    "                                           nofilter=False                                        \n",
    "                                                     )\n",
    "        # previous run for NGC2835 used nofilter=True\n",
    "        \n",
    "        # save result to table\n",
    "        cen_x,cen_y = np.array(r).mean(axis=1)\n",
    "        result['gal_name'].append(name)\n",
    "        result['region_ID'].append(l)\n",
    "        result['cen_x'].append(cen_x)\n",
    "        result['cen_y'].append(cen_y)\n",
    "        result['region_area'].append(len(r[0]))\n",
    "        result['OII3727_FLUX'].append(f['flux'][0])\n",
    "        result['OII3729_FLUX'].append(f['flux'][1])\n",
    "        result['OII3727_FLUX_ERR'].append(f['flux_err'][0])\n",
    "        result['OII3729_FLUX_ERR'].append(f['flux_err'][1])\n",
    "             \n",
    "        region_id.append(l)\n",
    "        axis.append(np.float64(a))\n",
    "        spectrum.append(np.real(s))\n",
    "        fit.append(f['fitted_vector'])\n",
    "        fit_err.append(f['fitted_vector_gvar'])\n",
    "            \n",
    "        if np.any(np.imag(s)):\n",
    "            print(f'imaginary spectrum for id={region_ID}')\n",
    "\n",
    "    logger.info('fluxes measured for all regions')\n",
    "    \n",
    "    # table with condensed output\n",
    "    result = Table(result,names=('gal_name','region_ID','cen_x','cen_y','region_area',\n",
    "                   'OII3727_FLUX','OII3729_FLUX','OII3727_FLUX_ERR','OII3729_FLUX_ERR'))\n",
    "    \n",
    "    # format columns\n",
    "    result['cen_x'].info.format = '%.2f'\n",
    "    result['cen_y'].info.format = '%.2f'    \n",
    "    for col in ['OII3727_FLUX','OII3729_FLUX','OII3727_FLUX_ERR','OII3729_FLUX_ERR']:\n",
    "        result[col] *= u.erg / u.cm**2 / u.s\n",
    "        result[col].info.format = '%.3e'\n",
    "    \n",
    "    # write to file\n",
    "    hdu = fits.BinTableHDU(result,name='fluxes')\n",
    "    hdu.writeto(basedir/'data'/f'{name}_nebulae_OII_{DR}.fits',overwrite=True)\n",
    "    \n",
    "    # table with the full spectral information\n",
    "    \n",
    "    # this format uses a separate extension for axis, spectrum etc. \n",
    "    #primary_hdu = fits.PrimaryHDU()\n",
    "    #hdul = fits.HDUList([primary_hdu])\n",
    "    #hdul.append(fits.BinTableHDU(Table(axis,names=region_id),name='axis'))\n",
    "    #hdul.append(fits.BinTableHDU(Table(spectrum,names=region_id),name='spectrum'))\n",
    "    #hdul.append(fits.BinTableHDU(Table(fit,names=region_id),name='fit'))\n",
    "    #hdul.append(fits.BinTableHDU(Table(fit_err,names=region_id),name='fit_err'))\n",
    "    \n",
    "    spectra = Table(data=[region_id,axis,spectrum,fit,fit_err],\n",
    "                    names=['region_ID','axis','spectrum','fit','fit_err'])\n",
    "    spectra['axis'] /= u.cm\n",
    "    spectra['spectrum'] *= u.erg/u.cm**2/u.s/u.AA\n",
    "    spectra['fit'] *= u.erg/u.cm**2/u.s/u.AA\n",
    "    spectra['fit_err'] *= u.erg/u.cm**2/u.s/u.AA\n",
    "    \n",
    "    hdu = fits.BinTableHDU(spectra,name='spectra')\n",
    "    hdu.writeto(basedir/'data'/'spectra'/f'{name}_spectra_OII_{DR}.fits',overwrite=True)\n",
    "    \n",
    "    \n",
    "    print('done in {}'.format(time.strftime(\"%Hh %Mm %Ss\", time.gmtime(time.time() - start_time))))\n",
    "\n",
    "    return result, spectra\n",
    "        \n",
    "result,spectra = measure_flux_in_regions(cube,sitelle_regions.coords,sitelle_regions.labels)"
   ]
  },
  {
   "cell_type": "markdown",
   "metadata": {},
   "source": [
    "### Fit entire image (from DS9 region)\n",
    "\n",
    "[see here](https://orcs.readthedocs.io/en/latest/examples/fit_region.html)\n",
    "\n",
    "we cover a region between 350 and 400 nm\n",
    "\n",
    "| NAME | Air Wavelength |\n",
    "|------|----------------|\n",
    "|[OII]3726 |\t372.7319|\n",
    "|[OII]3727 |\t372.7319|\n",
    "|[OII]3729 |\t372.9221|\n",
    "|[NeIII]3869 |\t386.876 |\n"
   ]
  },
  {
   "cell_type": "code",
   "execution_count": null,
   "metadata": {},
   "outputs": [],
   "source": [
    "import pyregion\n",
    "# define a region in ds9 and hten read it here\n",
    "# this uses the wrong WCS information (maybe it does not matter because DS9 also uses the wrong WCS)\n",
    "r = pyregion.open(basedir/'data'/'regions'/f'{name}.reg').as_imagecoord(deepframe.meta)"
   ]
  },
  {
   "cell_type": "code",
   "execution_count": null,
   "metadata": {},
   "outputs": [],
   "source": [
    "fig = plt.figure(figsize=(4,4))\n",
    "ax1 = fig.add_subplot(111, projection=deepframe.wcs)\n",
    "ax1.coords[0].set_major_formatter('hh:mm:ss.s')\n",
    "ax1.coords[1].set_major_formatter('dd:mm:ss')\n",
    "\n",
    "ax1.imshow(deepframe.data, \n",
    "          vmin=np.nanpercentile(deepframe.data, 0.1),\n",
    "          vmax=np.nanpercentile(deepframe.data, 99.9),\n",
    "          cmap='gray_r')\n",
    "ax1.set_title(name,pad=20)\n",
    "\n",
    "patch_list, artist_list = r.get_mpl_patches_texts()\n",
    "\n",
    "# ax is a mpl Axes object\n",
    "for p in patch_list:\n",
    "    ax1.add_patch(p)\n",
    "for t in artist_list:\n",
    "    ax1.add_artist(t)\n",
    "\n",
    "fig.tight_layout()\n",
    "plt.show()\n"
   ]
  },
  {
   "cell_type": "code",
   "execution_count": null,
   "metadata": {},
   "outputs": [],
   "source": [
    "vel = 220\n",
    "orb.core.Logger(debug=False)\n",
    "cube.fit_lines_in_region(basedir/'data'/'regions'/f'{name}.reg',\n",
    "                         wave[1:].value/(1+z),\n",
    "                         fmodel='sinc',\n",
    "                         pos_def=['1','1'],\n",
    "                         pos_cov=[vel],\n",
    "                         amp_def=['1','1'],\n",
    "                         amp_guess=[1, amp_ratio],\n",
    "                         binning=3, snr_guess=None,\n",
    "                         nofilter=True)"
   ]
  },
  {
   "cell_type": "markdown",
   "metadata": {},
   "source": [
    "#### Save to file, reprojected to MUSE"
   ]
  },
  {
   "cell_type": "code",
   "execution_count": null,
   "metadata": {},
   "outputs": [],
   "source": [
    "from reproject import reproject_interp, reproject_exact\n",
    "\n",
    "def combine_fits(name,folder,output_projection):\n",
    "    '''combine the different linemaps into one fits file\n",
    "    \n",
    "    \n",
    "    '''\n",
    "    \n",
    "    if not folder.is_dir():\n",
    "        raise IOError('folder does not exist')\n",
    "\n",
    "    data = []\n",
    "    data_header = []\n",
    "    err  = []\n",
    "    err_header = []\n",
    "    \n",
    "    # so astropy doesn't warn us that the wcs contains unused sip information\n",
    "    logger = logging.getLogger('astropy')\n",
    "    logger.setLevel(logging.WARNING)  \n",
    "    \n",
    "    for flux_file in [x for x in (folder / 'MAPS').iterdir() if x.name.endswith('flux.fits')]:\n",
    "        err_file = flux_file.with_name(flux_file.stem + '-err.fits')\n",
    "        \n",
    "        with fits.open(flux_file) as hdul:\n",
    "            linemap, _ = reproject_exact(hdul, output_projection)\n",
    "            data.append(linemap)\n",
    "            data_header.append(hdul[0].header)\n",
    "            \n",
    "        with fits.open(err_file) as hdul:\n",
    "            linemap, _ = reproject_exact(hdul, output_projection)\n",
    "            err.append(linemap)\n",
    "            err_header.append(hdul[0].header)         \n",
    "         \n",
    "    object_name = name\n",
    "    print(str(len(data)) + ' linemaps found for ' + object_name)\n",
    "\n",
    "    \n",
    "    keywords = ['PROGRAM','DATE','OBSERVAT','TELESCOP','INSTRUME','MJD-OBS','DATE-OBS']\n",
    "\n",
    "    primary_header = fits.Header()\n",
    "    for card in data_header[0].cards:\n",
    "        if card[0] in keywords:\n",
    "            primary_header.append(card)\n",
    "    \n",
    "    l = float(data_header[0]['FILETYPE'].split(' ')[-1])/(1+z)\n",
    "    \n",
    "    # get this from somewhere else\n",
    "    primary_header.insert('PROGRAM ',('OBJECT',object_name,'Object Name'))\n",
    "        \n",
    "    primary_hdu = fits.PrimaryHDU(header=primary_header)\n",
    "    hdul = fits.HDUList([primary_hdu]) \n",
    "    print('primary extension created')\n",
    "    \n",
    "    for d,dh,e,eh in zip(data,data_header,err,err_header):\n",
    "        \n",
    "        # get the original wavelength of the line\n",
    "        l = float(dh['FILETYPE'].split(' ')[-1])/(1+z)\n",
    "        header = WCS(output_projection).to_header()\n",
    "        header['BITPIX'] = (-32,'array data type')\n",
    "        header.insert(0,('FILETYPE','Map flux {:.0f}'.format(l)))\n",
    "        header.append()\n",
    "        \n",
    "        hdu = fits.ImageHDU(data=d,header=header,name='OII{:.0f}'.format(l))\n",
    "        hdul.append(hdu)\n",
    "        \n",
    "        header['FILETYPE'] = 'Map flux error {:.0f}'.format(l)\n",
    "        hdu = fits.ImageHDU(data=e,header=header,name='OII{:.0f}_err'.format(l))\n",
    "        hdul.append(hdu)\n",
    "        \n",
    "        #single = fits.PrimaryHDU(d)\n",
    "        #single.writeto('[OII]{:.0f}.fits'.format(l))\n",
    "        \n",
    "    print('all extensions created')\n",
    "    \n",
    "    hdul.writeto('data/{}_OII_maps.fits'.format(object_name),overwrite=True)\n",
    "    print('saved to file')\n",
    "    \n",
    "    return hdul\n",
    "#combine_fits(Path('NGC2835_SN1.1.0.ORCS'),muse_header)\n",
    "hdul = combine_fits(name,Path('M95_SN1.1.0.ORCS'),muse_header)\n"
   ]
  },
  {
   "cell_type": "code",
   "execution_count": null,
   "metadata": {},
   "outputs": [],
   "source": [
    "with fits.open('data/M95_OII_maps.fits') as hdul:\n",
    "    h0 = hdul[0].header\n",
    "    OII_header = hdul[1].header\n",
    "    \n",
    "    OII3727 = hdul['OII3727'].data\n",
    "    OII3727_err = hdul['OII3727_ERR'].data\n",
    "    OII3729 = hdul['OII3729'].data\n",
    "    OII3729_err = hdul['OII3729_ERR'].data"
   ]
  },
  {
   "cell_type": "code",
   "execution_count": null,
   "metadata": {},
   "outputs": [],
   "source": [
    "fig = plt.figure(figsize=(12,6))\n",
    "ax1  = fig.add_subplot(131, projection=WCS(OII_header))\n",
    "ax1.coords[0].set_major_formatter('hh:mm:ss.s')\n",
    "ax1.coords[1].set_major_formatter('dd:mm:ss')\n",
    "\n",
    "norm = simple_norm(muse_data,'linear',clip=False,percent=99)\n",
    "ax1.imshow(muse_data,norm=norm,cmap='gray')\n",
    "\n",
    "ax1.set_title('MUSE')\n",
    "\n",
    "ax2  = fig.add_subplot(132, projection=WCS(OII_header))\n",
    "ax2.coords[0].set_major_formatter('hh:mm:ss.s')\n",
    "ax2.coords[1].set_major_formatter('dd:mm:ss')\n",
    "\n",
    "norm = simple_norm(OII3729,'linear',clip=False,percent=99)\n",
    "ax2.imshow(OII3729,norm=norm,cmap='Blues',alpha=1)\n",
    "\n",
    "ax2.set_title('SITELLE')\n",
    "\n",
    "ax3  = fig.add_subplot(133, projection=WCS(OII_header))\n",
    "ax3.coords[0].set_major_formatter('hh:mm:ss.s')\n",
    "ax3.coords[1].set_major_formatter('dd:mm:ss')\n",
    "\n",
    "\n",
    "norm = simple_norm(muse_data,'linear',clip=False,percent=99)\n",
    "ax3.imshow(muse_data,norm=norm,cmap='gray',alpha=1)\n",
    "norm = simple_norm(OII3729,'linear',clip=False,percent=99)\n",
    "ax3.imshow(OII3729,norm=norm,cmap='Blues',alpha=0.6)\n",
    "\n",
    "ax3.set_title('combined')\n",
    "\n",
    "plt.tight_layout()\n",
    "plt.subplots_adjust(wspace=0.3)\n",
    "\n",
    "plt.show()"
   ]
  },
  {
   "cell_type": "code",
   "execution_count": null,
   "metadata": {},
   "outputs": [],
   "source": [
    "OIIsum = np.sum(cube[:,:,108:110],axis=2)"
   ]
  },
  {
   "cell_type": "code",
   "execution_count": null,
   "metadata": {},
   "outputs": [],
   "source": [
    "fig = plt.figure(figsize=(10,4))\n",
    "ax1 = fig.add_subplot(131, projection=WCS(deep_frame_header))\n",
    "ax1.coords[0].set_major_formatter('hh:mm:ss.s')\n",
    "ax1.coords[1].set_major_formatter('dd:mm:ss')\n",
    "\n",
    "ax1.imshow(deep_frame, \n",
    "          vmin=np.nanpercentile(deep_frame, 0.1),\n",
    "          vmax=np.nanpercentile(deep_frame, 99.9),\n",
    "          cmap='gray_r')\n",
    "patch_list, artist_list = r.get_mpl_patches_texts()\n",
    "# ax is a mpl Axes object\n",
    "for p in patch_list:\n",
    "    ax1.add_patch(p)\n",
    "for t in artist_list:\n",
    "    ax1.add_artist(t)\n",
    "    \n",
    "ax2 = fig.add_subplot(132, projection=WCS(OII_header))\n",
    "ax2.coords[0].set_major_formatter('hh:mm:ss.s')\n",
    "ax2.coords[1].set_major_formatter('dd:mm:ss')\n",
    "norm = simple_norm(OII3729,'linear',clip=False,percent=99)\n",
    "ax2.imshow(OII3729,norm=norm,cmap='Blues',alpha=1)\n",
    "\n",
    "ax3 = fig.add_subplot(133, projection=WCS(deep_frame_header))\n",
    "ax3.coords[0].set_major_formatter('hh:mm:ss.s')\n",
    "ax3.coords[1].set_major_formatter('dd:mm:ss')\n",
    "norm = simple_norm(OIIsum,'linear',clip=False,percent=99)\n",
    "ax3.imshow(OIIsum.T,norm=norm,cmap='Blues',alpha=1)\n",
    "\n",
    "ax1.coords[0].set_ticks(number=2)\n",
    "ax2.coords[0].set_ticks(number=2)\n",
    "ax3.coords[0].set_ticks(number=2)\n",
    "ax2.coords[1].set_ticklabel_visible(False)\n",
    "ax3.coords[1].set_ticklabel_visible(False)\n",
    "\n",
    "plt.tight_layout()\n",
    "\n",
    "ax1.set(xlim=[700,1400],ylim=[600,1500],title='whitelight',xlabel='R.A. (J2000)',ylabel='Dec. (J2000)')\n",
    "ax2.set(title='[OII] from fit',xlabel='R.A. (J2000)')\n",
    "ax3.set(xlim=[700,1400],ylim=[600,1500],title='[OII] from sum',xlabel='R.A. (J2000)')\n",
    "#ax2.set(xlim=[60,140],ylim=[50,150])\n",
    "\n",
    "plt.show()"
   ]
  },
  {
   "cell_type": "markdown",
   "metadata": {},
   "source": [
    "## Read catalogue and spectra from file"
   ]
  },
  {
   "cell_type": "code",
   "execution_count": 1,
   "metadata": {},
   "outputs": [],
   "source": [
    "name = 'NGC0628'"
   ]
  },
  {
   "cell_type": "code",
   "execution_count": 7,
   "metadata": {},
   "outputs": [],
   "source": [
    "with fits.open('data/{}_nebulae_OII.fits'.format(name)) as hdul:\n",
    "    result = Table(hdul[1].data)\n",
    "with fits.open('data/spectra/{}_spectra_OII.fits'.format(name)) as hdul:\n",
    "    spectra = Table(hdul[1].data)\n",
    "result.add_index('region_ID')\n",
    "spectra.add_index('region_ID')"
   ]
  },
  {
   "cell_type": "code",
   "execution_count": 10,
   "metadata": {},
   "outputs": [
    {
     "data": {
      "text/html": [
       "<i>Table length=1818</i>\n",
       "<table id=\"table140213175841936\" class=\"table-striped table-bordered table-condensed\">\n",
       "<thead><tr><th>gal_name</th><th>region_ID</th><th>cen_x</th><th>cen_y</th><th>region_area</th><th>OII3727_FLUX</th><th>OII3729_FLUX</th><th>OII3727_FLUX_ERR</th><th>OII3729_FLUX_ERR</th></tr></thead>\n",
       "<thead><tr><th>str7</th><th>int64</th><th>float64</th><th>float64</th><th>int64</th><th>float64</th><th>float64</th><th>float64</th><th>float64</th></tr></thead>\n",
       "<tr><td>NGC0628</td><td>859</td><td>712.1</td><td>1570.6666666666667</td><td>30</td><td>-6.933317645684404e-17</td><td>-9.726472547428508e-17</td><td>3.010270429556809e-17</td><td>4.222987347427366e-17</td></tr>\n",
       "<tr><td>NGC0628</td><td>1237</td><td>330.2068965517241</td><td>1153.5172413793102</td><td>29</td><td>-5.635662280955369e-17</td><td>-7.906044012913503e-17</td><td>2.620677460186657e-17</td><td>3.6764430356131504e-17</td></tr>\n",
       "<tr><td>NGC0628</td><td>392</td><td>616.8105263157895</td><td>1131.2736842105264</td><td>95</td><td>-5.4286659356034903e-17</td><td>-7.61565716301398e-17</td><td>5.618595696646742e-17</td><td>7.882101988007207e-17</td></tr>\n",
       "<tr><td>NGC0628</td><td>529</td><td>1045.6857142857143</td><td>1415.95</td><td>140</td><td>-5.167602007602778e-17</td><td>-7.249421075388121e-17</td><td>7.692086194316528e-17</td><td>1.0790918435425037e-16</td></tr>\n",
       "<tr><td>NGC0628</td><td>984</td><td>488.3888888888889</td><td>1313.2222222222222</td><td>18</td><td>-5.072766158731986e-17</td><td>-7.116379676206303e-17</td><td>2.2793569942967798e-17</td><td>3.197618277970636e-17</td></tr>\n",
       "<tr><td>NGC0628</td><td>623</td><td>634.734375</td><td>1115.28125</td><td>64</td><td>-4.9743853482186177e-17</td><td>-6.978365192873402e-17</td><td>5.11548734206154e-17</td><td>7.176311506548336e-17</td></tr>\n",
       "<tr><td>NGC0628</td><td>601</td><td>683.741935483871</td><td>1271.1129032258063</td><td>62</td><td>-4.846734271557704e-17</td><td>-6.799288630073067e-17</td><td>4.159101587764865e-17</td><td>5.834636386599309e-17</td></tr>\n",
       "<tr><td>NGC0628</td><td>129</td><td>651.1714285714286</td><td>1298.3238095238096</td><td>105</td><td>-4.7701094201149284e-17</td><td>-6.691794706947699e-17</td><td>5.82869128026733e-17</td><td>8.176836634658451e-17</td></tr>\n",
       "<tr><td>NGC0628</td><td>874</td><td>544.0</td><td>1253.7179487179487</td><td>39</td><td>-4.7202410993397604e-17</td><td>-6.621836444858273e-17</td><td>3.5066941391519136e-17</td><td>4.919400209208599e-17</td></tr>\n",
       "<tr><td>NGC0628</td><td>793</td><td>563.952380952381</td><td>1044.4444444444443</td><td>63</td><td>-4.623112425145263e-17</td><td>-6.4855785332207e-17</td><td>4.465972187001931e-17</td><td>6.265132811489077e-17</td></tr>\n",
       "<tr><td>...</td><td>...</td><td>...</td><td>...</td><td>...</td><td>...</td><td>...</td><td>...</td><td>...</td></tr>\n",
       "<tr><td>NGC0628</td><td>1186</td><td>857.0227272727273</td><td>1112.8636363636363</td><td>44</td><td>1.998504443878936e-16</td><td>2.8036215276248946e-16</td><td>3.591538652116687e-17</td><td>5.038425164983628e-17</td></tr>\n",
       "<tr><td>NGC0628</td><td>960</td><td>345.7028112449799</td><td>1153.5180722891566</td><td>249</td><td>2.0358142304118596e-16</td><td>2.855961926984612e-16</td><td>1.082790733119986e-16</td><td>1.5190035821966032e-16</td></tr>\n",
       "<tr><td>NGC0628</td><td>1154</td><td>748.4375</td><td>1163.8125</td><td>16</td><td>2.1606394218176958e-16</td><td>3.0310741689849615e-16</td><td>2.7253142620924713e-17</td><td>3.823233797727028e-17</td></tr>\n",
       "<tr><td>NGC0628</td><td>1239</td><td>757.65</td><td>1168.55</td><td>20</td><td>2.1666507540949575e-16</td><td>3.039507225330598e-16</td><td>3.463199841882005e-17</td><td>4.85838380840533e-17</td></tr>\n",
       "<tr><td>NGC0628</td><td>646</td><td>859.6683168316831</td><td>1380.3316831683169</td><td>202</td><td>2.335950848709518e-16</td><td>3.2770115207771716e-16</td><td>1.0287361114078076e-16</td><td>1.4431725268471646e-16</td></tr>\n",
       "<tr><td>NGC0628</td><td>489</td><td>740.4782608695652</td><td>1160.695652173913</td><td>23</td><td>2.362224642642079e-16</td><td>3.313869969857593e-16</td><td>3.1297998602217474e-17</td><td>4.3906703796184444e-17</td></tr>\n",
       "<tr><td>NGC0628</td><td>502</td><td>863.8347826086956</td><td>1122.3159420289855</td><td>345</td><td>4.770419670339051e-16</td><td>6.692229944512452e-16</td><td>1.2403576042159208e-16</td><td>1.7400478101431994e-16</td></tr>\n",
       "<tr><td>NGC0628</td><td>937</td><td>760.1494565217391</td><td>1674.985054347826</td><td>736</td><td>4.921784645825083e-16</td><td>6.904573782476295e-16</td><td>3.0751940767852664e-16</td><td>4.3140661216473206e-16</td></tr>\n",
       "<tr><td>NGC0628</td><td>1226</td><td>809.7118644067797</td><td>994.1016949152543</td><td>59</td><td>5.853742397390526e-16</td><td>8.211979839604909e-16</td><td>6.674103483409214e-17</td><td>9.362831421762841e-17</td></tr>\n",
       "<tr><td>NGC0628</td><td>313</td><td>752.9672131147541</td><td>1172.7377049180327</td><td>61</td><td>8.768168171763995e-16</td><td>1.2300510574037082e-15</td><td>5.5069662620449365e-17</td><td>7.725501542646788e-17</td></tr>\n",
       "</table>"
      ],
      "text/plain": [
       "<Table length=1818>\n",
       "gal_name region_ID ...    OII3727_FLUX_ERR       OII3729_FLUX_ERR   \n",
       "  str7     int64   ...        float64                float64        \n",
       "-------- --------- ... ---------------------- ----------------------\n",
       " NGC0628       859 ...  3.010270429556809e-17  4.222987347427366e-17\n",
       " NGC0628      1237 ...  2.620677460186657e-17 3.6764430356131504e-17\n",
       " NGC0628       392 ...  5.618595696646742e-17  7.882101988007207e-17\n",
       " NGC0628       529 ...  7.692086194316528e-17 1.0790918435425037e-16\n",
       " NGC0628       984 ... 2.2793569942967798e-17  3.197618277970636e-17\n",
       " NGC0628       623 ...   5.11548734206154e-17  7.176311506548336e-17\n",
       " NGC0628       601 ...  4.159101587764865e-17  5.834636386599309e-17\n",
       " NGC0628       129 ...   5.82869128026733e-17  8.176836634658451e-17\n",
       " NGC0628       874 ... 3.5066941391519136e-17  4.919400209208599e-17\n",
       " NGC0628       793 ...  4.465972187001931e-17  6.265132811489077e-17\n",
       "     ...       ... ...                    ...                    ...\n",
       " NGC0628      1186 ...  3.591538652116687e-17  5.038425164983628e-17\n",
       " NGC0628       960 ...  1.082790733119986e-16 1.5190035821966032e-16\n",
       " NGC0628      1154 ... 2.7253142620924713e-17  3.823233797727028e-17\n",
       " NGC0628      1239 ...  3.463199841882005e-17   4.85838380840533e-17\n",
       " NGC0628       646 ... 1.0287361114078076e-16 1.4431725268471646e-16\n",
       " NGC0628       489 ... 3.1297998602217474e-17 4.3906703796184444e-17\n",
       " NGC0628       502 ... 1.2403576042159208e-16 1.7400478101431994e-16\n",
       " NGC0628       937 ... 3.0751940767852664e-16 4.3140661216473206e-16\n",
       " NGC0628      1226 ...  6.674103483409214e-17  9.362831421762841e-17\n",
       " NGC0628       313 ... 5.5069662620449365e-17  7.725501542646788e-17"
      ]
     },
     "execution_count": 10,
     "metadata": {},
     "output_type": "execute_result"
    }
   ],
   "source": [
    "result.sort('OII3727_FLUX')\n",
    "result"
   ]
  },
  {
   "cell_type": "code",
   "execution_count": null,
   "metadata": {},
   "outputs": [],
   "source": [
    "result[result['OII3729_FLUX']/result['OII3729_FLUX_ERR']>3]"
   ]
  },
  {
   "cell_type": "code",
   "execution_count": null,
   "metadata": {},
   "outputs": [],
   "source": [
    "def plot_spectrum(axis,spectrum,fit=np.array([]),fit_err=np.array([])):\n",
    "    \n",
    "    fig = plt.figure(figsize=(12,3))\n",
    "    ax  = fig.add_subplot(111)\n",
    "\n",
    "    ax.plot(axis, spectrum, label='spectrum')\n",
    "    if len(fit)>0:\n",
    "        ax.plot(axis, fit, label='Fitted spectrum')\n",
    "        if len(fit_err)>0:\n",
    "            ax.fill_between(axis,fit - fit_err, fit + fit_err, color='tab:orange',alpha=0.2)\n",
    "\n",
    "    for x in wave.value:\n",
    "        ax.axvline(x/(1+z),linewidth=0.4,color='tab:red')\n",
    "    \n",
    "    ax.set(xlabel='wavenumber / cm^-1',\n",
    "           xlim=(26000,27500))\n",
    "    plt.legend()\n",
    "    plt.grid()\n",
    "    plt.show()\n",
    " \n",
    "\n",
    "row = spectra.loc[0]\n",
    "plot_spectrum(row['axis'],row['spectrum'],row['fit'],row['fit_err'])"
   ]
  },
  {
   "cell_type": "code",
   "execution_count": null,
   "metadata": {},
   "outputs": [],
   "source": [
    "nebulae_catalogue.loc[59]['HA6562_FLUX']"
   ]
  },
  {
   "cell_type": "code",
   "execution_count": null,
   "metadata": {},
   "outputs": [],
   "source": [
    "nebulae_catalogue.loc[l]['HA6562_FLUX']"
   ]
  },
  {
   "cell_type": "code",
   "execution_count": null,
   "metadata": {},
   "outputs": [],
   "source": [
    "sitelle_regions = muse_regions.reproject(wcs,shape=cube.shape[:2])\n",
    "\n",
    "OII_map = np.zeros_like(muse_data.data)\n",
    "for r,l in zip(muse_regions.coords,muse_regions.labels):\n",
    "    OII_map[r] = result.loc[l]['OII3729_FLUX']\n",
    "OII_map[OII_map==0] = np.nan\n",
    "\n",
    "HA_map = np.zeros_like(muse_data.data)\n",
    "\n",
    "for r,l in zip(muse_regions.coords,muse_regions.labels):\n",
    "    HA_map[r] = nebulae_catalogue.loc[l]['HA6562_FLUX']*1e-20\n",
    "HA_map[HA_map==0] = np.nan"
   ]
  },
  {
   "cell_type": "code",
   "execution_count": null,
   "metadata": {},
   "outputs": [],
   "source": [
    "from mpl_toolkits.axes_grid1 import make_axes_locatable\n",
    "\n",
    "fig = plt.figure(figsize=(6,6))\n",
    "ax1  = fig.add_subplot(111,projection=muse_data.wcs)\n",
    "ax1.coords[0].set_major_formatter('hh:mm:ss.s')\n",
    "ax1.coords[1].set_major_formatter('dd:mm:ss')\n",
    "\n",
    "norm = simple_norm(muse_data.data,stretch='asinh',clip=False,percent=98)\n",
    "ax1.imshow(muse_data.data,norm=norm,cmap=plt.cm.gray)  \n",
    "\n",
    "norm = simple_norm(OII_map,'linear',clip=False,percent=99)\n",
    "im = ax1.imshow(OII_map,norm=norm,alpha=0.8,cmap=plt.cm.Reds)\n",
    "\n",
    "for cont in muse_regions.contours:\n",
    "    ax1.plot(cont[:,1], cont[:,0], 'k-',lw=0.2)\n",
    "\n",
    "fig.colorbar(im,fraction=0.045, pad=0.07,label='flux / (erg/s/cm2)',ax=ax1)\n",
    "ax1.set(xlabel='R.A.',ylabel='Dec.',title='[OII]3729 Sitelle')\n",
    "\n",
    "'''\n",
    "ax2  = fig.add_subplot(122,projection=muse_regions.wcs)\n",
    "ax2.coords[0].set_major_formatter('hh:mm:ss.s')\n",
    "ax2.coords[1].set_major_formatter('dd:mm:ss')\n",
    "\n",
    "norm = simple_norm(muse_data,'linear',clip=False,percent=99)\n",
    "ax2.imshow(muse_data,norm=norm,cmap=plt.cm.gray) \n",
    "\n",
    "norm = simple_norm(HA_map,'linear',clip=False,min_cut=1e-15,max_cut=1e-13)\n",
    "im = ax2.imshow(HA_map,norm=norm,alpha=0.8,cmap=plt.cm.Reds)\n",
    "\n",
    "for cont in muse_regions.contours:\n",
    "    ax2.plot(cont[:,1], cont[:,0], 'k-',lw=0.2)\n",
    "\n",
    "fig.colorbar(im,fraction=0.045, pad=0.05,label='flux / (erg/s/cm2)',ax=ax2)\n",
    "ax2.set(xlabel='R.A.',ylabel='Dec.',title='HA6562 MUSE')\n",
    "'''\n",
    "\n",
    "plt.tight_layout()\n",
    "\n",
    "#plt.savefig(basedir/'img'/name/f'{name}_OII_flux.png',dpi=600)\n",
    "plt.savefig(basedir/'img'/name/f'{name}_OII_flux.pdf',dpi=600)\n",
    "plt.show()        "
   ]
  }
 ],
 "metadata": {
  "kernelspec": {
   "display_name": "Python 3",
   "language": "python",
   "name": "python3"
  },
  "language_info": {
   "codemirror_mode": {
    "name": "ipython",
    "version": 3
   },
   "file_extension": ".py",
   "mimetype": "text/x-python",
   "name": "python",
   "nbconvert_exporter": "python",
   "pygments_lexer": "ipython3",
   "version": "3.7.7"
  },
  "latex_envs": {
   "LaTeX_envs_menu_present": true,
   "autoclose": false,
   "autocomplete": true,
   "bibliofile": "biblio.bib",
   "cite_by": "apalike",
   "current_citInitial": 1,
   "eqLabelWithNumbers": true,
   "eqNumInitial": 1,
   "hotkeys": {
    "equation": "Ctrl-E",
    "itemize": "Ctrl-I"
   },
   "labels_anchors": false,
   "latex_user_defs": false,
   "report_style_numbering": false,
   "user_envs_cfg": false
  },
  "toc": {
   "base_numbering": 1,
   "nav_menu": {},
   "number_sections": true,
   "sideBar": true,
   "skip_h1_title": false,
   "title_cell": "Table of Contents",
   "title_sidebar": "Contents",
   "toc_cell": false,
   "toc_position": {
    "height": "calc(100% - 180px)",
    "left": "10px",
    "top": "150px",
    "width": "290.133px"
   },
   "toc_section_display": true,
   "toc_window_display": true
  }
 },
 "nbformat": 4,
 "nbformat_minor": 2
}
