{
 "cells": [
  {
   "cell_type": "markdown",
   "metadata": {},
   "source": [
    "# Project IV: [OII] fluxes <a class=\"tocSkip\">\n",
    "    \n",
    "the aim of this notebook is to combine the HII-region and cluster catalogues. \n",
    "    \n",
    "In this notebook we do the matching on a per galaxie basis. For each resolution, a set of output files is produced that matches the nebulae to the association catalogue\n"
   ]
  },
  {
   "cell_type": "code",
   "execution_count": null,
   "metadata": {},
   "outputs": [],
   "source": [
    "# reload modules after they have been modified\n",
    "%load_ext autoreload\n",
    "%autoreload 2\n",
    "\n",
    "from astrotools.packages import *\n",
    "\n",
    "from astrotools.constants import tab10, single_column, two_column\n",
    "\n",
    "%matplotlib inline\n",
    "%config InlineBackend.figure_format = 'retina'"
   ]
  },
  {
   "cell_type": "code",
   "execution_count": null,
   "metadata": {},
   "outputs": [],
   "source": [
    "logger = logging.getLogger('pymuse')\n",
    "handler = logging.StreamHandler(stream=sys.stdout)\n",
    "handler.setLevel(logging.INFO)\n",
    "fmt = logging.Formatter(\"%(asctime)-15s %(message)s\",datefmt='%H:%M:%S')\n",
    "handler.setFormatter(fmt)\n",
    "logger.addHandler(handler)\n",
    "basedir = Path('..')  # where we save stuff (and )\n",
    "data_ext = Path('a:')/'Archive' # raw data\n",
    "\n",
    "# we use the sample table for basic galaxy properties\n",
    "sample_table = ascii.read(basedir/'..'/'pnlf'/'data'/'interim'/'sample.txt')\n",
    "sample_table.add_index('name')\n",
    "sample_table['SkyCoord'] = SkyCoord(sample_table['R.A.'],sample_table['Dec.'])"
   ]
  },
  {
   "cell_type": "markdown",
   "metadata": {},
   "source": [
    "## Read in data\n",
    "\n",
    "the galaxies listed in `hst_sample` have a cluster catalogue. The galaxies listed in `muse_sample` have astrosat observations to measure the FUV."
   ]
  },
  {
   "cell_type": "code",
   "execution_count": null,
   "metadata": {},
   "outputs": [],
   "source": [
    "# choose which version of the association catalogue to use\n",
    "version = 'v1p2'\n",
    "HSTband = 'nuv'\n",
    "scalepc = 32\n",
    "\n",
    "name = 'NGC2835'"
   ]
  },
  {
   "cell_type": "markdown",
   "metadata": {},
   "source": [
    "### MUSE (DAP + nebulae catalogues)"
   ]
  },
  {
   "cell_type": "code",
   "execution_count": null,
   "metadata": {},
   "outputs": [],
   "source": [
    "from pnlf.auxiliary import filter_table\n",
    "from pnlf.io import ReadLineMaps\n",
    "\n",
    "p = {x:sample_table.loc[name][x] for x in sample_table.columns}\n",
    "\n",
    "# DAP linemaps (Halpha and OIII)\n",
    "filename = next((data_ext/'MUSE'/'DR2.1'/'copt'/'MUSEDAP').glob(f'{name}*.fits'))\n",
    "copt_res = float(filename.stem.split('-')[1].split('asec')[0])\n",
    "with fits.open(filename) as hdul:\n",
    "    Halpha = NDData(data=hdul['HA6562_FLUX'].data,\n",
    "                    uncertainty=StdDevUncertainty(hdul['HA6562_FLUX_ERR'].data),\n",
    "                    mask=np.isnan(hdul['HA6562_FLUX'].data),\n",
    "                    meta=hdul['HA6562_FLUX'].header,\n",
    "                    wcs=WCS(hdul['HA6562_FLUX'].header))\n",
    "    Hbeta = NDData(data=hdul['HB4861_FLUX'].data,\n",
    "                    uncertainty=StdDevUncertainty(hdul['HB4861_FLUX_ERR'].data),\n",
    "                    mask=np.isnan(hdul['HB4861_FLUX'].data),\n",
    "                    meta=hdul['HB4861_FLUX'].header,\n",
    "                    wcs=WCS(hdul['HB4861_FLUX'].header))\n",
    "    OIII = NDData(data=hdul['OIII5006_FLUX'].data,\n",
    "                    uncertainty=StdDevUncertainty(hdul['OIII5006_FLUX_ERR'].data),\n",
    "                    mask=np.isnan(hdul['OIII5006_FLUX'].data),\n",
    "                    meta=hdul['OIII5006_FLUX'].header,\n",
    "                    wcs=WCS(hdul['OIII5006_FLUX'].header)) \n",
    "\n",
    "# the original catalogue from Francesco\n",
    "filename = data_ext/'Products'/'Nebulae_catalogs'/'Nebulae_catalogue_v2'/'Nebulae_catalogue_v2.fits'\n",
    "with fits.open(filename) as hdul:\n",
    "    nebulae = Table(hdul[1].data)\n",
    "with fits.open(basedir/'data'/'data_v2p1'/'Nebulae_Catalogue_v2p1_OII.fits') as hdul:\n",
    "    OII_fluxes = Table(hdul[1].data)\n",
    "nebulae = join(nebulae,OII_fluxes,keys=['gal_name','region_ID'])\n",
    "\n",
    "nebulae['SkyCoord'] = SkyCoord(nebulae['cen_ra']*u.deg,nebulae['cen_dec']*u.deg,frame='icrs')\n",
    "nebulae.rename_columns(['cen_x','cen_y'],['x','y'])\n",
    "\n",
    "\n",
    "nebulae['HIIregion'] = (nebulae['BPT_NII']==0) & (nebulae['BPT_SII']==0) & (nebulae['BPT_OI']==0)\n",
    "HII_regions = filter_table(nebulae,gal_name=name,BPT_NII=0,BPT_SII=0,BPT_OI=0)\n",
    "nebulae = filter_table(nebulae,gal_name=name)\n",
    "nebulae.add_index('region_ID')\n",
    "HII_regions.add_index('region_ID')\n",
    "\n",
    "filename = data_ext/'Products'/'Nebulae_catalogs'/'Nebulae_catalogue_v2'/'spatial_masks'/f'{name}_nebulae_mask.fits'\n",
    "with fits.open(filename) as hdul:\n",
    "    nebulae_mask = NDData(hdul[0].data.astype(float),mask=Halpha.mask,meta=hdul[0].header,wcs=WCS(hdul[0].header))\n",
    "    nebulae_mask.data[nebulae_mask.data==-1] = np.nan\n",
    "    \n",
    "print(f'{name}: {len(HII_regions)} HII-regions in final catalogue')"
   ]
  },
  {
   "cell_type": "markdown",
   "metadata": {
    "heading_collapsed": true
   },
   "source": [
    "### HST\n",
    "\n",
    "**white light + filter images**"
   ]
  },
  {
   "cell_type": "code",
   "execution_count": null,
   "metadata": {
    "hidden": true
   },
   "outputs": [],
   "source": [
    "from cluster.io import read_associations\n",
    "\n",
    "target  = name.lower()\n",
    "\n",
    "# whitelight image (we set 0s to nan)\n",
    "white_light_filename = data_ext / 'HST' / 'white_light' / f'{name.lower()}_white_24rgb.fits'\n",
    "if white_light_filename.is_file():\n",
    "    with fits.open(white_light_filename) as hdul:\n",
    "        hst_whitelight = NDData(hdul[0].data,mask=hdul[0].data==0,meta=hdul[0].header,wcs=WCS(hdul[0].header))\n",
    "        hst_whitelight.data[hst_whitelight.data==0] = np.nan\n",
    "else:\n",
    "    logging.warning('no white light image')\n",
    "    \n",
    "# filter image with uncertainties\n",
    "filename = data_ext / 'HST' / 'filterImages' / f'hlsp_phangs-hst_hst_wfc3-uvis_{name.lower()}_f275w_v1_exp-drc-sci.fits'\n",
    "with fits.open(filename) as hdul:\n",
    "    F275 = NDData(hdul[0].data,\n",
    "                  mask=hdul[0].data==0,\n",
    "                  meta=hdul[0].header,\n",
    "                  wcs=WCS(hdul[0].header))\n",
    "filename = data_ext / 'HST' / 'filterImages' / f'hlsp_phangs-hst_hst_wfc3-uvis_{name.lower()}_f275w_v1_err-drc-wht.fits'\n",
    "with fits.open(filename) as hdul:\n",
    "    F275.uncertainty = StdDevUncertainty(hdul[0].data)\n",
    "    \n",
    "associations, associations_mask = read_associations(folder=data_ext/'Products'/'stellar_associations',target=target,\n",
    "                                                    HSTband=HSTband,scalepc=scalepc,version=version)\n",
    "\n",
    "\n",
    "print(f'{name}: {len(associations)} associations in catalogue')    \n",
    "# associations mask"
   ]
  },
  {
   "cell_type": "markdown",
   "metadata": {},
   "source": [
    "### SITELLE [OII]"
   ]
  },
  {
   "cell_type": "code",
   "execution_count": null,
   "metadata": {},
   "outputs": [],
   "source": [
    "from astrotools.regions import Regions\n",
    "from reproject import reproject_interp"
   ]
  },
  {
   "cell_type": "code",
   "execution_count": null,
   "metadata": {},
   "outputs": [],
   "source": [
    "with fits.open(basedir/'data'/'data_v2p1'/'maps'/'NGC2835_OII_map_reprojected.fits') as hdul:\n",
    "    OII = NDData(data=hdul[1].data,\n",
    "                 meta=hdul[1].header,\n",
    "                 wcs=WCS(hdul[1].header))"
   ]
  },
  {
   "cell_type": "code",
   "execution_count": null,
   "metadata": {},
   "outputs": [],
   "source": [
    "fig,(ax1,ax2,ax3) = plt.subplots(ncols=3,figsize=(10,4))\n",
    "\n",
    "for name,ax in zip(['NGC0628','NGC2835','NGC3351'],[ax1,ax2,ax3]):\n",
    "    with fits.open(basedir/'data'/'data_v2p1'/'maps'/f'{name}_OII_map.fits') as hdul:\n",
    "        OII_img = hdul['OII3726_FLUX'].data\n",
    "        OII_header = hdul['OII3726_FLUX'].header\n",
    "    \n",
    "    norm = simple_norm(OII_img,clip=False,percent=98)\n",
    "    ax.imshow(OII_img,norm=norm,origin='lower',cmap=plt.cm.Greys)\n",
    "    ax.set_title(name)\n",
    "    ax.axis('off')\n",
    "    \n",
    "plt.show()   "
   ]
  },
  {
   "cell_type": "markdown",
   "metadata": {},
   "source": [
    "## Compare Strong line prescriptions"
   ]
  },
  {
   "cell_type": "markdown",
   "metadata": {},
   "source": [
    "use [OII] line to calculate strong line and direct abundances"
   ]
  },
  {
   "cell_type": "code",
   "execution_count": null,
   "metadata": {},
   "outputs": [],
   "source": [
    "out_folder = 'data_v2p2'\n",
    "\n",
    "\n",
    "from astrotools.metallicity import diagnostic_line_ratios\n",
    "\n",
    "with fits.open(basedir / 'data' / out_folder / 'Nebulae_Catalogue_v2p1.fits') as hdul:\n",
    "    nebulae = Table(hdul[1].data)\n",
    "with fits.open(basedir/'data'/out_folder/'Nebulae_Catalogue_v2p1_OII.fits') as hdul:\n",
    "    OII_fluxes = Table(hdul[1].data)\n",
    "\n",
    "nebulae_with_OII = join(nebulae,OII_fluxes,keys=['gal_name','region_ID'])\n",
    "nebulae_with_OII = nebulae_with_OII[np.isin(nebulae_with_OII['gal_name'],['NGC0628','NGC2835','NGC3351','NGC4535'])]\n",
    "nebulae_with_OII = nebulae_with_OII[nebulae_with_OII['OII3726_FLUX_CORR']>0]\n",
    "\n",
    "line_ratios = diagnostic_line_ratios(nebulae_with_OII)"
   ]
  },
  {
   "cell_type": "markdown",
   "metadata": {},
   "source": [
    "compare with Figure 8 in Pilyugin+2016 (looks good if R2*=1.4)"
   ]
  },
  {
   "cell_type": "code",
   "execution_count": null,
   "metadata": {},
   "outputs": [],
   "source": [
    "from astrotools.metallicity import strong_line_metallicity_R, strong_line_metallicity_S\n",
    "\n",
    "subsample = nebulae_with_OII[nebulae_with_OII['OII3726_FLUX']>1*nebulae_with_OII['OII3726_FLUX_ERR']].copy()\n",
    "print(f'{len(subsample)} objects in sample')\n",
    "\n",
    "# looks a lot better with 1.4*R2\n",
    "subsample['OH_R'] = strong_line_metallicity_R(subsample['R2'],subsample['R3'],subsample['N2'])\n",
    "subsample['OH_S'] = strong_line_metallicity_S(subsample['S2'],subsample['R3'],subsample['N2'])\n",
    "\n",
    "fig,(ax1,ax2)=plt.subplots(ncols=2,figsize=(6,3))\n",
    "\n",
    "ax1.plot([8.1,8.8],[8.1,8.8],color='black')\n",
    "ax1.plot([8.1,8.8],[8.2,8.9],color='grey',ls='--')\n",
    "ax1.plot([8.1,8.8],[8.0,8.7],color='grey',ls='--')\n",
    "ax1.scatter(subsample['OH_S'],subsample['OH_R'],s=4,c=tab10[0])\n",
    "\n",
    "ax1.set(xlim=[8.1,8.8],ylim=[8.1,8.8],\n",
    "       xlabel='12+log(O/H)$_\\mathrm{S}$',\n",
    "       ylabel='12+log(O/H)$_\\mathrm{R}$')\n",
    "ax2.hist(subsample['OH_S']-subsample['OH_R'],bins=np.linspace(-0.3,0.3,20),histtype='step',color='black')\n",
    "ax2.set(xlabel=r'log(O/H)$_\\mathrm{S}-$log(O/H)$_\\mathrm{R}$')\n",
    "plt.savefig(basedir/'reports'/'12+logOH R vs S calibration.pdf',dpi=300)\n",
    "plt.show()"
   ]
  },
  {
   "cell_type": "markdown",
   "metadata": {},
   "source": [
    "with direct method. This requires electron temperature and density. They have to be measured in an itterative process"
   ]
  },
  {
   "cell_type": "code",
   "execution_count": null,
   "metadata": {},
   "outputs": [],
   "source": [
    "from astrotools.metallicity import electron_density_sulfur,\\\n",
    "                                electron_temperature_oxygen, electron_temperature_nitrogen,\\\n",
    "                                electron_temperature_sulfur, oxygen_abundance_direct\n",
    "   \n",
    "criteria = (line_ratios['OII7319_FLUX_CORR']>7*line_ratios['OII7319_FLUX_CORR_ERR']) & (line_ratios['OII3726_FLUX_CORR']>10*line_ratios['OII3726_FLUX_CORR_ERR'])\n",
    "subsample = line_ratios[criteria].copy()\n",
    "\n",
    "subsample['OH_R'] = strong_line_metallicity_R(subsample['R2'],subsample['R3'],subsample['N2'])\n",
    "subsample['OH_S'] = strong_line_metallicity_S(subsample['S2'],subsample['R3'],subsample['N2'])\n",
    "    \n",
    "# initial guess for the temperature\n",
    "subsample['t(NII)'] = electron_temperature_nitrogen(subsample['RN2'])\n",
    "subsample['t(SIII)'] = electron_temperature_sulfur(subsample['RS3'])\n",
    "subsample['n(SII)']  = electron_density_sulfur(subsample['RS2'],subsample['t(NII)'])\n",
    "\n",
    "for x in range(10):\n",
    "    subsample['t(OII)'] = electron_temperature_oxygen(subsample['RO2'],subsample['n(SII)'])\n",
    "    subsample['n(SII)'] = electron_density_sulfur(subsample['RS2'],subsample['t(OII)'])\n",
    "    print(np.nanmean(subsample['n(SII)']))\n",
    "\n",
    "subsample['OH_direct'] = oxygen_abundance_direct(subsample['R2'],subsample['R3'],subsample['t(OII)'],subsample['n(SII)'])\n"
   ]
  },
  {
   "cell_type": "code",
   "execution_count": null,
   "metadata": {},
   "outputs": [],
   "source": [
    "fig,(ax1,ax2)=plt.subplots(ncols=2,figsize=(6,3))\n",
    "\n",
    "ax1.plot([8.1,8.8],[8.1,8.8],color='black')\n",
    "ax1.plot([8.1,8.8],[8.2,8.9],color='grey',ls='--')\n",
    "ax1.plot([8.1,8.8],[8.0,8.7],color='grey',ls='--')\n",
    "ax1.scatter(subsample['OH_direct'],subsample['OH_R'],s=4,c=tab10[0])\n",
    "ax1.set(xlim=[8.1,8.8],ylim=[8.1,8.8],\n",
    "       xlabel='12+log(O/H) direct',\n",
    "       ylabel='12+log(O/H)$_\\mathrm{R}$')\n",
    "ax2.hist(subsample['OH_direct']-subsample['OH_R'],bins=np.linspace(-0.3,0.3,20),histtype='step',color='black')\n",
    "ax2.set(xlabel=r'log(O/H) direct$-$log(O/H)$_\\mathrm{R}$')\n",
    "#plt.savefig('12+logOH R vs S calibration.png',dpi=600)\n",
    "plt.show()"
   ]
  },
  {
   "cell_type": "markdown",
   "metadata": {},
   "source": [
    "compare with Figure 7 in Perez-Montero+2017"
   ]
  },
  {
   "cell_type": "code",
   "execution_count": null,
   "metadata": {},
   "outputs": [],
   "source": [
    "fig,ax=plt.subplots(figsize=(6,4))\n",
    "\n",
    "ax.scatter(np.log10(subsample['R23']),subsample['OH_direct'],s=4,c=subsample['logq_D91'])\n",
    "ax.set(xlim=[-0.4,1.4],ylim=[7.,9.0],\n",
    "       xlabel='log R23',\n",
    "       ylabel='12+log(O/H) direct')\n",
    "plt.show()"
   ]
  },
  {
   "cell_type": "code",
   "execution_count": null,
   "metadata": {},
   "outputs": [],
   "source": [
    "fig,ax=plt.subplots(figsize=(4,4))\n",
    "\n",
    "ax.plot([0.5,1.5],[0.5,1.5],color='black')\n",
    "ax.scatter(subsample['t(OII)'],subsample['t(NII)'],s=4,c=tab10[0])\n",
    "ax.set(xlim=[0.5,1.5],ylim=[0.5,1.5],\n",
    "       xlabel='t([OII])',\n",
    "       ylabel='t([NII])')\n",
    "#plt.savefig('12+logOH R vs S calibration.png',dpi=600)\n",
    "plt.show()"
   ]
  },
  {
   "cell_type": "markdown",
   "metadata": {},
   "source": [
    "## Compare ionisation parameter\n",
    "\n",
    "see also Kewley and Dopita 2002 (Fig 17)"
   ]
  },
  {
   "cell_type": "code",
   "execution_count": null,
   "metadata": {},
   "outputs": [],
   "source": [
    "out_folder = 'data_v2p2'\n",
    "\n",
    "\n",
    "with fits.open(basedir / 'data' / out_folder / 'Nebulae_Catalogue_v2p1.fits') as hdul:\n",
    "    nebulae = Table(hdul[1].data)\n",
    "with fits.open(basedir/'data'/out_folder/'Nebulae_Catalogue_v2p1_OII.fits') as hdul:\n",
    "    OII_fluxes = Table(hdul[1].data)\n",
    "\n",
    "nebulae = join(nebulae,OII_fluxes,keys=['gal_name','region_ID'])\n",
    "nebulae = nebulae[np.isin(nebulae['gal_name'],['NGC0628','NGC2835','NGC3351'])]\n",
    "\n",
    "with np.errstate(divide='ignore',invalid='ignore'):\n",
    "    nebulae['[SIII]/[SII]'] = np.nan\n",
    "    SII = nebulae['SII6716_FLUX_CORR']+nebulae['SII6730_FLUX_CORR']\n",
    "    #SIII = nebulae['SIII6312_FLUX_CORR']+nebulae['SIII9068_FLUX_CORR']\n",
    "    SIII = (1+2.47)*nebulae['SIII9068_FLUX_CORR']\n",
    "    nebulae['[SIII]/[SII]'][SII>0] = SIII[SII>0]/SII[SII>0]\n",
    "    \n",
    "    nebulae['[OIII]/[OII]'] = (1+0.35) * nebulae['OIII5006_FLUX_CORR'] / ((1+0.714)*nebulae['OII3726_FLUX_CORR'])\n",
    "    "
   ]
  },
  {
   "cell_type": "code",
   "execution_count": null,
   "metadata": {},
   "outputs": [],
   "source": [
    "Ionization_Parameter_Coefficients = {\n",
    "    'OII' : {0.05:(-36.9772, 10.2838, -0.957421, 0.0328614),\n",
    "             0.1:(-74.2814, 24.6206, -2.79194, 0.110773),\n",
    "             0.2:(-36.7948, 10.0581, -0.914212, 0.0300472),\n",
    "             0.5:(81.188, 27.5082, -3.19126, 0.128252),\n",
    "             1.0:(-52.6367, 16.088, -1.67443, 0.0608004),\n",
    "             1.5:(-86.8674, 28.0455, -3.01747, 0.108311),\n",
    "             2.0:(-24.4044, 2.51913, 0.452486, -0.0491711),\n",
    "             3.0:(49.4728, -27.4711, 4.50304, -0.232228)\n",
    "            },\n",
    "    \n",
    "    'OII2' : {0.05:(7.39167, 0.667891, 0.0680367),\n",
    "             0.1:(7.46218, 0.685835, 0.0866086),\n",
    "             0.2:(7.57817, 0.739315, 0.084364),\n",
    "             0.5:(7.73013, 0.843125, 0.118166)\n",
    "            },\n",
    "    \n",
    "    'SII' : {0.05:(30.0116, -14.897, 2.30577, -0.112314),\n",
    "             0.1:(16.8569, -9.62876, 1.59938, -0.0804552),\n",
    "             0.2:(32.2358, -15.2438, 2.27251, -0.106913),\n",
    "             0.5:(-3.06247, -0.864092, 0.328467, -0.0196089),\n",
    "             1.0:(-2.94394, -0.546041, 0.239226, -0.0136716),\n",
    "             1.5:(-38.1338, 13.0914, -1.51014, 0.0605926),\n",
    "             2.0:(-21.024, 6.55748, -0.683584, 0.025869),\n",
    "             3.0:(-6.61131, 1.36836, -0.071756, 0.00225792)\n",
    "            },\n",
    "}\n"
   ]
  },
  {
   "cell_type": "code",
   "execution_count": null,
   "metadata": {},
   "outputs": [],
   "source": [
    "from scipy.stats import spearmanr\n",
    "\n",
    "tmp = nebulae[nebulae['OII3726_FLUX_CORR']>1*nebulae['OII3726_FLUX_CORR_ERR']]\n",
    "\n",
    "fig,ax=plt.subplots(figsize=(two_column,two_column/1.618))\n",
    "\n",
    "cmap = mpl.cm.get_cmap('viridis')\n",
    "norm = mpl.colors.Normalize(vmin=0.05,vmax=3)\n",
    "\n",
    "\n",
    "sc=ax.scatter(10**(tmp['logq_D91']),np.log10(tmp['[OIII]/[OII]']),c=tmp['met_scal'],vmin=8.25,vmax=8.65)\n",
    "\n",
    "q = np.logspace(6.,8.5)\n",
    "for z,coefficients in Ionization_Parameter_Coefficients['OII'].items():\n",
    "    R = np.polyval(coefficients[::-1],np.log10(q))\n",
    "    ax.plot(q,R,label=z,color=cmap(norm(z)))\n",
    "    \n",
    "ax.legend(ncol=3)\n",
    "ax.set(xlim=[1e6,2e8],xscale='log',ylim=[-2.5,2],xlabel=r'$q$',ylabel='log [OIII]/[OII]')\n",
    "\n",
    "fig.colorbar(sc,label=r'$12+\\log(\\mathrm{O}/\\mathrm{H})$')\n",
    "\n",
    "plt.show()"
   ]
  },
  {
   "cell_type": "markdown",
   "metadata": {},
   "source": [
    "## MUSE vs SITELLE velocity"
   ]
  },
  {
   "cell_type": "code",
   "execution_count": null,
   "metadata": {},
   "outputs": [],
   "source": [
    "out_folder = 'data_v2p2'\n",
    "\n",
    "with fits.open(basedir / 'data' / out_folder / 'Nebulae_Catalogue_v2p1.fits') as hdul:\n",
    "    nebulae = Table(hdul[1].data)\n",
    "with fits.open(basedir/'data'/ out_folder /'Nebulae_Catalogue_v2p1_OII.fits') as hdul:\n",
    "    OII_fluxes = Table(hdul[1].data)\n",
    "\n",
    "nebulae_with_OII = join(nebulae,OII_fluxes,keys=['gal_name','region_ID'])\n",
    "nebulae_with_OII = nebulae_with_OII[np.isin(nebulae_with_OII['gal_name'],['NGC0628','NGC2835','NGC3351','NGC4535'])]\n",
    "\n",
    "with fits.open(basedir/'data'/'phangs_sample_table_v1p6.fits') as hdul:\n",
    "    sample_table = Table(hdul[1].data)\n",
    "sample_table['name'] = [x.upper() for x in sample_table['name']]\n",
    "sample_table.add_index('name')"
   ]
  },
  {
   "cell_type": "code",
   "execution_count": null,
   "metadata": {},
   "outputs": [],
   "source": [
    "fig,ax=plt.subplots(figsize=(6,6))\n",
    "\n",
    "table = nebulae_with_OII[nebulae_with_OII['OII3726_FLUX_CORR']>1*nebulae_with_OII['OII3726_FLUX_CORR_ERR']]\n",
    "\n",
    "lim = [400,1200]\n",
    "for gal_name in ['NGC0628','NGC2835','NGC3351']:\n",
    "    tmp = table[table['gal_name']==gal_name]\n",
    "    print(f'{gal_name}: {len(tmp)} objects')\n",
    "    velocity = sample_table.loc[gal_name]['orient_vlsr']\n",
    "    ax.scatter(velocity+tmp['NII6583_VEL'],tmp['OII3726_velocity'],alpha=0.5,label=gal_name)\n",
    "    \n",
    "ax.legend()\n",
    "offset = 90\n",
    "ax.plot(lim,np.array(lim)+offset,color='black')\n",
    "ax.plot(lim,np.array(lim)+offset+30,color='gray')\n",
    "ax.plot(lim,np.array(lim)+offset-30,color='gray')\n",
    "ax.set(xlim=lim,ylim=lim,xlabel='[NII] velocity',ylabel='[OII] velocity')\n",
    "\n",
    "plt.show()"
   ]
  },
  {
   "cell_type": "markdown",
   "metadata": {},
   "source": [
    "## Check if we really are in the low density limit\n",
    "\n",
    "$$\n",
    "\\frac{[SII]6717}{[SII]6731} = 1.49 \\frac{1+3.77x}{1+12.8x} \n",
    "$$\n",
    "with $x=10^{-4} n_e t^{-1/2}$ with $t$ in units of $10^{4}$ K.\n",
    "\n",
    "(see equation 1 in https://doi.org/10.1093/mnras/stac456)\n",
    "\n",
    "or Sanders+2016 (https://iopscience.iop.org/article/10.3847/0004-637X/816/1/23/pdf)"
   ]
  },
  {
   "cell_type": "code",
   "execution_count": null,
   "metadata": {},
   "outputs": [],
   "source": [
    "from astrotools.metallicity import ratio_from_electron_density\n",
    "\n",
    "with fits.open(basedir / 'data' / 'data_v2p1' / 'Nebulae_Catalogue_v2p1.fits') as hdul:\n",
    "    nebulae = Table(hdul[1].data)"
   ]
  },
  {
   "cell_type": "code",
   "execution_count": null,
   "metadata": {},
   "outputs": [],
   "source": [
    "fig, (ax1,ax2) = plt.subplots(nrows=1, ncols=2, figsize=(6, 3),\n",
    "                       gridspec_kw={\n",
    "                           'width_ratios': [2.5, 1],\n",
    "                           'wspace': 0.},sharey=True)\n",
    "\n",
    "n_e = np.logspace(1,5,200)\n",
    "ax1.plot(n_e,ratio_from_electron_density(n_e,'SII'),label='[SII]')\n",
    "ax1.plot(n_e,ratio_from_electron_density(n_e,'OII'),label='[OII]')\n",
    "ax1.plot([10,1e5],[1.4,1.4],color='gray')\n",
    "\n",
    "ax2.hist(nebulae['SII6716_FLUX_CORR']/nebulae['SII6730_FLUX_CORR'],bins=np.arange(1,1.7,0.05),\n",
    "         orientation='horizontal')\n",
    "ax1.set(xscale='log',xlabel='Electron density / cm$^{-3}$',xlim=[10,1e5],\n",
    "        ylabel='ratio')\n",
    "ax1.legend()\n",
    "\n",
    "plt.show()"
   ]
  },
  {
   "cell_type": "markdown",
   "metadata": {},
   "source": [
    "do the same thing for the TYPHOON data"
   ]
  },
  {
   "cell_type": "code",
   "execution_count": null,
   "metadata": {},
   "outputs": [],
   "source": [
    "typhoon_catalogue = ascii.read(basedir/'data'/'typhoon'/'NGC2835_HIIdata_notdereddened_WCS.dat',names=names)\n",
    "\n",
    "fig, (ax1,ax2) = plt.subplots(nrows=1, ncols=2, figsize=(8, 4),\n",
    "                       gridspec_kw={\n",
    "                           'width_ratios': [2.5, 1],\n",
    "                           'wspace': 0.},sharey=True)\n",
    "\n",
    "n_e = np.logspace(1,5,200)\n",
    "ax1.plot(n_e,ratio_from_electron_density(n_e,'SII'))\n",
    "ax1.plot([10,1e5],[1.4,1.4],color='gray')\n",
    "ax1.set(xlim=[10,1e5])\n",
    "ax2.hist(typhoon_catalogue['SII6716']/typhoon_catalogue['SII6731'],bins=np.arange(1,2,0.05),\n",
    "         orientation='horizontal')\n",
    "ax1.set(xscale='log',xlabel='Electron density / cm$^{-3}$')\n",
    "\n",
    "plt.show()"
   ]
  },
  {
   "cell_type": "markdown",
   "metadata": {
    "heading_collapsed": true
   },
   "source": [
    "## Compare fitted spectrum to line map\n",
    "\n"
   ]
  },
  {
   "cell_type": "code",
   "execution_count": null,
   "metadata": {
    "hidden": true
   },
   "outputs": [],
   "source": [
    "nebulae_mask_OII = reproject_interp(nebulae_mask,\n",
    "                                     output_projection=Halpha.wcs,\n",
    "                                     shape_out=OII.data.shape,\n",
    "                                     order='nearest-neighbor',return_footprint=False)  "
   ]
  },
  {
   "cell_type": "code",
   "execution_count": null,
   "metadata": {
    "hidden": true
   },
   "outputs": [],
   "source": [
    "# the shape of the [OII] map is wrong\n",
    "nebulae['OII3726_FLUX_NEW'] = np.array([np.nansum(OII.data[nebulae_mask_OII==region_ID]) for region_ID in nebulae['region_ID']])*1e20 \n",
    "nebulae['HA6562_FLUX_NEW'] = np.array([np.nansum(Halpha.data[nebulae_mask.data==region_ID]) for region_ID in nebulae['region_ID']]) "
   ]
  },
  {
   "cell_type": "code",
   "execution_count": null,
   "metadata": {
    "hidden": true
   },
   "outputs": [],
   "source": [
    "fig,ax=plt.subplots(figsize=(single_column,single_column))\n",
    "\n",
    "lim = [1e2,1e6]\n",
    "ax.scatter(nebulae['OII3726_FLUX'],nebulae['OII3726_FLUX_NEW']/4,s=1)\n",
    "ax.plot(lim,lim,color='black')\n",
    "ax.set(xlabel=r'[O\\,\\textsc{ii}] (fitted spectrum)',ylabel=r'[O\\,\\textsc{ii}] (line map)',\n",
    "        xscale='log',yscale='log',xlim=lim,ylim=lim)\n",
    "rho,p=spearmanr(nebulae['OII3726_FLUX'],nebulae['OII3726_FLUX_NEW'],nan_policy='omit')\n",
    "print(f'[OII]: rho={rho:.2f}, p-value={p:.2g}')\n",
    "ax.set_title(r'$\\rho=$'+f'{rho:.2f}, p-value={p:.2g}',fontsize=8)\n",
    "\n",
    "plt.show()"
   ]
  },
  {
   "cell_type": "markdown",
   "metadata": {},
   "source": [
    "## TYPHOON\n",
    "\n",
    "we can not use the MUSE priors for the TYPHOON masks. Hence this is based on the old version"
   ]
  },
  {
   "cell_type": "code",
   "execution_count": null,
   "metadata": {},
   "outputs": [],
   "source": [
    "with fits.open(basedir/'data'/'typhoon'/'NGC2835_Halpha_WCS.fits') as hdul:\n",
    "    typhoon_halpha = NDData(data=hdul[0].data,\n",
    "                 meta=hdul[0].header,\n",
    "                 wcs=WCS(hdul[0].header))\n",
    "with fits.open(basedir/'..'/'sitelle'/'data'/'typhoon'/'N2835_TG10_sig3.50000_hiiphot_WCS.fits') as hdul:\n",
    "    typhoon_mask = NDData(data=hdul[0].data,\n",
    "                     meta=hdul[0].header,\n",
    "                     wcs=typhoon_halpha.wcs)\n",
    "\n",
    "names = ['HIIregion','Rgal(kpc)','Halpha','Halpha_e','Hbeta','Hbeta_e',\n",
    "         'OIII5007','OIII5007_e','OIII4636','OIII4636_e',\n",
    "         'NII6583','NII6583_e','SII6716,31','SII6716,31_e',\n",
    "         'OII3726,29','OII3726,29_e','SII6716','SII6716_e',\n",
    "         'SII6731','SII6731_e']\n",
    "\n",
    "typhoon_catalogue = ascii.read(basedir/'data'/'typhoon'/'NGC2835_HIIdata_notdereddened_WCS.dat',names=names)\n",
    "typhoon_catalogue.rename_column('HIIregion','region_ID')\n",
    "\n",
    "with fits.open(basedir/'data'/'typhoon'/'NGC2835_typhoon_OII_fluxes.fits') as hdul:\n",
    "    OII_typhoon = Table(hdul[1].data)\n",
    "typhoon_catalogue = join(typhoon_catalogue,OII_typhoon,keys='region_ID')\n",
    "\n",
    "import pyneb as pn\n",
    "EBV_NGC2835 = 0.089\n",
    "\n",
    "rc_MW = pn.RedCorr(R_V=3.1,E_BV=EBV_NGC2835,law='CCM89 oD94')\n",
    "\n",
    "columns_wavelength = {'Halpha':6562,'Halpha_e':6562,'Hbeta':4861,'Hbeta_e':4861,\n",
    "                      'OIII5007':5006,'OIII5007_e':5007,'OIII4636':4636,'OIII4636_e':4636,\n",
    "                      'NII6583':6583,'NII6583_e':6583,'SII6716,31':6716,'SII6716,31_e':6716,\n",
    "                      'OII3726,29':3726,'OII3726,29_e':3726,'SII6716':6716,'SII6716_e':6716,\n",
    "                      'SII6731':6731,'SII6731_e':6731}\n",
    "\n",
    "# the TYPHOON fluxes are not extinction corrected (MW)\n",
    "for col, wav in columns_wavelength.items():\n",
    "    typhoon_catalogue[col] *= 1e3 # * rc_MW.getCorr(wav)"
   ]
  },
  {
   "cell_type": "markdown",
   "metadata": {},
   "source": [
    "the TYPHOON H$\\alpha$ with the regions overplotted"
   ]
  },
  {
   "cell_type": "markdown",
   "metadata": {
    "heading_collapsed": true
   },
   "source": [
    "### use the reprojected map to measure the fluxes"
   ]
  },
  {
   "cell_type": "code",
   "execution_count": null,
   "metadata": {
    "hidden": true
   },
   "outputs": [],
   "source": [
    "from astrotools.regions import Regions\n",
    "from reproject import reproject_interp\n",
    "\n",
    "typhoon_regions = Regions(typhoon_mask.data,projection=typhoon_mask.wcs)\n",
    "\n",
    "typhoon_muse, footprint = reproject_interp(typhoon_mask,\n",
    "                                 output_projection=nebulae_mask.wcs,\n",
    "                                 shape_out=nebulae_mask.data.shape,\n",
    "                                 order='nearest-neighbor',return_footprint=True)    \n",
    "typhoon_regions_muse = Regions(typhoon_muse,projection=Halpha.wcs)\n",
    "\n",
    "# show the footprint of the MUSE Halpha\n",
    "_, footprint = reproject_interp(Halpha,\n",
    "                                output_projection=typhoon_mask.wcs,\n",
    "                                shape_out=typhoon_mask.data.shape,\n",
    "                                order='nearest-neighbor',return_footprint=True) \n",
    "\n",
    "typhoon_catalogue['outside'] = [np.any(Halpha.mask[typhoon_muse==region_ID]) for region_ID in typhoon_catalogue['region_ID']]\n",
    "typhoon_catalogue['size'] = [np.sum(typhoon_muse==region_ID) for region_ID in typhoon_catalogue['region_ID']]"
   ]
  },
  {
   "cell_type": "markdown",
   "metadata": {
    "hidden": true
   },
   "source": [
    "look at the reprojected TYPHOON masks"
   ]
  },
  {
   "cell_type": "code",
   "execution_count": null,
   "metadata": {
    "hidden": true
   },
   "outputs": [],
   "source": [
    "fig = plt.figure(figsize=(1.5*two_column,1.3*two_column/3))\n",
    "\n",
    "ax1 = fig.add_subplot(131,projection=Halpha.wcs)\n",
    "norm = simple_norm(typhoon_halpha.data,clip=False,percent=99.6)\n",
    "ax1.imshow(typhoon_halpha.data,norm=norm,cmap=plt.cm.gray_r)\n",
    "ax1.imshow(footprint,alpha=0.4,cmap=plt.cm.Blues)\n",
    "for cont in typhoon_regions.contours:\n",
    "    ax1.plot(cont[:,1], cont[:,0], 'k-',lw=0.2,color='red')\n",
    "ax1.set(xlabel='R.A.',ylabel='Dec.',ylim=[250,450])\n",
    "ax1.set_title(r'TYPHOON H$\\alpha$',fontsize=7)\n",
    "\n",
    "ax2 = fig.add_subplot(132,projection=Halpha.wcs)\n",
    "norm = simple_norm(Halpha.data,clip=False,percent=99.6)\n",
    "ax2.imshow(Halpha.data,norm=norm,cmap=plt.cm.gray_r)\n",
    "for cont in typhoon_regions_muse.contours:\n",
    "    ax2.plot(cont[:,1], cont[:,0], 'k-',lw=0.2,color='red')\n",
    "ax2.set(xlabel='R.A.',ylabel=' ')\n",
    "#ax2.coords[1].set_ticklabel_visible(False)\n",
    "ax2.set_title(r'MUSE H$\\alpha$',fontsize=7)\n",
    "\n",
    "\n",
    "ax3 = fig.add_subplot(133,projection=OII.wcs)\n",
    "norm = simple_norm(OII.data,clip=False,percent=99.6)\n",
    "ax3.imshow(OII.data,norm=norm,cmap=plt.cm.gray_r)\n",
    "for cont in typhoon_regions_muse.contours:\n",
    "    ax3.plot(cont[:,1], cont[:,0], 'k-',lw=0.2,color='red')\n",
    "ax3.set(xlabel='R.A.',ylabel='Dec.')\n",
    "ax3.coords[1].set_ticklabel_visible(False)\n",
    "ax3.set_title('SITELLE [OII]',fontsize=7)\n",
    "\n",
    "plt.tight_layout()\n",
    "#plt.savefig(basedir/'reports'/'TYPHOON_regions_reprojected.pdf',dpi=300)\n",
    "plt.show()"
   ]
  },
  {
   "cell_type": "code",
   "execution_count": null,
   "metadata": {
    "hidden": true
   },
   "outputs": [],
   "source": [
    "tmp = typhoon_catalogue.copy()\n",
    "tmp = tmp[np.isin(tmp['region_ID'],typhoon_muse)]\n",
    "\n",
    "tmp = tmp[~tmp['outside']]\n",
    "tmp = tmp[tmp['SII6716']/tmp['SII6731']>1.4]\n",
    "\n",
    "# the fluxes in typhon are in units of 1e-17 erg / cm2 / s\n",
    "tmp['Halpha_muse'] = np.array([np.nansum(Halpha.data[typhoon_muse==region_ID]) for region_ID in tmp['region_ID']]) \n",
    "tmp['Hbeta_muse'] = np.array([np.nansum(Hbeta.data[typhoon_muse==region_ID]) for region_ID in tmp['region_ID']]) \n",
    "tmp['OIII_muse'] = np.array([np.nansum(OIII.data[typhoon_muse==region_ID]) for region_ID in tmp['region_ID']]) \n",
    "tmp['OII_sitelle'] = np.array([np.nansum(OII.data[typhoon_muse==region_ID]) for region_ID in tmp['region_ID']]) * 1e20 \n",
    "\n",
    "# we need both lines [OII]3729 = 0.35 * [OII]3726 and extinction correction\n",
    "tmp['OII_sitelle'] *= rc_MW.getCorr(3726) * 1.35\n",
    "TYPHOON_to_MUSE = (OII.wcs.pixel_scale_matrix[0][0] / typhoon_halpha.wcs.pixel_scale_matrix[0][0])**2\n",
    "\n",
    "\n",
    "tmp['OII_sitelle_fit'] = tmp['OII3726_FLUX']+tmp['OII3729_FLUX']\n",
    "#rc_balmer = pn.RedCorr(R_V=3.1,law='CCM89 oD94')\n",
    "#rc_balmer.setCorr(obs_over_theo=tmp['Halpha_muse']/tmp['Hbeta_muse'] / 2.86,wave1=6562.81,wave2=4861.33)\n",
    "\n",
    "print(f'{len(tmp)} objects in catalogue')"
   ]
  },
  {
   "cell_type": "code",
   "execution_count": null,
   "metadata": {
    "hidden": true
   },
   "outputs": [],
   "source": [
    "from scipy.stats import spearmanr\n",
    "\n",
    "fig,((ax1,ax2,ax3),(ax4,ax5,ax6))=plt.subplots(ncols=3,nrows=2,figsize=(two_column,two_column/1.5))\n",
    "factor = 1\n",
    "kwargs = {'c' : tmp['size'], 'vmin':0,'vmax':4000}\n",
    "kwargs = {}\n",
    "\n",
    "lim = [1e5,2e7]\n",
    "ax1.scatter(tmp['Halpha'],tmp['Halpha_muse'],s=1,**kwargs)\n",
    "ax1.plot(lim,lim,color='black')\n",
    "ax1.set(xlabel=r'H$\\alpha$ (TYPHOON)',ylabel=r'H$\\alpha$ (MUSE)',\n",
    "        xscale='log',yscale='log',xlim=lim,ylim=lim)\n",
    "rho,p=spearmanr(tmp['Halpha'],tmp['Halpha_muse'],nan_policy='omit')\n",
    "print(f'Halpha: rho={rho:.2f}, p-value={p:.2g}')\n",
    "#ax1.set_title(r'$\\rho=$'+f'{rho:.2f}, p-value={p:.2g}',fontsize=8)\n",
    "\n",
    "lim = [1e5,2e7]\n",
    "ax2.scatter(tmp['Hbeta'],tmp['Hbeta_muse'],s=1,**kwargs)\n",
    "ax2.plot(lim,lim,color='black')\n",
    "ax2.set(xlabel=r'H$\\beta$ (TYPHOON)',ylabel=r'H$\\beta$ (MUSE)',\n",
    "        xscale='log',yscale='log',xlim=lim,ylim=lim)\n",
    "rho,p=spearmanr(tmp['Hbeta'],tmp['Hbeta_muse'],nan_policy='omit')\n",
    "print(f'Hbeta: rho={rho:.2f}, p-value={p:.2g}')\n",
    "#ax2.set_title(r'$\\rho=$'+f'{rho:.2f}, p-value={p:.2g}',fontsize=8)\n",
    "\n",
    "lim = [1e5,2e7]\n",
    "ax3.scatter(tmp['OII3726,29'],tmp['OII_sitelle_fit']/factor,s=1,**kwargs)\n",
    "ax3.plot(lim,lim,color='black')\n",
    "ax3.set(xlabel=r'[O\\,\\textsc{ii}] (TYPHOON)',ylabel=r'[O\\,\\textsc{ii}] (SITELLE)',\n",
    "        xscale='log',yscale='log',xlim=lim,ylim=lim)\n",
    "rho,p=spearmanr(tmp['OII3726,29'],tmp['OII_sitelle_fit'],nan_policy='omit')\n",
    "print(f'[OII]: rho={rho:.2f}, p-value={p:.2g}')\n",
    "#ax3.set_title(r'$\\rho=$'+f'{rho:.2f}, p-value={p:.2g}',fontsize=8)\n",
    "\n",
    "lim = [0,1]\n",
    "ax4.scatter(tmp['OIII5007']/tmp['Halpha'],tmp['OIII_muse']/tmp['Halpha_muse'],s=1,**kwargs)\n",
    "ax4.plot(lim,lim,color='black')\n",
    "ax4.set(xlim=lim,ylim=lim,xlabel=r'[O\\,\\textsc{iii}]/H$\\alpha$ (TYPHOON)',ylabel=r'[O\\,\\textsc{iii}]/H$\\alpha$ (MUSE)')\n",
    "rho,p=spearmanr(tmp['OIII5007']/tmp['Halpha'],tmp['OIII_muse']/tmp['Halpha_muse'],nan_policy='omit')\n",
    "print(f'OIII/Halpha: rho={rho:.2f}, p-value={p:.2g}')\n",
    "#ax4.set_title(r'$\\rho=$'+f'{rho:.2f}, p-value={p:.2g}',fontsize=8)\n",
    "\n",
    "lim=[0,2]\n",
    "ax5.scatter(tmp['OII3726,29']/tmp['Halpha'],tmp['OII_sitelle_fit']/tmp['Halpha_muse']/factor,s=1,**kwargs)\n",
    "ax5.plot(lim,lim,color='black')\n",
    "ax5.set(xlim=lim,ylim=lim,xlabel=r'[O\\,\\textsc{ii}]/H$\\alpha$ (TYPHOON)',ylabel=r'[O\\,\\textsc{ii}]/H$\\alpha$ (SITELLE/MUSE)')\n",
    "rho,p=spearmanr(tmp['OII3726,29']/tmp['Halpha'],tmp['OII_sitelle_fit']/tmp['Halpha_muse'],nan_policy='omit')\n",
    "print(f'OII/Halpha: rho={rho:.2f}, p-value={p:.2g}')\n",
    "#ax5.set_title(r'$\\rho=$'+f'{rho:.2f}, p-value={p:.2g}',fontsize=8)\n",
    "\n",
    "lim=[0,4.5]\n",
    "ax6.scatter(tmp['OII3726,29']/tmp['Hbeta'],tmp['OII_sitelle_fit']/tmp['Hbeta_muse']/factor,s=1,**kwargs)\n",
    "ax6.plot(lim,lim,color='black')\n",
    "ax6.set(xlim=lim,ylim=lim,xlabel=r'[O\\,\\textsc{ii}]/H$\\beta$ (TYPHOON)',ylabel=r'[O\\,\\textsc{ii}]/H$\\beta$ (SITELLE/MUSE)')\n",
    "rho,p=spearmanr(tmp['OII3726,29']/tmp['Hbeta'],tmp['OII_sitelle_fit']/tmp['Hbeta_muse'],nan_policy='omit')\n",
    "print(f'OII/Hbeta: rho={rho:.2f}, p-value={p:.2g}')\n",
    "#ax6.set_title(r'$\\rho=$'+f'{rho:.2f}, p-value={p:.2g}',fontsize=8)\n",
    "\n",
    "plt.tight_layout()\n",
    "#plt.savefig(basedir/'reports'/'TYPHOON_flux_comparison.pdf',dpi=300)\n",
    "plt.show()"
   ]
  },
  {
   "cell_type": "code",
   "execution_count": null,
   "metadata": {
    "hidden": true
   },
   "outputs": [],
   "source": [
    "from scipy.stats import spearmanr\n",
    "\n",
    "fig,ax=plt.subplots(figsize=(single_column,single_column))\n",
    "\n",
    "lim = [1e5,5e7]\n",
    "ax.scatter(tmp['OII_sitelle_fit'],tmp['OII_sitelle'],s=1)\n",
    "ax.plot(lim,lim,color='black')\n",
    "ax.set(xlabel=r'[O\\,\\textsc{ii}] (integrated spectra)',ylabel=r'[O\\,\\textsc{ii}] (map)',\n",
    "        xscale='log',yscale='log',xlim=lim,ylim=lim)\n",
    "rho,p=spearmanr(tmp['OII3726,29'],tmp['OII_sitelle'],nan_policy='omit')\n",
    "print(f'[OII]: rho={rho:.2f}, p-value={p:.2g}')\n",
    "ax.set_title(r'$\\rho=$'+f'{rho:.2f}, p-value={p:.2g}',fontsize=8)\n",
    "#plt.savefig(basedir/'reports'/'integrated_spectra_vs_map.png',dpi=300)\n",
    "\n",
    "plt.show()"
   ]
  },
  {
   "cell_type": "markdown",
   "metadata": {},
   "source": [
    "### Also compare with KCWI"
   ]
  },
  {
   "cell_type": "code",
   "execution_count": null,
   "metadata": {},
   "outputs": [],
   "source": [
    "from reproject import reproject_interp\n",
    "\n",
    "with fits.open(basedir/'data'/'KCWI'/f'{name.lower()}_OII_map.fits') as hdul:\n",
    "    OII_KCWI = NDData(data=hdul[1].data,\n",
    "                 meta=hdul[1].header,\n",
    "                 wcs=WCS(hdul[1].header))\n",
    "OII_KCWI.data[OII_KCWI.data==0]=np.nan\n",
    "\n",
    "typhoon_kcwi, footprint = reproject_interp(typhoon_mask,\n",
    "                                 output_projection=OII_KCWI.wcs,\n",
    "                                 shape_out=OII_KCWI.data.shape,\n",
    "                                 order='nearest-neighbor',return_footprint=True)"
   ]
  },
  {
   "cell_type": "code",
   "execution_count": null,
   "metadata": {},
   "outputs": [],
   "source": [
    "import pyneb as pn\n",
    "\n",
    "tmp = typhoon_catalogue.copy()\n",
    "tmp['OII_sitelle_fit'] = tmp['OII3726_FLUX']+tmp['OII3729_FLUX']\n",
    "\n",
    "EBV_NGC2835 = 0.089\n",
    "EBV_NGC0628 = 0.062\n",
    "\n",
    "rc_MW = pn.RedCorr(R_V=3.1,E_BV=EBV_NGC2835,law='CCM89 oD94')\n",
    "TYPHOON_to_KCWI = (OII_KCWI.wcs.pixel_scale_matrix[0][0] / typhoon_halpha.wcs.pixel_scale_matrix[0][0])**2\n",
    "\n",
    "tmp['OII_KCWI'] = np.array([np.sum(OII_KCWI.data[typhoon_kcwi==region_ID]) for region_ID in tmp['region_ID']]) \n",
    "# the fluxes in KCWI are in units of 1e-16 and we use 1e-20\n",
    "tmp['OII_KCWI'] *= 1e4*rc_MW.getCorr(3726) / TYPHOON_to_KCWI\n"
   ]
  },
  {
   "cell_type": "code",
   "execution_count": null,
   "metadata": {},
   "outputs": [],
   "source": [
    "fig,ax=plt.subplots()\n",
    "\n",
    "norm = simple_norm(OII_KCWI.data,clip=False,percent=99)\n",
    "ax.imshow(OII_KCWI.data,norm=norm,cmap=plt.cm.Greys,origin='lower')\n",
    "ax.imshow(typhoon_kcwi,alpha=0.3,origin='lower')\n",
    "ax.set_title('TYPHOON masks over [OII] KCWI')\n",
    "ax.axis('off')\n",
    "\n",
    "plt.show()"
   ]
  },
  {
   "cell_type": "code",
   "execution_count": null,
   "metadata": {},
   "outputs": [],
   "source": [
    "fig,(ax1,ax2,ax3) = plt.subplots(ncols=3,figsize=(two_column,two_column/3))\n",
    "\n",
    "lim = [1e5,2e7]\n",
    "\n",
    "ax1.scatter(tmp['OII3726,29'],tmp['OII_sitelle_fit'],s=1)\n",
    "ax1.plot(lim,lim,color='black')\n",
    "ax1.set(xlabel=r'[O\\,\\textsc{ii}] (TYPHOON)',ylabel=r'[O\\,\\textsc{ii}] (SITELLE)',\n",
    "        xscale='log',yscale='log',xlim=lim,ylim=lim)\n",
    "\n",
    "ax2.scatter(tmp['OII_sitelle_fit'],tmp['OII_KCWI'],s=1)\n",
    "ax2.plot(lim,lim,color='black')\n",
    "ax2.set(xlabel=r'[O\\,\\textsc{ii}] (SITELLE)',ylabel=r'[O\\,\\textsc{ii}] (KCWI)',\n",
    "        xscale='log',yscale='log',xlim=lim,ylim=lim)\n",
    "\n",
    "ax3.scatter(tmp['OII_KCWI'],tmp['OII3726,29'],s=1)\n",
    "ax3.plot(lim,lim,color='black')\n",
    "ax3.set(xlabel=r'[O\\,\\textsc{ii}] (KCWI)',ylabel=r'[O\\,\\textsc{ii}] (TYPHOON)',\n",
    "        xscale='log',yscale='log',xlim=lim,ylim=lim)\n",
    "\n",
    "plt.tight_layout()\n",
    "\n",
    "plt.show()"
   ]
  },
  {
   "cell_type": "markdown",
   "metadata": {},
   "source": [
    "### use the reprojected regions to measure the flux"
   ]
  },
  {
   "cell_type": "code",
   "execution_count": null,
   "metadata": {},
   "outputs": [],
   "source": [
    "typhoon_regions = Regions(typhoon_mask.data,projection=typhoon_mask.wcs)\n",
    "typhoon_regions_muse = typhoon_regions.reproject(Halpha.wcs,shape=Halpha.data.shape)"
   ]
  },
  {
   "cell_type": "markdown",
   "metadata": {},
   "source": [
    "## KCWI"
   ]
  },
  {
   "cell_type": "code",
   "execution_count": null,
   "metadata": {},
   "outputs": [],
   "source": [
    "from reproject import reproject_exact\n",
    "from astrotools.regions import Regions\n",
    "\n",
    "name = 'NGC2835'\n",
    "\n",
    "with fits.open(basedir/'data'/'data_v2p1'/'maps'/f'{name}_OII_map_reprojected.fits') as hdul:\n",
    "    OII_SITELLE = NDData(data=hdul[1].data,\n",
    "                 meta=hdul[1].header,\n",
    "                 wcs=WCS(hdul[1].header))\n",
    "    \n",
    "with fits.open(basedir/'data'/'KCWI'/f'{name.lower()}_OII_map.fits') as hdul:\n",
    "    OII_KCWI = NDData(data=hdul[1].data,\n",
    "                 meta=hdul[1].header,\n",
    "                 wcs=WCS(hdul[1].header))\n",
    "OII_KCWI.data[OII_KCWI.data==0]=np.nan\n",
    "\n",
    "# DAP linemaps (Halpha and OIII)\n",
    "filename = next((data_ext/'MUSE'/'DR2.1'/'copt'/'MUSEDAP').glob(f'{name}*.fits'))\n",
    "copt_res = float(filename.stem.split('-')[1].split('asec')[0])\n",
    "with fits.open(filename) as hdul:\n",
    "    Halpha = NDData(data=hdul['HA6562_FLUX'].data,\n",
    "                    uncertainty=StdDevUncertainty(hdul['HA6562_FLUX_ERR'].data),\n",
    "                    mask=np.isnan(hdul['HA6562_FLUX'].data),\n",
    "                    meta=hdul['HA6562_FLUX'].header,\n",
    "                    wcs=WCS(hdul['HA6562_FLUX'].header))\n",
    "    \n",
    "filename = data_ext/'Products'/'Nebulae_catalogs'/'Nebulae_catalogue_v2'/'spatial_masks'/f'{name}_nebulae_mask.fits'\n",
    "with fits.open(filename) as hdul:\n",
    "    nebulae_mask = NDData(hdul[0].data.astype(float),mask=Halpha.mask,meta=hdul[0].header,wcs=WCS(hdul[0].header))\n",
    "    nebulae_mask.data[nebulae_mask.data==-1] = np.nan\n",
    "\n",
    "# the original catalogue from Francesco\n",
    "filename = data_ext/'Products'/'Nebulae_catalogs'/'Nebulae_catalogue_v2'/'Nebulae_catalogue_v2.fits'\n",
    "with fits.open(filename) as hdul:\n",
    "    nebulae = Table(hdul[1].data)\n",
    "with fits.open(basedir/'data'/'data_v2p2'/'fluxes'/'NGC2835_OII_fluxes.fits') as hdul:\n",
    "    OII_fluxes = Table(hdul[1].data)\n",
    "nebulae = join(nebulae,OII_fluxes,keys=['gal_name','region_ID'])\n",
    "    \n",
    "# reproject the nebulae masks\n",
    "from reproject import reproject_interp\n",
    "nebulae_mask_KCWI, footprint = reproject_interp(nebulae_mask,\n",
    "                                 output_projection=OII_KCWI.wcs,\n",
    "                                 shape_out=OII_KCWI.data.shape,\n",
    "                                 order='nearest-neighbor',return_footprint=True)  \n",
    "overlap = np.unique(nebulae_mask_KCWI[~np.isnan(OII_KCWI.data)])\n",
    "\n",
    "\n",
    "muse_regions = Regions(nebulae_mask.data,projection=nebulae_mask.wcs)\n",
    "\n",
    "OII_KCWI_reprojected, footprint = reproject_exact(OII_KCWI,OII_SITELLE.meta)\n",
    "xvalues = np.where(np.any(footprint,axis=0))\n",
    "xmin,xmax = np.min(xvalues),np.max(xvalues)\n",
    "yvalues = np.where(np.any(footprint,axis=1))\n",
    "ymin,ymax = np.min(yvalues),np.max(yvalues)"
   ]
  },
  {
   "cell_type": "markdown",
   "metadata": {},
   "source": [
    "### Look at the linemaps"
   ]
  },
  {
   "cell_type": "code",
   "execution_count": null,
   "metadata": {},
   "outputs": [],
   "source": [
    "fig,(ax1,ax2,ax3) = plt.subplots(ncols=3,figsize=(8,3))\n",
    "\n",
    "norm=simple_norm(OII_SITELLE.data,clip=False,percent=99)\n",
    "\n",
    "norm=simple_norm(OII_SITELLE.data,clip=False,percent=99)\n",
    "ax1.imshow(OII_SITELLE.data,norm=norm,origin='lower',cmap=plt.cm.gray_r)\n",
    "ax1.imshow(~np.isnan(OII_KCWI_reprojected),origin='lower',alpha=0.4,cmap=plt.cm.Blues)\n",
    "ax1.set_title(r'[O\\,\\textsc{ii}] (SITELLE)')\n",
    "ax1.axis('off')\n",
    "\n",
    "ax2.imshow(OII_SITELLE.data,norm=norm,origin='lower',cmap=plt.cm.gray_r)\n",
    "ax2.set_title(r'[O\\,\\textsc{ii}] (SITELLE)')\n",
    "ax2.axis('off')\n",
    "\n",
    "norm=simple_norm(OII_KCWI_reprojected.data,clip=False,percent=99)\n",
    "ax3.imshow(OII_KCWI_reprojected.data,norm=norm,origin='lower',cmap=plt.cm.gray_r)\n",
    "ax3.axis('off')\n",
    "\n",
    "for cont,label in zip(muse_regions.contours,muse_regions.labels):\n",
    "    ax3.plot(cont[:,1], cont[:,0], '-',lw=0.5,color='red')\n",
    "\n",
    "ax3.set_title(r'[O\\,\\textsc{ii}] (KCWI)')\n",
    "\n",
    "'''\n",
    "img = OII_SITELLE.data / (OII_KCWI_reprojected.data) *1e16\n",
    "#norm=simple_norm(img,clip=False,percent=99,stretch='log',min_cut=-0.3,max_cut=0.3)\n",
    "im = ax3.imshow(np.log10(img),vmin=-0.3,vmax=2.5,origin='lower',cmap=plt.cm.gray_r)\n",
    "fig.colorbar(im)\n",
    "'''\n",
    "ax2.set(xlim=[xmin,xmax],ylim=[ymin,ymax])\n",
    "ax3.set(xlim=[xmin,xmax],ylim=[ymin,ymax])\n",
    "\n",
    "plt.savefig(basedir/'reports'/'KCWI_regions_reprojected.pdf',dpi=300)\n",
    "\n",
    "\n",
    "plt.show()"
   ]
  },
  {
   "cell_type": "markdown",
   "metadata": {},
   "source": [
    "### Measure flux in HII regions from nebulae catalogue"
   ]
  },
  {
   "cell_type": "markdown",
   "metadata": {},
   "source": [
    "reproject masks instead of line map"
   ]
  },
  {
   "cell_type": "code",
   "execution_count": null,
   "metadata": {},
   "outputs": [],
   "source": [
    "import pyneb as pn\n",
    "EBV_NGC2835 = 0.089\n",
    "EBV_NGC0628 = 0.062\n",
    "\n",
    "rc_MW = pn.RedCorr(R_V=3.1,E_BV=EBV_NGC2835,law='CCM89 oD94')\n",
    "MUSE_to_KCWI = (OII_KCWI.wcs.pixel_scale_matrix[0][0] / Halpha.wcs.pixel_scale_matrix[0][0])**2\n",
    "\n",
    "with fits.open(basedir/'data'/'data_v2p2'/'fluxes'/'NGC2835_OII_fluxes.fits') as hdul:\n",
    "    OII_fluxes = Table(hdul[1].data)\n",
    "OII_fluxes = OII_fluxes[OII_fluxes['gal_name']==name]\n",
    "OII_fluxes = OII_fluxes[np.isin(OII_fluxes['region_ID'],overlap)]\n",
    "OII_fluxes['OII_KCWI'] = np.array([np.sum(OII_KCWI.data[nebulae_mask_KCWI==region_ID]) for region_ID in OII_fluxes['region_ID']]) \n",
    "# the fluxes in KCWI are in units of 1e-16 and we use 1e-20\n",
    "OII_fluxes['OII_KCWI'] *= 1e4*rc_MW.getCorr(3726) #* MUSE_to_KCWI"
   ]
  },
  {
   "cell_type": "code",
   "execution_count": null,
   "metadata": {},
   "outputs": [],
   "source": [
    "fig,ax=plt.subplots(figsize=(4,4))\n",
    "\n",
    "lim = [1e3,1e6]\n",
    "tmp = OII_fluxes[OII_fluxes['OII3726_FLUX']<1*OII_fluxes['OII3726_FLUX_ERR']]\n",
    "print(len(tmp))\n",
    "ax.scatter(tmp['OII_KCWI'],tmp['OII3726_FLUX'],color='0.8')\n",
    "\n",
    "tmp = OII_fluxes[OII_fluxes['OII3726_FLUX']>=1*OII_fluxes['OII3726_FLUX_ERR']]\n",
    "print(len(tmp))\n",
    "ax.scatter(tmp['OII_KCWI'],tmp['OII3726_FLUX'])\n",
    "\n",
    "ax.plot(lim,lim,color='black')\n",
    "ax.set(xscale='log',xlim=lim,yscale='log',ylim=lim,\n",
    "       ylabel=r'[O\\,\\textsc{ii}] (SITELLE)',xlabel=r'[O\\,\\textsc{ii}] (KCWI)')\n",
    "plt.savefig(basedir/'reports'/'KCWI_flux_comparison.pdf',dpi=300)\n",
    "\n",
    "plt.show()"
   ]
  },
  {
   "cell_type": "markdown",
   "metadata": {},
   "source": [
    "which regions have the biggest difference"
   ]
  },
  {
   "cell_type": "code",
   "execution_count": null,
   "metadata": {},
   "outputs": [],
   "source": [
    "tmp = OII_fluxes[OII_fluxes['OII3726_FLUX']>=1*OII_fluxes['OII3726_FLUX_ERR']]\n",
    "mask = np.full_like(nebulae_mask_KCWI,np.nan)\n",
    "bad = np.full_like(nebulae_mask_KCWI,np.nan)\n",
    "\n",
    "for row in tmp:\n",
    "    diff = 100*np.abs((row['OII_KCWI']-row['OII3726_FLUX'])/row['OII_KCWI'])\n",
    "    mask[nebulae_mask_KCWI==row['region_ID']]=diff\n",
    "    if np.isnan(diff):\n",
    "        bad[nebulae_mask_KCWI==row['region_ID']]=1"
   ]
  },
  {
   "cell_type": "code",
   "execution_count": null,
   "metadata": {},
   "outputs": [],
   "source": [
    "fig = plt.figure(figsize=(two_column,two_column/2))\n",
    "\n",
    "\n",
    "\n",
    "ax1 = fig.add_subplot(121,projection=OII_KCWI.wcs)\n",
    "norm=simple_norm(OII_KCWI.data,clip=False,percent=99)\n",
    "ax1.imshow(OII_KCWI.data,norm=norm,cmap=plt.cm.gray_r)\n",
    "\n",
    "tmp = OII_fluxes[OII_fluxes['OII3726_FLUX']>=1*OII_fluxes['OII3726_FLUX_ERR']]\n",
    "print(len(tmp))\n",
    "mask = np.full_like(nebulae_mask_KCWI,np.nan)\n",
    "bad = np.full_like(nebulae_mask_KCWI,np.nan)\n",
    "\n",
    "for row in tmp:\n",
    "    diff = 100*np.abs((row['OII_KCWI']-row['OII3726_FLUX'])/row['OII_KCWI'])\n",
    "    mask[nebulae_mask_KCWI==row['region_ID']]=diff\n",
    "    if np.isnan(diff):\n",
    "        bad[nebulae_mask_KCWI==row['region_ID']]=1\n",
    "\n",
    "im = ax1.imshow(mask,alpha=0.6,vmin=0,vmax=100)\n",
    "#ax1.imshow(bad,alpha=0.9,vmin=0,vmax=1,cmap=plt.cm.Reds)\n",
    "ax1.axis('off')\n",
    "ax1.set_title(r'[O\\,\\textsc{ii}] KCWI (S/N$\\geq 1$)')\n",
    "#ax.set(xlim=[xmin,xmax],ylim=[ymin,ymax])\n",
    "\n",
    "ax2 = fig.add_subplot(122,projection=OII_KCWI.wcs)\n",
    "norm=simple_norm(OII_KCWI.data,clip=False,percent=99)\n",
    "ax2.imshow(OII_KCWI.data,norm=norm,cmap=plt.cm.gray_r)\n",
    "\n",
    "tmp = OII_fluxes[OII_fluxes['OII3726_FLUX']<1*OII_fluxes['OII3726_FLUX_ERR']]\n",
    "print(len(tmp))\n",
    "mask = np.full_like(nebulae_mask_KCWI,np.nan)\n",
    "bad = np.full_like(nebulae_mask_KCWI,np.nan)\n",
    "\n",
    "for row in tmp:\n",
    "    diff = 100*np.abs((row['OII_KCWI']-row['OII3726_FLUX'])/row['OII_KCWI'])\n",
    "    mask[nebulae_mask_KCWI==row['region_ID']]=diff\n",
    "    if np.isnan(diff):\n",
    "        bad[nebulae_mask_KCWI==row['region_ID']]=1\n",
    "\n",
    "im = ax2.imshow(mask,alpha=0.6,vmin=0,vmax=100)\n",
    "#ax2.imshow(bad,alpha=0.9,vmin=0,vmax=1,cmap=plt.cm.Reds)\n",
    "ax2.axis('off')\n",
    "ax2.set_title(r'[O\\,\\textsc{ii}] KCWI (S/N$<1$)')\n",
    "#ax.set(xlim=[xmin,xmax],ylim=[ymin,ymax])\n",
    "        \n",
    "plt.tight_layout()\n",
    "fig.subplots_adjust(right=0.85,wspace=0.1)\n",
    "cbar_ax = fig.add_axes([0.87, 0.21, 0.02, 0.6])\n",
    "fig.colorbar(im,cax=cbar_ax,label=r'difference in percent')\n",
    "        \n",
    "#fig.colorbar(im,label='difference in percent')\n",
    "plt.savefig(basedir/'reports'/'KCWI_SITELLE_regions_diff.pdf',dpi=300)\n",
    "\n",
    "plt.show()"
   ]
  },
  {
   "cell_type": "markdown",
   "metadata": {},
   "source": [
    "reproject line maps instead of masks"
   ]
  },
  {
   "cell_type": "code",
   "execution_count": null,
   "metadata": {},
   "outputs": [],
   "source": [
    "import pyneb as pn\n",
    "EBV_NGC2835 = 0.089\n",
    "EBV_NGC0628 = 0.062\n",
    "\n",
    "rc_MW = pn.RedCorr(R_V=3.1,E_BV=EBV_NGC2835,law='CCM89 oD94')\n",
    "\n",
    "\n",
    "with fits.open(basedir/'data'/'data_v2p1'/'Nebulae_Catalogue_v2p1_OII.fits') as hdul:\n",
    "    OII_fluxes = Table(hdul[1].data)\n",
    "OII_fluxes = OII_fluxes[OII_fluxes['gal_name']=='NGC2835']\n",
    "OII_fluxes['outside'] = [np.any(np.isnan(OII_KCWI_reprojected[nebulae_mask.data==region_ID])) for region_ID in OII_fluxes['region_ID']]\n",
    "OII_fluxes = OII_fluxes[~OII_fluxes['outside']]\n",
    "OII_fluxes['OII_KCWI'] = np.array([np.nansum(OII_KCWI_reprojected[nebulae_mask.data==region_ID]) for region_ID in OII_fluxes['region_ID']]) \n",
    "OII_fluxes['OII_KCWI'] *= 1e4*rc_MW.getCorr(3726)\n",
    "\n",
    "print(f'{len(OII_fluxes)} regions in KCWI FOV')"
   ]
  },
  {
   "cell_type": "code",
   "execution_count": null,
   "metadata": {},
   "outputs": [],
   "source": [
    "fig,ax=plt.subplots(figsize=(4,4))\n",
    "\n",
    "lim = [1e3,1e6]\n",
    "ax.scatter(OII_fluxes['OII_KCWI']/2.2,OII_fluxes['OII3726_FLUX'])\n",
    "\n",
    "ax.plot(lim,lim,color='black')\n",
    "ax.set(xscale='log',xlim=lim,yscale='log',ylim=lim,\n",
    "       ylabel=r'[O\\,\\textsc{ii}] (SITELLE)',xlabel=r'[O\\,\\textsc{ii}] (KCWI)')\n",
    "\n",
    "plt.show()"
   ]
  },
  {
   "cell_type": "markdown",
   "metadata": {},
   "source": [
    "### Measure flux in random apertures"
   ]
  },
  {
   "cell_type": "code",
   "execution_count": null,
   "metadata": {},
   "outputs": [],
   "source": [
    "from photutils import SkyCircularAperture, aperture_photometry\n",
    "\n",
    "x,y=np.random.randint(low=(0,0),high=OII_KCWI.data.shape,size=(50,2)).T\n",
    "coordinates = SkyCoord.from_pixel(x,y,wcs=OII_KCWI.wcs)\n",
    "\n",
    "apertures = SkyCircularAperture(coordinates,2*u.arcsec)\n",
    "fluxes_SITELLE = aperture_photometry(OII_SITELLE,apertures)\n",
    "fluxes_KCWI = aperture_photometry(OII_KCWI,apertures)\n",
    "\n",
    "pixel_aperture = aperture.to_pixel(OII_SITELLE.wcs)"
   ]
  },
  {
   "cell_type": "code",
   "execution_count": null,
   "metadata": {},
   "outputs": [],
   "source": [
    "fig,ax=plt.subplots(figsize=(6,6))\n",
    "\n",
    "lim = [1e-19,1e-13]\n",
    "ax.scatter(4*fluxes_SITELLE['aperture_sum'],1e-16*fluxes_KCWI['aperture_sum'])\n",
    "\n",
    "ax.plot(lim,lim,color='black')\n",
    "ax.set(xscale='log',xlim=lim,yscale='log',ylim=lim)\n",
    "\n",
    "plt.show()"
   ]
  },
  {
   "cell_type": "code",
   "execution_count": null,
   "metadata": {},
   "outputs": [],
   "source": [
    "from astrotools.metallicity import ratio_from_electron_density\n",
    "\n",
    "\n",
    "O2 = pn.Atom('O', 2)\n",
    "S2 = pn.Atom('S', 2)\n",
    "\n",
    "ratios = np.linspace(0.4,1.5)\n",
    "\n",
    "density_O2 = O2.getTemDen(int_ratio=ratios, tem=1e4, wave1=3729, wave2=3727)\n",
    "density_S2 = S2.getTemDen(int_ratio=ratios, tem=1e4, wave1=6717, wave2=6731)\n",
    "\n",
    "fig,ax=plt.subplots(figsize=(8,8/1.618))\n",
    "\n",
    "\n",
    "n_e = np.logspace(1,5,200)\n",
    "ax.plot(n_e,ratio_from_electron_density(n_e,'SII'),label='[SII]')\n",
    "ax.plot(n_e,ratio_from_electron_density(n_e,'OII'),label='[OII]')\n",
    "\n",
    "ax.plot(density_O2,ratios,label='[OII] pyneb')\n",
    "ax.plot(density_S2,ratios,label='[SII] pyneb')\n",
    "\n",
    "ax.legend()\n",
    "ax.set(xscale='log',xlim=[10,1e4])\n",
    "plt.show()"
   ]
  },
  {
   "cell_type": "markdown",
   "metadata": {},
   "source": [
    "## Old vs New fitting routine\n",
    "\n",
    "here we compare the previous fit (fixed flux ratio of 1.4, no good prior for velocity) with the updated version."
   ]
  },
  {
   "cell_type": "code",
   "execution_count": null,
   "metadata": {},
   "outputs": [],
   "source": [
    "OII_old = Table(fits.getdata(basedir/'data'/'data_v2p1'/'Nebulae_Catalogue_v2p1_OII.fits'))\n",
    "OII_old = OII_old[np.isin(OII_old['gal_name'],['NGC0628','NGC2835','NGC3351','NGC4535'])]\n",
    "OII_new = Table(fits.getdata(basedir/'data'/'data_v2p4'/'Nebulae_Catalogue_v2p1_OII.fits'))"
   ]
  },
  {
   "cell_type": "code",
   "execution_count": null,
   "metadata": {},
   "outputs": [],
   "source": [
    "np.sum(~np.isnan(OII_new['OII3726_FLUX']))\n",
    "np.sum(~np.isnan(OII_old['OII3726_FLUX']))"
   ]
  },
  {
   "cell_type": "code",
   "execution_count": null,
   "metadata": {},
   "outputs": [],
   "source": [
    "fig,ax=plt.subplots()\n",
    "\n",
    "ax.hist(OII_old['OII3726_FLUX']/OII_old['OII3726_FLUX_ERR'],bins=np.arange(0,10,1),label='old',alpha=0.7)\n",
    "ax.hist(OII_new['OII3726_FLUX']/OII_new['OII3726_FLUX_ERR'],bins=np.arange(0,10,1),label='new',alpha=0.7)\n",
    "ax.legend()\n",
    "ax.set(xlim=[0,10])\n",
    "\n",
    "plt.show()"
   ]
  },
  {
   "cell_type": "code",
   "execution_count": null,
   "metadata": {},
   "outputs": [],
   "source": [
    "fig,ax=plt.subplots()\n",
    "\n",
    "tmp = OII_new[OII_new['OII3726_broadening']<100]\n",
    "ax.hist(tmp['OII3726_FLUX']/tmp['OII3726_FLUX_ERR'],bins=np.arange(0,10,1),label='narrow',alpha=0.7)\n",
    "\n",
    "tmp = OII_new[OII_new['OII3726_broadening']>100]\n",
    "ax.hist(tmp['OII3726_FLUX']/tmp['OII3726_FLUX_ERR'],bins=np.arange(0,10,1),label='broad',alpha=0.7)\n",
    "ax.legend()\n",
    "ax.set(xlim=[0,10])\n",
    "\n",
    "plt.show()\n",
    "\n"
   ]
  },
  {
   "cell_type": "code",
   "execution_count": null,
   "metadata": {},
   "outputs": [],
   "source": [
    "OII_old = Table(fits.getdata(basedir/'data'/'data_v2p1'/'fluxes'/'NGC2835_OII_fluxes.fits'))\n",
    "OII_new = Table(fits.getdata(basedir/'data'/'data_v2p2'/'fluxes'/'NGC2835_OII_fluxes.fits'))"
   ]
  },
  {
   "cell_type": "code",
   "execution_count": null,
   "metadata": {},
   "outputs": [],
   "source": [
    "fig,ax=plt.subplots(figsize=(5,5))\n",
    "lim=[1e3,1e7]\n",
    "ax.scatter(OII_old['OII3726_FLUX'],OII_new['OII3726_FLUX'],c=OII_new['OII3726_broadening'])\n",
    "ax.plot(lim,lim,color='black')\n",
    "ax.set(xscale='log',xlim=lim,yscale='log',ylim=lim,\n",
    "      )\n",
    "\n",
    "plt.show()"
   ]
  },
  {
   "cell_type": "code",
   "execution_count": null,
   "metadata": {},
   "outputs": [],
   "source": [
    "OII_new[OII_new['OII3726_broadening']>2000]"
   ]
  }
 ],
 "metadata": {
  "kernelspec": {
   "display_name": "Python 3 (ipykernel)",
   "language": "python",
   "name": "python3"
  },
  "language_info": {
   "codemirror_mode": {
    "name": "ipython",
    "version": 3
   },
   "file_extension": ".py",
   "mimetype": "text/x-python",
   "name": "python",
   "nbconvert_exporter": "python",
   "pygments_lexer": "ipython3",
   "version": "3.11.2"
  },
  "latex_envs": {
   "LaTeX_envs_menu_present": true,
   "autoclose": false,
   "autocomplete": true,
   "bibliofile": "biblio.bib",
   "cite_by": "apalike",
   "current_citInitial": 1,
   "eqLabelWithNumbers": true,
   "eqNumInitial": 1,
   "hotkeys": {
    "equation": "Ctrl-E",
    "itemize": "Ctrl-I"
   },
   "labels_anchors": false,
   "latex_user_defs": false,
   "report_style_numbering": false,
   "user_envs_cfg": false
  },
  "toc": {
   "base_numbering": 1,
   "nav_menu": {},
   "number_sections": true,
   "sideBar": true,
   "skip_h1_title": false,
   "title_cell": "Table of Contents",
   "title_sidebar": "Contents",
   "toc_cell": false,
   "toc_position": {
    "height": "calc(100% - 180px)",
    "left": "10px",
    "top": "150px",
    "width": "213.5px"
   },
   "toc_section_display": true,
   "toc_window_display": true
  }
 },
 "nbformat": 4,
 "nbformat_minor": 4
}
