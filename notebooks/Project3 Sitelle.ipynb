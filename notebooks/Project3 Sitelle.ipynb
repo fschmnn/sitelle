{
 "cells": [
  {
   "cell_type": "markdown",
   "metadata": {},
   "source": [
    "# Project IV: [OII] fluxes <a class=\"tocSkip\">\n",
    "    \n",
    "the aim of this notebook is to combine the HII-region and cluster catalogues. \n",
    "    \n",
    "In this notebook we do the matching on a per galaxie basis. For each resolution, a set of output files is produced that matches the nebulae to the association catalogue\n"
   ]
  },
  {
   "cell_type": "code",
   "execution_count": null,
   "metadata": {},
   "outputs": [],
   "source": [
    "# reload modules after they have been modified\n",
    "%load_ext autoreload\n",
    "%autoreload 2\n",
    "\n",
    "from astrotools.packages import *\n",
    "\n",
    "from astrotools.constants import tab10, single_column, two_column\n",
    "\n",
    "%matplotlib inline\n",
    "%config InlineBackend.figure_format = 'retina'"
   ]
  },
  {
   "cell_type": "code",
   "execution_count": null,
   "metadata": {},
   "outputs": [],
   "source": [
    "logging.basicConfig(stream=sys.stdout,datefmt='%H:%M:%S',level=logging.INFO)\n",
    "logger = logging.getLogger(__name__)\n",
    "\n",
    "basedir = Path('..')  # where we save stuff (and )\n",
    "data_ext = Path('a:')/'Archive' # raw data\n",
    "\n",
    "# we use the sample table for basic galaxy properties\n",
    "sample_table = ascii.read(basedir/'..'/'pnlf'/'data'/'interim'/'sample.txt')\n",
    "sample_table.add_index('name')\n",
    "sample_table['SkyCoord'] = SkyCoord(sample_table['R.A.'],sample_table['Dec.'])"
   ]
  },
  {
   "cell_type": "markdown",
   "metadata": {},
   "source": [
    "## Read in data\n",
    "\n",
    "the galaxies listed in `hst_sample` have a cluster catalogue. The galaxies listed in `muse_sample` have astrosat observations to measure the FUV."
   ]
  },
  {
   "cell_type": "code",
   "execution_count": null,
   "metadata": {},
   "outputs": [],
   "source": [
    "# choose which version of the association catalogue to use\n",
    "version = 'v1p2'\n",
    "HSTband = 'nuv'\n",
    "scalepc = 32\n",
    "\n",
    "name = 'NGC2835'"
   ]
  },
  {
   "cell_type": "markdown",
   "metadata": {},
   "source": [
    "### MUSE (DAP + nebulae catalogues)"
   ]
  },
  {
   "cell_type": "code",
   "execution_count": null,
   "metadata": {},
   "outputs": [],
   "source": [
    "from pnlf.auxiliary import filter_table\n",
    "from pnlf.io import ReadLineMaps\n",
    "\n",
    "p = {x:sample_table.loc[name][x] for x in sample_table.columns}\n",
    "\n",
    "# DAP linemaps (Halpha and OIII)\n",
    "filename = next((data_ext/'MUSE'/'DR2.1'/'copt'/'MUSEDAP').glob(f'{name}*.fits'))\n",
    "copt_res = float(filename.stem.split('-')[1].split('asec')[0])\n",
    "with fits.open(filename) as hdul:\n",
    "    Halpha = NDData(data=hdul['HA6562_FLUX'].data,\n",
    "                    uncertainty=StdDevUncertainty(hdul['HA6562_FLUX_ERR'].data),\n",
    "                    mask=np.isnan(hdul['HA6562_FLUX'].data),\n",
    "                    meta=hdul['HA6562_FLUX'].header,\n",
    "                    wcs=WCS(hdul['HA6562_FLUX'].header))\n",
    "    Hbeta = NDData(data=hdul['HB4861_FLUX'].data,\n",
    "                    uncertainty=StdDevUncertainty(hdul['HB4861_FLUX_ERR'].data),\n",
    "                    mask=np.isnan(hdul['HB4861_FLUX'].data),\n",
    "                    meta=hdul['HB4861_FLUX'].header,\n",
    "                    wcs=WCS(hdul['HB4861_FLUX'].header))\n",
    "    OIII = NDData(data=hdul['OIII5006_FLUX'].data,\n",
    "                    uncertainty=StdDevUncertainty(hdul['OIII5006_FLUX_ERR'].data),\n",
    "                    mask=np.isnan(hdul['OIII5006_FLUX'].data),\n",
    "                    meta=hdul['OIII5006_FLUX'].header,\n",
    "                    wcs=WCS(hdul['OIII5006_FLUX'].header)) \n",
    "\n",
    "# the original catalogue from Francesco\n",
    "filename = data_ext/'Products'/'Nebulae_catalogs'/'Nebulae_catalogue_v2'/'Nebulae_catalogue_v2.fits'\n",
    "with fits.open(filename) as hdul:\n",
    "    nebulae = Table(hdul[1].data)\n",
    "with fits.open(basedir/'data'/'data_v2p1'/'Nebulae_Catalogue_v2p1_OII.fits') as hdul:\n",
    "    OII_fluxes = Table(hdul[1].data)\n",
    "nebulae = join(nebulae,OII_fluxes,keys=['gal_name','region_ID'])\n",
    "\n",
    "nebulae['SkyCoord'] = SkyCoord(nebulae['cen_ra']*u.deg,nebulae['cen_dec']*u.deg,frame='icrs')\n",
    "nebulae.rename_columns(['cen_x','cen_y'],['x','y'])\n",
    "\n",
    "\n",
    "nebulae['HIIregion'] = (nebulae['BPT_NII']==0) & (nebulae['BPT_SII']==0) & (nebulae['BPT_OI']==0)\n",
    "HII_regions = filter_table(nebulae,gal_name=name,BPT_NII=0,BPT_SII=0,BPT_OI=0)\n",
    "nebulae = filter_table(nebulae,gal_name=name)\n",
    "nebulae.add_index('region_ID')\n",
    "HII_regions.add_index('region_ID')\n",
    "\n",
    "filename = data_ext/'Products'/'Nebulae_catalogs'/'Nebulae_catalogue_v2'/'spatial_masks'/f'{name}_nebulae_mask.fits'\n",
    "with fits.open(filename) as hdul:\n",
    "    nebulae_mask = NDData(hdul[0].data.astype(float),mask=Halpha.mask,meta=hdul[0].header,wcs=WCS(hdul[0].header))\n",
    "    nebulae_mask.data[nebulae_mask.data==-1] = np.nan\n",
    "    \n",
    "print(f'{name}: {len(HII_regions)} HII-regions in final catalogue')"
   ]
  },
  {
   "cell_type": "markdown",
   "metadata": {},
   "source": [
    "### HST\n",
    "\n",
    "**white light + filter images**"
   ]
  },
  {
   "cell_type": "code",
   "execution_count": null,
   "metadata": {},
   "outputs": [],
   "source": [
    "from cluster.io import read_associations\n",
    "\n",
    "target  = name.lower()\n",
    "\n",
    "# whitelight image (we set 0s to nan)\n",
    "white_light_filename = data_ext / 'HST' / 'white_light' / f'{name.lower()}_white_24rgb.fits'\n",
    "if white_light_filename.is_file():\n",
    "    with fits.open(white_light_filename) as hdul:\n",
    "        hst_whitelight = NDData(hdul[0].data,mask=hdul[0].data==0,meta=hdul[0].header,wcs=WCS(hdul[0].header))\n",
    "        hst_whitelight.data[hst_whitelight.data==0] = np.nan\n",
    "else:\n",
    "    logging.warning('no white light image')\n",
    "    \n",
    "# filter image with uncertainties\n",
    "filename = data_ext / 'HST' / 'filterImages' / f'hlsp_phangs-hst_hst_wfc3-uvis_{name.lower()}_f275w_v1_exp-drc-sci.fits'\n",
    "with fits.open(filename) as hdul:\n",
    "    F275 = NDData(hdul[0].data,\n",
    "                  mask=hdul[0].data==0,\n",
    "                  meta=hdul[0].header,\n",
    "                  wcs=WCS(hdul[0].header))\n",
    "filename = data_ext / 'HST' / 'filterImages' / f'hlsp_phangs-hst_hst_wfc3-uvis_{name.lower()}_f275w_v1_err-drc-wht.fits'\n",
    "with fits.open(filename) as hdul:\n",
    "    F275.uncertainty = StdDevUncertainty(hdul[0].data)\n",
    "    \n",
    "associations, associations_mask = read_associations(folder=data_ext/'Products'/'stellar_associations',target=target,\n",
    "                                                    HSTband=HSTband,scalepc=scalepc,version=version)\n",
    "\n",
    "\n",
    "print(f'{name}: {len(associations)} associations in catalogue')    \n",
    "# associations mask"
   ]
  },
  {
   "cell_type": "markdown",
   "metadata": {},
   "source": [
    "### SITELLE [OII]"
   ]
  },
  {
   "cell_type": "code",
   "execution_count": null,
   "metadata": {},
   "outputs": [],
   "source": [
    "from astrotools.regions import Regions\n",
    "from reproject import reproject_interp"
   ]
  },
  {
   "cell_type": "code",
   "execution_count": null,
   "metadata": {},
   "outputs": [],
   "source": [
    "with fits.open(basedir/'data'/'data_v2p1'/'maps'/'NGC2835_OII_map_reprojected.fits') as hdul:\n",
    "    OII = NDData(data=hdul[1].data,\n",
    "                 meta=hdul[1].header,\n",
    "                 wcs=WCS(hdul[1].header))"
   ]
  },
  {
   "cell_type": "markdown",
   "metadata": {
    "heading_collapsed": true
   },
   "source": [
    "## Compare Strong line prescriptions"
   ]
  },
  {
   "cell_type": "code",
   "execution_count": null,
   "metadata": {
    "hidden": true
   },
   "outputs": [],
   "source": [
    "fig,(ax1,ax2,ax3) = plt.subplots(ncols=3,figsize=(10,4))\n",
    "\n",
    "for name,ax in zip(['NGC0628','NGC2835','NGC3351'],[ax1,ax2,ax3]):\n",
    "    with fits.open(basedir/'data'/'data_v2p1'/'maps'/f'{name}_OII_map.fits') as hdul:\n",
    "        OII_img = hdul['OII3726_FLUX'].data\n",
    "        OII_header = hdul['OII3726_FLUX'].header\n",
    "    \n",
    "    norm = simple_norm(OII_img,clip=False,percent=98)\n",
    "    ax.imshow(OII_img,norm=norm,origin='lower',cmap=plt.cm.Greys)\n",
    "    ax.set_title(name)\n",
    "    ax.axis('off')\n",
    "    \n",
    "plt.show()   "
   ]
  },
  {
   "cell_type": "markdown",
   "metadata": {
    "hidden": true
   },
   "source": [
    "use [OII] line to calculate strong line and direct abundances"
   ]
  },
  {
   "cell_type": "code",
   "execution_count": null,
   "metadata": {
    "hidden": true
   },
   "outputs": [],
   "source": [
    "from astrotools.metallicity import diagnostic_line_ratios\n",
    "\n",
    "with fits.open(basedir / 'data' / 'data_v2p1' / 'Nebulae_Catalogue_v2p1.fits') as hdul:\n",
    "    nebulae = Table(hdul[1].data)\n",
    "with fits.open(basedir/'data'/'data_v2p1'/'Nebulae_Catalogue_v2p1_OII.fits') as hdul:\n",
    "    OII_fluxes = Table(hdul[1].data)\n",
    "\n",
    "nebulae_with_OII = join(nebulae,OII_fluxes,keys=['gal_name','region_ID'])\n",
    "nebulae_with_OII = nebulae_with_OII[np.isin(nebulae_with_OII['gal_name'],['NGC0628','NGC2835','NGC3351','NGC4535'])]\n",
    "nebulae_with_OII = nebulae_with_OII[nebulae_with_OII['OII3726_FLUX_CORR']>0]\n",
    "\n",
    "line_ratios = diagnostic_line_ratios(nebulae_with_OII)"
   ]
  },
  {
   "cell_type": "markdown",
   "metadata": {
    "hidden": true
   },
   "source": [
    "compare with Figure 8 in Pilyugin+2016 (looks good if R2*=1.4)"
   ]
  },
  {
   "cell_type": "code",
   "execution_count": null,
   "metadata": {
    "hidden": true
   },
   "outputs": [],
   "source": [
    "from astrotools.metallicity import strong_line_metallicity_R, strong_line_metallicity_S\n",
    "\n",
    "subsample = nebulae_with_OII[nebulae_with_OII['OII3726_FLUX_CORR']>10*nebulae_with_OII['OII3726_FLUX_CORR_ERR']].copy()\n",
    "print(f'{len(subsample)} objects in sample')\n",
    "\n",
    "# looks a lot better with 1.4*R2\n",
    "subsample['OH_R'] = strong_line_metallicity_R(subsample['R2'],subsample['R3'],subsample['N2'])\n",
    "subsample['OH_S'] = strong_line_metallicity_S(subsample['S2'],subsample['R3'],subsample['N2'])\n",
    "\n",
    "fig,(ax1,ax2)=plt.subplots(ncols=2,figsize=(6,3))\n",
    "\n",
    "ax1.plot([8.1,8.8],[8.1,8.8],color='black')\n",
    "ax1.plot([8.1,8.8],[8.2,8.9],color='grey',ls='--')\n",
    "ax1.plot([8.1,8.8],[8.0,8.7],color='grey',ls='--')\n",
    "ax1.scatter(subsample['OH_S'],subsample['OH_R'],s=4,c=tab10[0])\n",
    "\n",
    "ax1.set(xlim=[8.1,8.8],ylim=[8.1,8.8],\n",
    "       xlabel='12+log(O/H)$_\\mathrm{S}$',\n",
    "       ylabel='12+log(O/H)$_\\mathrm{R}$')\n",
    "ax2.hist(subsample['OH_S']-subsample['OH_R'],bins=np.linspace(-0.3,0.3,20),histtype='step',color='black')\n",
    "ax2.set(xlabel=r'log(O/H)$_\\mathrm{S}-$log(O/H)$_\\mathrm{R}$')\n",
    "plt.savefig(basedir/'reports'/'12+logOH R vs S calibration.pdf',dpi=300)\n",
    "plt.show()"
   ]
  },
  {
   "cell_type": "markdown",
   "metadata": {
    "hidden": true
   },
   "source": [
    "with direct method. This requires electron temperature and density. They have to be measured in an itterative process"
   ]
  },
  {
   "cell_type": "code",
   "execution_count": null,
   "metadata": {
    "hidden": true
   },
   "outputs": [],
   "source": [
    "from astrotools.metallicity import electron_density_sulfur,\\\n",
    "                                electron_temperature_oxygen, electron_temperature_nitrogen,\\\n",
    "                                electron_temperature_sulfur, oxygen_abundance_direct\n",
    "   \n",
    "criteria = (line_ratios['OII7319_FLUX_CORR']>7*line_ratios['OII7319_FLUX_CORR_ERR']) & (line_ratios['OII3726_FLUX_CORR']>10*line_ratios['OII3726_FLUX_CORR_ERR'])\n",
    "subsample = line_ratios[criteria].copy()\n",
    "\n",
    "subsample['OH_R'] = strong_line_metallicity_R(subsample['R2'],subsample['R3'],subsample['N2'])\n",
    "subsample['OH_S'] = strong_line_metallicity_S(subsample['S2'],subsample['R3'],subsample['N2'])\n",
    "    \n",
    "# initial guess for the temperature\n",
    "subsample['t(NII)'] = electron_temperature_nitrogen(subsample['RN2'])\n",
    "subsample['t(SIII)'] = electron_temperature_sulfur(subsample['RS3'])\n",
    "subsample['n(SII)']  = electron_density_sulfur(subsample['RS2'],subsample['t(NII)'])\n",
    "\n",
    "for x in range(10):\n",
    "    subsample['t(OII)'] = electron_temperature_oxygen(subsample['RO2'],subsample['n(SII)'])\n",
    "    subsample['n(SII)'] = electron_density_sulfur(subsample['RS2'],subsample['t(OII)'])\n",
    "    print(np.nanmean(subsample['n(SII)']))\n",
    "\n",
    "subsample['OH_direct'] = oxygen_abundance_direct(subsample['R2'],subsample['R3'],subsample['t(OII)'],subsample['n(SII)'])\n"
   ]
  },
  {
   "cell_type": "code",
   "execution_count": null,
   "metadata": {
    "hidden": true
   },
   "outputs": [],
   "source": [
    "fig,(ax1,ax2)=plt.subplots(ncols=2,figsize=(6,3))\n",
    "\n",
    "ax1.plot([8.1,8.8],[8.1,8.8],color='black')\n",
    "ax1.plot([8.1,8.8],[8.2,8.9],color='grey',ls='--')\n",
    "ax1.plot([8.1,8.8],[8.0,8.7],color='grey',ls='--')\n",
    "ax1.scatter(subsample['OH_direct'],subsample['OH_R'],s=4,c=tab10[0])\n",
    "ax1.set(xlim=[8.1,8.8],ylim=[8.1,8.8],\n",
    "       xlabel='12+log(O/H) direct',\n",
    "       ylabel='12+log(O/H)$_\\mathrm{R}$')\n",
    "ax2.hist(subsample['OH_direct']-subsample['OH_R'],bins=np.linspace(-0.3,0.3,20),histtype='step',color='black')\n",
    "ax2.set(xlabel=r'log(O/H) direct$-$log(O/H)$_\\mathrm{R}$')\n",
    "#plt.savefig('12+logOH R vs S calibration.png',dpi=600)\n",
    "plt.show()"
   ]
  },
  {
   "cell_type": "markdown",
   "metadata": {
    "hidden": true
   },
   "source": [
    "compare with Figure 7 in Perez-Montero+2017"
   ]
  },
  {
   "cell_type": "code",
   "execution_count": null,
   "metadata": {
    "hidden": true
   },
   "outputs": [],
   "source": [
    "fig,ax=plt.subplots(figsize=(6,4))\n",
    "\n",
    "ax.scatter(np.log10(subsample['R23']),subsample['OH_direct'],s=4,c=subsample['logq_D91'])\n",
    "ax.set(xlim=[-0.4,1.4],ylim=[7.,9.0],\n",
    "       xlabel='log R23',\n",
    "       ylabel='12+log(O/H) direct')\n",
    "plt.show()"
   ]
  },
  {
   "cell_type": "code",
   "execution_count": null,
   "metadata": {
    "hidden": true
   },
   "outputs": [],
   "source": [
    "fig,ax=plt.subplots(figsize=(4,4))\n",
    "\n",
    "ax.plot([0.5,1.5],[0.5,1.5],color='black')\n",
    "ax.scatter(subsample['t(OII)'],subsample['t(NII)'],s=4,c=tab10[0])\n",
    "ax.set(xlim=[0.5,1.5],ylim=[0.5,1.5],\n",
    "       xlabel='t([OII])',\n",
    "       ylabel='t([NII])')\n",
    "#plt.savefig('12+logOH R vs S calibration.png',dpi=600)\n",
    "plt.show()"
   ]
  },
  {
   "cell_type": "markdown",
   "metadata": {
    "heading_collapsed": true
   },
   "source": [
    "## Compare fitted spectrum to line map\n",
    "\n"
   ]
  },
  {
   "cell_type": "code",
   "execution_count": null,
   "metadata": {
    "hidden": true
   },
   "outputs": [],
   "source": [
    "nebulae_mask_OII = reproject_interp(nebulae_mask,\n",
    "                                     output_projection=Halpha.wcs,\n",
    "                                     shape_out=OII.data.shape,\n",
    "                                     order='nearest-neighbor',return_footprint=False)  "
   ]
  },
  {
   "cell_type": "code",
   "execution_count": null,
   "metadata": {
    "hidden": true
   },
   "outputs": [],
   "source": [
    "# the shape of the [OII] map is wrong\n",
    "nebulae['OII3726_FLUX_NEW'] = np.array([np.nansum(OII.data[nebulae_mask_OII==region_ID]) for region_ID in nebulae['region_ID']])*1e20 \n",
    "nebulae['HA6562_FLUX_NEW'] = np.array([np.nansum(Halpha.data[nebulae_mask.data==region_ID]) for region_ID in nebulae['region_ID']]) "
   ]
  },
  {
   "cell_type": "code",
   "execution_count": null,
   "metadata": {
    "hidden": true
   },
   "outputs": [],
   "source": [
    "fig,ax=plt.subplots(figsize=(single_column,single_column))\n",
    "\n",
    "lim = [1e2,1e6]\n",
    "ax.scatter(nebulae['OII3726_FLUX'],nebulae['OII3726_FLUX_NEW']/4,s=1)\n",
    "ax.plot(lim,lim,color='black')\n",
    "ax.set(xlabel=r'[O\\,\\textsc{ii}] (fitted spectrum)',ylabel=r'[O\\,\\textsc{ii}] (line map)',\n",
    "        xscale='log',yscale='log',xlim=lim,ylim=lim)\n",
    "rho,p=spearmanr(nebulae['OII3726_FLUX'],nebulae['OII3726_FLUX_NEW'],nan_policy='omit')\n",
    "print(f'[OII]: rho={rho:.2f}, p-value={p:.2g}')\n",
    "ax.set_title(r'$\\rho=$'+f'{rho:.2f}, p-value={p:.2g}',fontsize=8)\n",
    "\n",
    "plt.show()"
   ]
  },
  {
   "cell_type": "markdown",
   "metadata": {},
   "source": [
    "## TYPHOON"
   ]
  },
  {
   "cell_type": "code",
   "execution_count": null,
   "metadata": {},
   "outputs": [],
   "source": [
    "with fits.open(basedir/'data'/'typhoon'/'NGC2835_Halpha_WCS.fits') as hdul:\n",
    "    typhoon_halpha = NDData(data=hdul[0].data,\n",
    "                 meta=hdul[0].header,\n",
    "                 wcs=WCS(hdul[0].header))\n",
    "with fits.open(basedir/'..'/'sitelle'/'data'/'typhoon'/'N2835_TG10_sig3.50000_hiiphot_WCS.fits') as hdul:\n",
    "    typhoon_mask = NDData(data=hdul[0].data,\n",
    "                     meta=hdul[0].header,\n",
    "                     wcs=typhoon_halpha.wcs)\n",
    "\n",
    "names = ['HIIregion','Rgal(kpc)','Halpha','Halpha_e','Hbeta','Hbeta_e',\n",
    "         'OIII5007','OIII5007_e','OIII4636','OIII4636_e',\n",
    "         'NII6583','NII6583_e','SII6716,31','SII6716,31_e',\n",
    "         'OII3726,29','OII3726,29_e','SII6716','SII6716_e',\n",
    "         'SII6731','SII6731_e']\n",
    "\n",
    "typhoon_catalogue = ascii.read(basedir/'data'/'typhoon'/'NGC2835_HIIdata_notdereddened_WCS.dat',names=names)\n",
    "typhoon_catalogue.rename_column('HIIregion','region_ID')\n",
    "with fits.open(basedir/'data'/'typhoon'/'NGC2835_typhoon_OII_fluxes.fits') as hdul:\n",
    "    OII_typhoon = Table(hdul[1].data)\n",
    "typhoon_catalogue = join(typhoon_catalogue,OII_typhoon,keys='region_ID')"
   ]
  },
  {
   "cell_type": "markdown",
   "metadata": {},
   "source": [
    "the TYPHOON H$\\alpha$ with the regions overplotted"
   ]
  },
  {
   "cell_type": "markdown",
   "metadata": {},
   "source": [
    "### use the reprojected map to measure the fluxes"
   ]
  },
  {
   "cell_type": "code",
   "execution_count": null,
   "metadata": {},
   "outputs": [],
   "source": [
    "typhoon_regions = Regions(typhoon_mask.data,projection=typhoon_mask.wcs)\n",
    "\n",
    "typhoon_muse, footprint = reproject_interp(typhoon_mask,\n",
    "                                 output_projection=nebulae_mask.wcs,\n",
    "                                 shape_out=nebulae_mask.data.shape,\n",
    "                                 order='nearest-neighbor',return_footprint=True)    \n",
    "typhoon_regions_muse = Regions(typhoon_muse,projection=Halpha.wcs)\n",
    "\n",
    "# show the footprint of the MUSE Halpha\n",
    "_, footprint = reproject_interp(Halpha,\n",
    "                                output_projection=typhoon_mask.wcs,\n",
    "                                shape_out=typhoon_mask.data.shape,\n",
    "                                order='nearest-neighbor',return_footprint=True) "
   ]
  },
  {
   "cell_type": "markdown",
   "metadata": {},
   "source": [
    "look at the reprojected TYPHOON masks"
   ]
  },
  {
   "cell_type": "code",
   "execution_count": null,
   "metadata": {},
   "outputs": [],
   "source": [
    "fig = plt.figure(figsize=(1.5*two_column,1.3*two_column/3))\n",
    "\n",
    "ax1 = fig.add_subplot(131,projection=Halpha.wcs)\n",
    "norm = simple_norm(typhoon_halpha.data,clip=False,percent=99.6)\n",
    "ax1.imshow(typhoon_halpha.data,norm=norm,cmap=plt.cm.gray_r)\n",
    "ax1.imshow(footprint,alpha=0.4,cmap=plt.cm.Blues)\n",
    "for cont in typhoon_regions.contours:\n",
    "    ax1.plot(cont[:,1], cont[:,0], 'k-',lw=0.2,color='red')\n",
    "ax1.set(xlabel='R.A.',ylabel='Dec.',ylim=[250,450])\n",
    "ax1.set_title(r'TYPHOON H$\\alpha$',fontsize=7)\n",
    "\n",
    "ax2 = fig.add_subplot(132,projection=Halpha.wcs)\n",
    "norm = simple_norm(Halpha.data,clip=False,percent=99.6)\n",
    "ax2.imshow(Halpha.data,norm=norm,cmap=plt.cm.gray_r)\n",
    "for cont in typhoon_regions_muse.contours:\n",
    "    ax2.plot(cont[:,1], cont[:,0], 'k-',lw=0.2,color='red')\n",
    "ax2.set(xlabel='R.A.',ylabel=' ')\n",
    "#ax2.coords[1].set_ticklabel_visible(False)\n",
    "ax2.set_title(r'MUSE H$\\alpha$',fontsize=7)\n",
    "\n",
    "\n",
    "ax3 = fig.add_subplot(133,projection=OII.wcs)\n",
    "norm = simple_norm(OII.data,clip=False,percent=99.6)\n",
    "ax3.imshow(OII.data,norm=norm,cmap=plt.cm.gray_r)\n",
    "for cont in typhoon_regions_muse.contours:\n",
    "    ax3.plot(cont[:,1], cont[:,0], 'k-',lw=0.2,color='red')\n",
    "ax3.set(xlabel='R.A.',ylabel='Dec.')\n",
    "ax3.coords[1].set_ticklabel_visible(False)\n",
    "ax3.set_title('SITELLE [OII]',fontsize=7)\n",
    "\n",
    "plt.tight_layout()\n",
    "plt.savefig(basedir/'reports'/'TYPHOON_regions_reprojected.pdf',dpi=300)\n",
    "plt.show()"
   ]
  },
  {
   "cell_type": "code",
   "execution_count": null,
   "metadata": {},
   "outputs": [],
   "source": [
    "import pyneb as pn\n",
    "EBV_NGC2835 = 0.089\n",
    "\n",
    "rc_MW = pn.RedCorr(R_V=3.1,E_BV=EBV_NGC2835,law='CCM89 oD94')\n",
    "\n",
    "columns = ['Halpha','Halpha_e','Hbeta','Hbeta_e','OIII5007','OIII5007_e','OII3726,29','OII3726,29_e']\n",
    "wavelength = [6562,6562,4861,4861,5006,5006,3726,3627]\n",
    "\n",
    "tmp = typhoon_catalogue[['region_ID']+columns].copy()\n",
    "tmp = tmp[np.isin(tmp['region_ID'],typhoon_muse)]\n",
    "\n",
    "# the TYPHOON fluxes are not extinction corrected (MW)\n",
    "for col, wav in zip(columns,wavelength):\n",
    "    tmp[col] *= 1e3 * rc_MW.getCorr(wav)\n",
    "\n",
    "# the fluxes in typhon are in units of 1e-17 erg / cm2 / s\n",
    "tmp['Halpha_muse'] = np.array([np.nansum(Halpha.data[typhoon_muse==region_ID]) for region_ID in tmp['region_ID']]) \n",
    "tmp['Hbeta_muse'] = np.array([np.nansum(Hbeta.data[typhoon_muse==region_ID]) for region_ID in tmp['region_ID']]) \n",
    "tmp['OIII_muse'] = np.array([np.nansum(OIII.data[typhoon_muse==region_ID]) for region_ID in tmp['region_ID']]) \n",
    "tmp['OII_sitelle'] = np.array([np.nansum(OII.data[typhoon_muse==region_ID]) for region_ID in tmp['region_ID']]) * 1e20 \n",
    "\n",
    "# we need both lines [OII]3729 = 0.35 * [OII]3726 and extinction correction\n",
    "tmp['OII_sitelle'] *= rc_MW.getCorr(3726) * 1.35\n",
    "\n",
    "tmp['outside'] = [np.any(Halpha.mask[typhoon_muse==region_ID]) for region_ID in tmp['region_ID']]\n",
    "#tmp = tmp[~tmp['outside']]\n",
    "tmp['size'] = [np.sum(typhoon_muse==region_ID) for region_ID in tmp['region_ID']]\n",
    "#tmp = tmp[tmp['size']>1000]\n",
    "\n",
    "# or better use the OII fluxes from the integrated spectra\n",
    "tmp = join(tmp,OII_typhoon,keys='region_ID')\n",
    "tmp['OII_sitelle_fit'] = tmp['OII3726_FLUX']+tmp['OII3729_FLUX']\n",
    "#rc_balmer = pn.RedCorr(R_V=3.1,law='CCM89 oD94')\n",
    "#rc_balmer.setCorr(obs_over_theo=tmp['Halpha_muse']/tmp['Hbeta_muse'] / 2.86,wave1=6562.81,wave2=4861.33)"
   ]
  },
  {
   "cell_type": "code",
   "execution_count": null,
   "metadata": {},
   "outputs": [],
   "source": [
    "fig,ax=plt.subplots(figsize=(single_column,single_column))\n",
    "\n",
    "lim = [1e5,5e7]\n",
    "ax.scatter(tmp['OII_sitelle_fit'],tmp['OII_sitelle'],s=1)\n",
    "ax.plot(lim,lim,color='black')\n",
    "ax.set(xlabel=r'[O\\,\\textsc{ii}] (integrated spectra)',ylabel=r'[O\\,\\textsc{ii}] (map)',\n",
    "        xscale='log',yscale='log',xlim=lim,ylim=lim)\n",
    "rho,p=spearmanr(tmp['OII3726,29'],tmp['OII_sitelle'],nan_policy='omit')\n",
    "print(f'[OII]: rho={rho:.2f}, p-value={p:.2g}')\n",
    "ax.set_title(r'$\\rho=$'+f'{rho:.2f}, p-value={p:.2g}',fontsize=8)\n",
    "plt.savefig(basedir/'reports'/'integrated_spectra_vs_map.png',dpi=300)\n",
    "\n",
    "plt.show()"
   ]
  },
  {
   "cell_type": "code",
   "execution_count": null,
   "metadata": {},
   "outputs": [],
   "source": [
    "from scipy.stats import spearmanr\n",
    "\n",
    "fig,((ax1,ax2,ax3),(ax4,ax5,ax6))=plt.subplots(ncols=3,nrows=2,figsize=(two_column,two_column/1.5))\n",
    "factor = 1\n",
    "kwargs = {'c' : tmp['size'], 'vmin':0,'vmax':4000}\n",
    "kwargs = {}\n",
    "\n",
    "lim = [1e5,2e7]\n",
    "ax1.scatter(tmp['Halpha'],tmp['Halpha_muse'],s=1,**kwargs)\n",
    "ax1.plot(lim,lim,color='black')\n",
    "ax1.set(xlabel=r'H$\\alpha$ (TYPHOON)',ylabel=r'H$\\alpha$ (MUSE)',\n",
    "        xscale='log',yscale='log',xlim=lim,ylim=lim)\n",
    "rho,p=spearmanr(tmp['Halpha'],tmp['Halpha_muse'],nan_policy='omit')\n",
    "print(f'Halpha: rho={rho:.2f}, p-value={p:.2g}')\n",
    "#ax1.set_title(r'$\\rho=$'+f'{rho:.2f}, p-value={p:.2g}',fontsize=8)\n",
    "\n",
    "lim = [1e5,2e7]\n",
    "ax2.scatter(tmp['Hbeta'],tmp['Hbeta_muse'],s=1,**kwargs)\n",
    "ax2.plot(lim,lim,color='black')\n",
    "ax2.set(xlabel=r'H$\\beta$ (TYPHOON)',ylabel=r'H$\\beta$ (MUSE)',\n",
    "        xscale='log',yscale='log',xlim=lim,ylim=lim)\n",
    "rho,p=spearmanr(tmp['Hbeta'],tmp['Hbeta_muse'],nan_policy='omit')\n",
    "print(f'Hbeta: rho={rho:.2f}, p-value={p:.2g}')\n",
    "#ax2.set_title(r'$\\rho=$'+f'{rho:.2f}, p-value={p:.2g}',fontsize=8)\n",
    "\n",
    "lim = [1e5,5e7]\n",
    "ax3.scatter(tmp['OII3726,29'],tmp['OII_sitelle_fit']/factor,s=1,**kwargs)\n",
    "ax3.plot(lim,lim,color='black')\n",
    "ax3.set(xlabel=r'[O\\,\\textsc{ii}] (TYPHOON)',ylabel=r'[O\\,\\textsc{ii}] (SITELLE)',\n",
    "        xscale='log',yscale='log',xlim=lim,ylim=lim)\n",
    "rho,p=spearmanr(tmp['OII3726,29'],tmp['OII_sitelle_fit'],nan_policy='omit')\n",
    "print(f'[OII]: rho={rho:.2f}, p-value={p:.2g}')\n",
    "#ax3.set_title(r'$\\rho=$'+f'{rho:.2f}, p-value={p:.2g}',fontsize=8)\n",
    "\n",
    "lim = [0,1]\n",
    "ax4.scatter(tmp['OIII5007']/tmp['Halpha'],tmp['OIII_muse']/tmp['Halpha_muse'],s=1,**kwargs)\n",
    "ax4.plot(lim,lim,color='black')\n",
    "ax4.set(xlim=lim,ylim=lim,xlabel=r'[O\\,\\textsc{iii}]/H$\\alpha$ (TYPHOON)',ylabel=r'[O\\,\\textsc{iii}]/H$\\alpha$ (MUSE)')\n",
    "rho,p=spearmanr(tmp['OIII5007']/tmp['Halpha'],tmp['OIII_muse']/tmp['Halpha_muse'],nan_policy='omit')\n",
    "print(f'OIII/Halpha: rho={rho:.2f}, p-value={p:.2g}')\n",
    "#ax4.set_title(r'$\\rho=$'+f'{rho:.2f}, p-value={p:.2g}',fontsize=8)\n",
    "\n",
    "lim=[0,2]\n",
    "ax5.scatter(tmp['OII3726,29']/tmp['Halpha'],tmp['OII_sitelle_fit']/tmp['Halpha_muse']/factor,s=1,**kwargs)\n",
    "ax5.plot(lim,lim,color='black')\n",
    "ax5.set(xlim=lim,ylim=lim,xlabel=r'[O\\,\\textsc{ii}]/H$\\alpha$ (TYPHOON)',ylabel=r'[O\\,\\textsc{ii}]/H$\\alpha$ (SITELLE/MUSE)')\n",
    "rho,p=spearmanr(tmp['OII3726,29']/tmp['Halpha'],tmp['OII_sitelle_fit']/tmp['Halpha_muse'],nan_policy='omit')\n",
    "print(f'OII/Halpha: rho={rho:.2f}, p-value={p:.2g}')\n",
    "#ax5.set_title(r'$\\rho=$'+f'{rho:.2f}, p-value={p:.2g}',fontsize=8)\n",
    "\n",
    "lim=[0,4.5]\n",
    "ax6.scatter(tmp['OII3726,29']/tmp['Hbeta'],tmp['OII_sitelle_fit']/tmp['Hbeta_muse']/factor,s=1,**kwargs)\n",
    "ax6.plot(lim,lim,color='black')\n",
    "ax6.set(xlim=lim,ylim=lim,xlabel=r'[O\\,\\textsc{ii}]/H$\\beta$ (TYPHOON)',ylabel=r'[O\\,\\textsc{ii}]/H$\\beta$ (SITELLE/MUSE)')\n",
    "rho,p=spearmanr(tmp['OII3726,29']/tmp['Hbeta'],tmp['OII_sitelle_fit']/tmp['Hbeta_muse'],nan_policy='omit')\n",
    "print(f'OII/Hbeta: rho={rho:.2f}, p-value={p:.2g}')\n",
    "#ax6.set_title(r'$\\rho=$'+f'{rho:.2f}, p-value={p:.2g}',fontsize=8)\n",
    "\n",
    "plt.tight_layout()\n",
    "plt.savefig(basedir/'reports'/'TYPHOON_flux_comparison.pdf',dpi=300)\n",
    "plt.show()"
   ]
  },
  {
   "cell_type": "markdown",
   "metadata": {},
   "source": [
    "### use the reprojected regions to measure the flux"
   ]
  },
  {
   "cell_type": "code",
   "execution_count": null,
   "metadata": {},
   "outputs": [],
   "source": []
  },
  {
   "cell_type": "code",
   "execution_count": null,
   "metadata": {},
   "outputs": [],
   "source": [
    "typhoon_regions = Regions(typhoon_mask.data,projection=typhoon_mask.wcs)\n",
    "typhoon_regions_muse = typhoon_regions.reproject(Halpha.wcs,shape=Halpha.data.shape)"
   ]
  }
 ],
 "metadata": {
  "kernelspec": {
   "display_name": "Python 3",
   "language": "python",
   "name": "python3"
  },
  "language_info": {
   "codemirror_mode": {
    "name": "ipython",
    "version": 3
   },
   "file_extension": ".py",
   "mimetype": "text/x-python",
   "name": "python",
   "nbconvert_exporter": "python",
   "pygments_lexer": "ipython3",
   "version": "3.7.7"
  },
  "latex_envs": {
   "LaTeX_envs_menu_present": true,
   "autoclose": false,
   "autocomplete": true,
   "bibliofile": "biblio.bib",
   "cite_by": "apalike",
   "current_citInitial": 1,
   "eqLabelWithNumbers": true,
   "eqNumInitial": 1,
   "hotkeys": {
    "equation": "Ctrl-E",
    "itemize": "Ctrl-I"
   },
   "labels_anchors": false,
   "latex_user_defs": false,
   "report_style_numbering": false,
   "user_envs_cfg": false
  },
  "toc": {
   "base_numbering": 1,
   "nav_menu": {},
   "number_sections": true,
   "sideBar": true,
   "skip_h1_title": false,
   "title_cell": "Table of Contents",
   "title_sidebar": "Contents",
   "toc_cell": false,
   "toc_position": {
    "height": "calc(100% - 180px)",
    "left": "10px",
    "top": "150px",
    "width": "213.5px"
   },
   "toc_section_display": true,
   "toc_window_display": true
  }
 },
 "nbformat": 4,
 "nbformat_minor": 4
}
