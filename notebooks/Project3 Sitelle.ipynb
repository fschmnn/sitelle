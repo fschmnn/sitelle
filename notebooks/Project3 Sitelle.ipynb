{
 "cells": [
  {
   "cell_type": "markdown",
   "metadata": {},
   "source": [
    "# Project IV: [OII] fluxes <a class=\"tocSkip\">\n",
    "    \n",
    "the aim of this notebook is to combine the HII-region and cluster catalogues. \n",
    "    \n",
    "In this notebook we do the matching on a per galaxie basis. For each resolution, a set of output files is produced that matches the nebulae to the association catalogue\n"
   ]
  },
  {
   "cell_type": "code",
   "execution_count": null,
   "metadata": {},
   "outputs": [],
   "source": [
    "# reload modules after they have been modified\n",
    "%load_ext autoreload\n",
    "%autoreload 2\n",
    "\n",
    "from astrotools.packages import *\n",
    "\n",
    "from astrotools.constants import tab10, single_column, two_column\n",
    "\n",
    "%matplotlib inline\n",
    "%config InlineBackend.figure_format = 'retina'"
   ]
  },
  {
   "cell_type": "code",
   "execution_count": null,
   "metadata": {},
   "outputs": [],
   "source": [
    "logging.basicConfig(stream=sys.stdout,datefmt='%H:%M:%S',level=logging.INFO)\n",
    "logger = logging.getLogger(__name__)\n",
    "\n",
    "basedir = Path('..')  # where we save stuff (and )\n",
    "data_ext = Path('a:')/'Archive' # raw data\n",
    "\n",
    "# we use the sample table for basic galaxy properties\n",
    "sample_table = ascii.read(basedir/'..'/'pnlf'/'data'/'interim'/'sample.txt')\n",
    "sample_table.add_index('name')\n",
    "sample_table['SkyCoord'] = SkyCoord(sample_table['R.A.'],sample_table['Dec.'])"
   ]
  },
  {
   "cell_type": "markdown",
   "metadata": {},
   "source": [
    "## Read in data\n",
    "\n",
    "the galaxies listed in `hst_sample` have a cluster catalogue. The galaxies listed in `muse_sample` have astrosat observations to measure the FUV."
   ]
  },
  {
   "cell_type": "code",
   "execution_count": null,
   "metadata": {},
   "outputs": [],
   "source": [
    "# choose which version of the association catalogue to use\n",
    "version = 'v1p2'\n",
    "HSTband = 'nuv'\n",
    "scalepc = 32\n",
    "\n",
    "name = 'NGC2835'"
   ]
  },
  {
   "cell_type": "markdown",
   "metadata": {},
   "source": [
    "### MUSE (DAP + nebulae catalogues)"
   ]
  },
  {
   "cell_type": "code",
   "execution_count": null,
   "metadata": {},
   "outputs": [],
   "source": [
    "from pnlf.auxiliary import filter_table\n",
    "from pnlf.io import ReadLineMaps\n",
    "\n",
    "p = {x:sample_table.loc[name][x] for x in sample_table.columns}\n",
    "\n",
    "# DAP linemaps (Halpha and OIII)\n",
    "filename = next((data_ext/'MUSE'/'DR2.1'/'copt'/'MUSEDAP').glob(f'{name}*.fits'))\n",
    "copt_res = float(filename.stem.split('-')[1].split('asec')[0])\n",
    "with fits.open(filename) as hdul:\n",
    "    Halpha = NDData(data=hdul['HA6562_FLUX'].data,\n",
    "                    uncertainty=StdDevUncertainty(hdul['HA6562_FLUX_ERR'].data),\n",
    "                    mask=np.isnan(hdul['HA6562_FLUX'].data),\n",
    "                    meta=hdul['HA6562_FLUX'].header,\n",
    "                    wcs=WCS(hdul['HA6562_FLUX'].header))\n",
    "    Hbeta = NDData(data=hdul['HB4861_FLUX'].data,\n",
    "                    uncertainty=StdDevUncertainty(hdul['HB4861_FLUX_ERR'].data),\n",
    "                    mask=np.isnan(hdul['HB4861_FLUX'].data),\n",
    "                    meta=hdul['HB4861_FLUX'].header,\n",
    "                    wcs=WCS(hdul['HB4861_FLUX'].header))\n",
    "    OIII = NDData(data=hdul['OIII5006_FLUX'].data,\n",
    "                    uncertainty=StdDevUncertainty(hdul['OIII5006_FLUX_ERR'].data),\n",
    "                    mask=np.isnan(hdul['OIII5006_FLUX'].data),\n",
    "                    meta=hdul['OIII5006_FLUX'].header,\n",
    "                    wcs=WCS(hdul['OIII5006_FLUX'].header)) \n",
    "\n",
    "# the original catalogue from Francesco\n",
    "filename = data_ext/'Products'/'Nebulae_catalogs'/'Nebulae_catalogue_v2'/'Nebulae_catalogue_v2.fits'\n",
    "with fits.open(filename) as hdul:\n",
    "    nebulae = Table(hdul[1].data)\n",
    "nebulae['SkyCoord'] = SkyCoord(nebulae['cen_ra']*u.deg,nebulae['cen_dec']*u.deg,frame='icrs')\n",
    "nebulae.rename_columns(['cen_x','cen_y'],['x','y'])\n",
    "\n",
    "\n",
    "nebulae['HIIregion'] = (nebulae['BPT_NII']==0) & (nebulae['BPT_SII']==0) & (nebulae['BPT_OI']==0)\n",
    "HII_regions = filter_table(nebulae,gal_name=name,BPT_NII=0,BPT_SII=0,BPT_OI=0)\n",
    "nebulae = filter_table(nebulae,gal_name=name)\n",
    "nebulae.add_index('region_ID')\n",
    "HII_regions.add_index('region_ID')\n",
    "\n",
    "filename = data_ext/'Products'/'Nebulae_catalogs'/'Nebulae_catalogue_v2'/'spatial_masks'/f'{name}_nebulae_mask.fits'\n",
    "with fits.open(filename) as hdul:\n",
    "    nebulae_mask = NDData(hdul[0].data.astype(float),mask=Halpha.mask,meta=hdul[0].header,wcs=WCS(hdul[0].header))\n",
    "    nebulae_mask.data[nebulae_mask.data==-1] = np.nan\n",
    "    \n",
    "print(f'{name}: {len(HII_regions)} HII-regions in final catalogue')"
   ]
  },
  {
   "cell_type": "markdown",
   "metadata": {},
   "source": [
    "### HST\n",
    "\n",
    "**white light + filter images**"
   ]
  },
  {
   "cell_type": "code",
   "execution_count": null,
   "metadata": {},
   "outputs": [],
   "source": [
    "from cluster.io import read_associations\n",
    "\n",
    "target  = name.lower()\n",
    "\n",
    "# whitelight image (we set 0s to nan)\n",
    "white_light_filename = data_ext / 'HST' / 'white_light' / f'{name.lower()}_white_24rgb.fits'\n",
    "if white_light_filename.is_file():\n",
    "    with fits.open(white_light_filename) as hdul:\n",
    "        hst_whitelight = NDData(hdul[0].data,mask=hdul[0].data==0,meta=hdul[0].header,wcs=WCS(hdul[0].header))\n",
    "        hst_whitelight.data[hst_whitelight.data==0] = np.nan\n",
    "else:\n",
    "    logging.warning('no white light image')\n",
    "    \n",
    "# filter image with uncertainties\n",
    "filename = data_ext / 'HST' / 'filterImages' / f'hlsp_phangs-hst_hst_wfc3-uvis_{name.lower()}_f275w_v1_exp-drc-sci.fits'\n",
    "with fits.open(filename) as hdul:\n",
    "    F275 = NDData(hdul[0].data,\n",
    "                  mask=hdul[0].data==0,\n",
    "                  meta=hdul[0].header,\n",
    "                  wcs=WCS(hdul[0].header))\n",
    "filename = data_ext / 'HST' / 'filterImages' / f'hlsp_phangs-hst_hst_wfc3-uvis_{name.lower()}_f275w_v1_err-drc-wht.fits'\n",
    "with fits.open(filename) as hdul:\n",
    "    F275.uncertainty = StdDevUncertainty(hdul[0].data)\n",
    "    \n",
    "associations, associations_mask = read_associations(folder=data_ext/'Products'/'stellar_associations',target=target,\n",
    "                                                    HSTband=HSTband,scalepc=scalepc,version=version)\n",
    "\n",
    "\n",
    "print(f'{name}: {len(associations)} associations in catalogue')    \n",
    "# associations mask"
   ]
  },
  {
   "cell_type": "markdown",
   "metadata": {},
   "source": [
    "### SITELLE [OII]"
   ]
  },
  {
   "cell_type": "code",
   "execution_count": null,
   "metadata": {},
   "outputs": [],
   "source": [
    "from astrotools.regions import Regions\n",
    "from reproject import reproject_interp"
   ]
  },
  {
   "cell_type": "code",
   "execution_count": null,
   "metadata": {},
   "outputs": [],
   "source": [
    "with fits.open(basedir/'data'/'data_v2p1'/'maps'/'NGC2835_OII_map_reprojected.fits') as hdul:\n",
    "    OII = NDData(data=hdul[1].data,\n",
    "                 meta=hdul[1].header,\n",
    "                 wcs=WCS(hdul[1].header))"
   ]
  },
  {
   "cell_type": "markdown",
   "metadata": {
    "heading_collapsed": true
   },
   "source": [
    "## Compare Strong line prescriptions"
   ]
  },
  {
   "cell_type": "code",
   "execution_count": null,
   "metadata": {
    "hidden": true
   },
   "outputs": [],
   "source": [
    "fig,(ax1,ax2,ax3) = plt.subplots(ncols=3,figsize=(10,4))\n",
    "\n",
    "for name,ax in zip(['NGC0628','NGC2835','NGC3351'],[ax1,ax2,ax3]):\n",
    "    with fits.open(basedir/'data'/'data_v2p1'/'maps'/f'{name}_OII_map.fits') as hdul:\n",
    "        OII_img = hdul['OII3726_FLUX'].data\n",
    "        OII_header = hdul['OII3726_FLUX'].header\n",
    "    \n",
    "    norm = simple_norm(OII_img,clip=False,percent=98)\n",
    "    ax.imshow(OII_img,norm=norm,origin='lower',cmap=plt.cm.Greys)\n",
    "    ax.set_title(name)\n",
    "    ax.axis('off')\n",
    "    \n",
    "plt.show()   "
   ]
  },
  {
   "cell_type": "markdown",
   "metadata": {
    "hidden": true
   },
   "source": [
    "use [OII] line to calculate strong line and direct abundances"
   ]
  },
  {
   "cell_type": "code",
   "execution_count": null,
   "metadata": {
    "hidden": true
   },
   "outputs": [],
   "source": [
    "from astrotools.metallicity import diagnostic_line_ratios\n",
    "\n",
    "with fits.open(basedir / 'data' / 'data_v2p1' / 'Nebulae_Catalogue_v2p1.fits') as hdul:\n",
    "    nebulae = Table(hdul[1].data)\n",
    "with fits.open(basedir/'data'/'data_v2p1'/'Nebulae_Catalogue_v2p1_OII.fits') as hdul:\n",
    "    OII_fluxes = Table(hdul[1].data)\n",
    "\n",
    "nebulae_with_OII = join(nebulae,OII_fluxes,keys=['gal_name','region_ID'])\n",
    "nebulae_with_OII = nebulae_with_OII[np.isin(nebulae_with_OII['gal_name'],['NGC0628','NGC2835','NGC3351','NGC4535'])]\n",
    "nebulae_with_OII = nebulae_with_OII[nebulae_with_OII['OII3726_FLUX_CORR']>0]\n",
    "\n",
    "line_ratios = diagnostic_line_ratios(nebulae_with_OII)"
   ]
  },
  {
   "cell_type": "markdown",
   "metadata": {
    "hidden": true
   },
   "source": [
    "compare with Figure 8 in Pilyugin+2016 (looks good if R2*=1.4)"
   ]
  },
  {
   "cell_type": "code",
   "execution_count": null,
   "metadata": {
    "hidden": true
   },
   "outputs": [],
   "source": [
    "from astrotools.metallicity import strong_line_metallicity_R, strong_line_metallicity_S\n",
    "\n",
    "subsample = nebulae_with_OII[nebulae_with_OII['OII3726_FLUX_CORR']>10*nebulae_with_OII['OII3726_FLUX_CORR_ERR']].copy()\n",
    "print(f'{len(subsample)} objects in sample')\n",
    "\n",
    "# looks a lot better with 1.4*R2\n",
    "subsample['OH_R'] = strong_line_metallicity_R(subsample['R2'],subsample['R3'],subsample['N2'])\n",
    "subsample['OH_S'] = strong_line_metallicity_S(subsample['S2'],subsample['R3'],subsample['N2'])\n",
    "\n",
    "fig,(ax1,ax2)=plt.subplots(ncols=2,figsize=(6,3))\n",
    "\n",
    "ax1.plot([8.1,8.8],[8.1,8.8],color='black')\n",
    "ax1.plot([8.1,8.8],[8.2,8.9],color='grey',ls='--')\n",
    "ax1.plot([8.1,8.8],[8.0,8.7],color='grey',ls='--')\n",
    "ax1.scatter(subsample['OH_S'],subsample['OH_R'],s=4,c=tab10[0])\n",
    "\n",
    "ax1.set(xlim=[8.1,8.8],ylim=[8.1,8.8],\n",
    "       xlabel='12+log(O/H)$_\\mathrm{S}$',\n",
    "       ylabel='12+log(O/H)$_\\mathrm{R}$')\n",
    "ax2.hist(subsample['OH_S']-subsample['OH_R'],bins=np.linspace(-0.3,0.3,20),histtype='step',color='black')\n",
    "ax2.set(xlabel=r'log(O/H)$_\\mathrm{S}-$log(O/H)$_\\mathrm{R}$')\n",
    "#plt.savefig('12+logOH R vs S calibration.png',dpi=600)\n",
    "plt.show()"
   ]
  },
  {
   "cell_type": "markdown",
   "metadata": {
    "hidden": true
   },
   "source": [
    "with direct method. This requires electron temperature and density. They have to be measured in an itterative process"
   ]
  },
  {
   "cell_type": "code",
   "execution_count": null,
   "metadata": {
    "hidden": true
   },
   "outputs": [],
   "source": [
    "from astrotools.metallicity import electron_density_sulfur,\\\n",
    "                                electron_temperature_oxygen, electron_temperature_nitrogen,\\\n",
    "                                electron_temperature_sulfur, oxygen_abundance_direct\n",
    "   \n",
    "criteria = (line_ratios['OII7319_FLUX_CORR']>7*line_ratios['OII7319_FLUX_CORR_ERR']) & (line_ratios['OII3726_FLUX_CORR']>10*line_ratios['OII3726_FLUX_CORR_ERR'])\n",
    "subsample = line_ratios[criteria].copy()\n",
    "\n",
    "subsample['OH_R'] = strong_line_metallicity_R(subsample['R2'],subsample['R3'],subsample['N2'])\n",
    "subsample['OH_S'] = strong_line_metallicity_S(subsample['S2'],subsample['R3'],subsample['N2'])\n",
    "    \n",
    "# initial guess for the temperature\n",
    "subsample['t(NII)'] = electron_temperature_nitrogen(subsample['RN2'])\n",
    "subsample['t(SIII)'] = electron_temperature_sulfur(subsample['RS3'])\n",
    "subsample['n(SII)']  = electron_density_sulfur(subsample['RS2'],subsample['t(NII)'])\n",
    "\n",
    "for x in range(10):\n",
    "    subsample['t(OII)'] = electron_temperature_oxygen(subsample['RO2'],subsample['n(SII)'])\n",
    "    subsample['n(SII)'] = electron_density_sulfur(subsample['RS2'],subsample['t(OII)'])\n",
    "    print(np.nanmean(subsample['n(SII)']))\n",
    "\n",
    "subsample['OH_direct'] = oxygen_abundance_direct(subsample['R2'],subsample['R3'],subsample['t(OII)'],subsample['n(SII)'])\n"
   ]
  },
  {
   "cell_type": "code",
   "execution_count": null,
   "metadata": {
    "hidden": true
   },
   "outputs": [],
   "source": [
    "fig,(ax1,ax2)=plt.subplots(ncols=2,figsize=(6,3))\n",
    "\n",
    "ax1.plot([8.1,8.8],[8.1,8.8],color='black')\n",
    "ax1.plot([8.1,8.8],[8.2,8.9],color='grey',ls='--')\n",
    "ax1.plot([8.1,8.8],[8.0,8.7],color='grey',ls='--')\n",
    "ax1.scatter(subsample['OH_direct'],subsample['OH_R'],s=4,c=tab10[0])\n",
    "ax1.set(xlim=[8.1,8.8],ylim=[8.1,8.8],\n",
    "       xlabel='12+log(O/H) direct',\n",
    "       ylabel='12+log(O/H)$_\\mathrm{R}$')\n",
    "ax2.hist(subsample['OH_direct']-subsample['OH_R'],bins=np.linspace(-0.3,0.3,20),histtype='step',color='black')\n",
    "ax2.set(xlabel=r'log(O/H) direct$-$log(O/H)$_\\mathrm{R}$')\n",
    "#plt.savefig('12+logOH R vs S calibration.png',dpi=600)\n",
    "plt.show()"
   ]
  },
  {
   "cell_type": "markdown",
   "metadata": {
    "hidden": true
   },
   "source": [
    "compare with Figure 7 in Perez-Montero+2017"
   ]
  },
  {
   "cell_type": "code",
   "execution_count": null,
   "metadata": {
    "hidden": true
   },
   "outputs": [],
   "source": [
    "fig,ax=plt.subplots(figsize=(6,4))\n",
    "\n",
    "ax.scatter(np.log10(subsample['R23']),subsample['OH_direct'],s=4,c=subsample['logq_D91'])\n",
    "ax.set(xlim=[-0.4,1.4],ylim=[7.,9.0],\n",
    "       xlabel='log R23',\n",
    "       ylabel='12+log(O/H) direct')\n",
    "plt.show()"
   ]
  },
  {
   "cell_type": "code",
   "execution_count": null,
   "metadata": {
    "hidden": true
   },
   "outputs": [],
   "source": [
    "fig,ax=plt.subplots(figsize=(4,4))\n",
    "\n",
    "ax.plot([0.5,1.5],[0.5,1.5],color='black')\n",
    "ax.scatter(subsample['t(OII)'],subsample['t(NII)'],s=4,c=tab10[0])\n",
    "ax.set(xlim=[0.5,1.5],ylim=[0.5,1.5],\n",
    "       xlabel='t([OII])',\n",
    "       ylabel='t([NII])')\n",
    "#plt.savefig('12+logOH R vs S calibration.png',dpi=600)\n",
    "plt.show()"
   ]
  },
  {
   "cell_type": "markdown",
   "metadata": {},
   "source": [
    "## TYPHOON"
   ]
  },
  {
   "cell_type": "code",
   "execution_count": null,
   "metadata": {},
   "outputs": [],
   "source": [
    "with fits.open(basedir/'data'/'typhoon'/'NGC2835_Halpha_WCS.fits') as hdul:\n",
    "    typhoon_halpha = NDData(data=hdul[0].data,\n",
    "                 meta=hdul[0].header,\n",
    "                 wcs=WCS(hdul[0].header))\n",
    "with fits.open(basedir/'..'/'sitelle'/'data'/'typhoon'/'N2835_TG10_sig3.50000_hiiphot_WCS.fits') as hdul:\n",
    "    typhoon_mask = NDData(data=hdul[0].data,\n",
    "                     meta=hdul[0].header,\n",
    "                     wcs=typhoon_halpha.wcs)\n",
    "\n",
    "names = ['HIIregion','Rgal(kpc)','Halpha','Halpha_e','Hbeta','Hbeta_e',\n",
    "         'OIII5007','OIII5007_e','OIII4636','OIII4636_e',\n",
    "         'NII6583','NII6583_e','SII6716,31','SII6716,31_e',\n",
    "         'OII3726,29','OII3726,29_e','SII6716','SII6716_e',\n",
    "         'SII6731','SII6731_e']\n",
    "\n",
    "typhoon_catalogue = ascii.read(basedir/'data'/'typhoon'/'NGC2835_HIIdata_notdereddened_WCS.dat',names=names)"
   ]
  },
  {
   "cell_type": "markdown",
   "metadata": {},
   "source": [
    "the TYPHOON H$\\alpha$ with the regions overplotted"
   ]
  },
  {
   "cell_type": "code",
   "execution_count": null,
   "metadata": {},
   "outputs": [],
   "source": [
    "typhoon_regions = Regions(typhoon_mask.data,projection=typhoon_mask.wcs)\n",
    "\n",
    "typhoon_regions.plot(image=typhoon_halpha.data,regions=False,\n",
    "                     filename=None,\n",
    "                     xlabel='R.A.',ylabel='Dec.', \n",
    "                     percent=99.6,ylim=[250,450])\n",
    "plt.show()"
   ]
  },
  {
   "cell_type": "markdown",
   "metadata": {},
   "source": [
    "### use the reprojected map to measure the fluxes"
   ]
  },
  {
   "cell_type": "code",
   "execution_count": null,
   "metadata": {},
   "outputs": [],
   "source": [
    "typhoon_muse = reproject_interp(typhoon_mask,\n",
    "                                 output_projection=nebulae_mask.wcs,\n",
    "                                 shape_out=nebulae_mask.data.shape,\n",
    "                                 order='nearest-neighbor',return_footprint=False)    "
   ]
  },
  {
   "cell_type": "markdown",
   "metadata": {},
   "source": [
    "look at the reprojected TYPHOON masks"
   ]
  },
  {
   "cell_type": "code",
   "execution_count": null,
   "metadata": {},
   "outputs": [],
   "source": [
    "typhoon_regions_muse = Regions(typhoon_muse,projection=Halpha.wcs)\n",
    "\n",
    "ax = typhoon_regions_muse.plot(image=Halpha.data,regions=False,\n",
    "                     filename=None,figsize=(5,5),\n",
    "                     xlabel='R.A.',ylabel='Dec.', \n",
    "                     percent=99.6)\n",
    "ax.set_title(r'TYPHOON HII regions over MUSE H$\\alpha$')\n",
    "plt.show()"
   ]
  },
  {
   "cell_type": "code",
   "execution_count": null,
   "metadata": {},
   "outputs": [],
   "source": [
    "typhoon_regions_muse = Regions(typhoon_muse,projection=Halpha.wcs)\n",
    "\n",
    "ax = typhoon_regions_muse.plot(image=OII.data,regions=False,\n",
    "                     filename=None,figsize=(5,5),\n",
    "                     xlabel='R.A.',ylabel='Dec.', \n",
    "                     percent=99.6)\n",
    "ax.set_title('TYPHOON HII regions over SITELLE [OII]')\n",
    "plt.show()"
   ]
  },
  {
   "cell_type": "code",
   "execution_count": null,
   "metadata": {},
   "outputs": [],
   "source": [
    "import pyneb as pn\n",
    "EBV_NGC2835 = 0.089\n",
    "\n",
    "rc_MW = pn.RedCorr(R_V=3.1,E_BV=EBV_NGC2835,law='CCM89 oD94')\n",
    "\n",
    "columns = ['Halpha','Halpha_e','Hbeta','Hbeta_e','OIII5007','OIII5007_e','OII3726,29','OII3726,29_e']\n",
    "wavelength = [6562,6562,4861,4861,5006,5006,3726,3627]\n",
    "\n",
    "tmp = typhoon_catalogue[['HIIregion']+columns].copy()\n",
    "tmp = tmp[np.isin(tmp['HIIregion'],typhoon_muse)]\n",
    "\n",
    "# the TYPHOON fluxes are not extinction corrected (MW)\n",
    "for col, wav in zip(columns,wavelength):\n",
    "    tmp[col] *= rc_MW.getCorr(wav)\n",
    "\n",
    "# the fluxes in typhon are in units of 1e-17 erg / cm2 / s\n",
    "tmp['Halpha_muse'] = np.array([np.nansum(Halpha.data[typhoon_muse==region_ID]) for region_ID in tmp['HIIregion']]) / 1e3\n",
    "tmp['Hbeta_muse'] = np.array([np.nansum(Hbeta.data[typhoon_muse==region_ID]) for region_ID in tmp['HIIregion']]) / 1e3\n",
    "tmp['OII_muse'] = np.array([np.nansum(OII.data[typhoon_muse==region_ID]) for region_ID in tmp['HIIregion']]) * 1e17 \n",
    "tmp['OIII_muse'] = np.array([np.nansum(OIII.data[typhoon_muse==region_ID]) for region_ID in tmp['HIIregion']]) / 1e3\n",
    "\n",
    "# we need both lines [OII]3729 = 0.35 * [OII]3726 and extinction correction\n",
    "tmp['OII_muse'] *= rc_MW.getCorr(3726) * 1.35\n",
    "\n",
    "#rc_balmer = pn.RedCorr(R_V=3.1,law='CCM89 oD94')\n",
    "#rc_balmer.setCorr(obs_over_theo=tmp['Halpha_muse']/tmp['Hbeta_muse'] / 2.86,wave1=6562.81,wave2=4861.33)"
   ]
  },
  {
   "cell_type": "code",
   "execution_count": null,
   "metadata": {},
   "outputs": [],
   "source": [
    "from scipy.stats import spearmanr\n",
    "\n",
    "fig,(ax1,ax2,ax3)=plt.subplots(ncols=3,figsize=(two_column,two_column/3))\n",
    "\n",
    "lim = [100,2e4]\n",
    "ax1.scatter(tmp['Halpha'],tmp['Halpha_muse'])\n",
    "ax1.plot(lim,lim,color='black')\n",
    "ax1.set(xlabel=r'H$\\alpha$ (TYPHOON)',ylabel=r'H$\\alpha$ (MUSE)',\n",
    "        xscale='log',yscale='log',xlim=lim,ylim=lim)\n",
    "rho,p=spearmanr(tmp['Halpha'],tmp['Halpha_muse'],nan_policy='omit')\n",
    "print(f'Halpha: rho={rho:.2f}, p-value={p:.2g}')\n",
    "ax1.set_title(r'$\\rho=$'+f'{rho:.2f}, p-value={p:.2g}',fontsize=8)\n",
    "\n",
    "lim = [0,1]\n",
    "ax2.scatter(tmp['OIII5007']/tmp['Halpha'],tmp['OIII_muse']/tmp['Halpha_muse'])\n",
    "ax2.plot(lim,lim,color='black')\n",
    "ax2.set(xlim=lim,ylim=lim,xlabel=r'[O\\,\\textsc{iii}]/H$\\alpha$ (TYPHOON)',ylabel=r'[O\\,\\textsc{iii}]/H$\\alpha$ (MUSE)')\n",
    "rho,p=spearmanr(tmp['OIII5007']/tmp['Halpha'],tmp['OIII_muse']/tmp['Halpha_muse'],nan_policy='omit')\n",
    "print(f'OIII/Halpha: rho={rho:.2f}, p-value={p:.2g}')\n",
    "ax2.set_title(r'$\\rho=$'+f'{rho:.2f}, p-value={p:.2g}',fontsize=8)\n",
    "\n",
    "lim=[0,1.5]\n",
    "ax3.scatter(tmp['OII3726,29']/tmp['Halpha'],tmp['OII_muse']/tmp['Halpha_muse']/4)\n",
    "ax3.plot(lim,lim,color='black')\n",
    "ax3.set(xlim=lim,ylim=lim,xlabel=r'[O\\,\\textsc{ii}]/H$\\beta$ (TYPHOON)',ylabel=r'[O\\,\\textsc{ii}]/H$\\beta$ (MUSE) / 4')\n",
    "rho,p=spearmanr(tmp['OII3726,29']/tmp['Halpha'],tmp['OII_muse']/tmp['Halpha_muse'],nan_policy='omit')\n",
    "print(f'OII/Hbeta: rho={rho:.2f}, p-value={p:.2g}')\n",
    "ax3.set_title(r'$\\rho=$'+f'{rho:.2f}, p-value={p:.2g}',fontsize=8)\n",
    "\n",
    "plt.tight_layout()\n",
    "\n",
    "plt.show()"
   ]
  },
  {
   "cell_type": "code",
   "execution_count": null,
   "metadata": {},
   "outputs": [],
   "source": [
    "fig,ax=plt.subplots(figsize=(5,5))\n",
    "\n",
    "lim = [100,5e4]\n",
    "factor = 4\n",
    "\n",
    "ax.scatter(tmp['OII3726,29'],tmp['OII_muse']/factor)\n",
    "ax.plot(lim,lim,color='black')\n",
    "ax.set(xlim=lim,ylim=lim,xscale='log',yscale='log',\n",
    "       xlabel='[OII] (TYPHOON)',ylabel=f'[OII] (SITELLE)')\n",
    "plt.show()"
   ]
  },
  {
   "cell_type": "markdown",
   "metadata": {},
   "source": [
    "### use the reprojected regions to measure the flux"
   ]
  },
  {
   "cell_type": "code",
   "execution_count": null,
   "metadata": {},
   "outputs": [],
   "source": []
  },
  {
   "cell_type": "code",
   "execution_count": null,
   "metadata": {},
   "outputs": [],
   "source": [
    "typhoon_regions = Regions(typhoon_mask.data,projection=typhoon_mask.wcs)\n",
    "typhoon_regions_muse = typhoon_regions.reproject(Halpha.wcs,shape=Halpha.data.shape)"
   ]
  }
 ],
 "metadata": {
  "kernelspec": {
   "display_name": "Python 3",
   "language": "python",
   "name": "python3"
  },
  "language_info": {
   "codemirror_mode": {
    "name": "ipython",
    "version": 3
   },
   "file_extension": ".py",
   "mimetype": "text/x-python",
   "name": "python",
   "nbconvert_exporter": "python",
   "pygments_lexer": "ipython3",
   "version": "3.7.7"
  },
  "latex_envs": {
   "LaTeX_envs_menu_present": true,
   "autoclose": false,
   "autocomplete": true,
   "bibliofile": "biblio.bib",
   "cite_by": "apalike",
   "current_citInitial": 1,
   "eqLabelWithNumbers": true,
   "eqNumInitial": 1,
   "hotkeys": {
    "equation": "Ctrl-E",
    "itemize": "Ctrl-I"
   },
   "labels_anchors": false,
   "latex_user_defs": false,
   "report_style_numbering": false,
   "user_envs_cfg": false
  },
  "toc": {
   "base_numbering": 1,
   "nav_menu": {},
   "number_sections": true,
   "sideBar": true,
   "skip_h1_title": false,
   "title_cell": "Table of Contents",
   "title_sidebar": "Contents",
   "toc_cell": false,
   "toc_position": {},
   "toc_section_display": true,
   "toc_window_display": true
  }
 },
 "nbformat": 4,
 "nbformat_minor": 4
}
